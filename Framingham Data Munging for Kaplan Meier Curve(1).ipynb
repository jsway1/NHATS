{
 "cells": [
  {
   "cell_type": "code",
   "execution_count": null,
   "metadata": {},
   "outputs": [],
   "source": [
    "import pandas as pd \n",
    "import seaborn as sns \n",
    "import numpy as np\n",
    "import scipy as sp"
   ]
  },
  {
   "cell_type": "code",
   "execution_count": null,
   "metadata": {},
   "outputs": [],
   "source": [
    "df1 = pd.read_csv('Original Cohort .csv')\n",
    "df2 = pd.read_csv('Offspring Cohort.csv')"
   ]
  },
  {
   "cell_type": "code",
   "execution_count": null,
   "metadata": {},
   "outputs": [],
   "source": [
    "# Combining data from original and offspring cohorts \n",
    "\n",
    "total = df1.append(df2, ignore_index=True, sort=True)"
   ]
  },
  {
   "cell_type": "code",
   "execution_count": null,
   "metadata": {},
   "outputs": [],
   "source": [
    "# If subject bmi > 25 then subject classfied as overweight/obese \n",
    "conditions = [(total['bmi'] >= 25) , (total['bmi'] < 25)]\n",
    "choices = [1,0]\n",
    "total['obese'] = np.select(conditions, choices)"
   ]
  },
  {
   "cell_type": "code",
   "execution_count": null,
   "metadata": {},
   "outputs": [],
   "source": [
    "# Grouping data by subject ID \n",
    "grouped = total.groupby('PID')"
   ]
  },
  {
   "cell_type": "code",
   "execution_count": null,
   "metadata": {},
   "outputs": [],
   "source": [
    "# Loop through PID in grouped dataframe\n",
    "for PID, PID_total in grouped:\n",
    "    \n",
    "    maximum = grouped['yrs'].max() \n",
    "    minimum = grouped['yrs'].min()\n",
    "    # Time in study is difference between last year and first year \n",
    "    time = maximum - minimum\n",
    "    \n",
    "    for i in range(minimum, maximum):\n",
    "        \n",
    "        # If subject reported smoking at any time sum_smoking would be > 0 and smoker = 1\n",
    "        sum_smoking = grouped['smoking'].sum()\n",
    "        if (sum_smoking > 0) : smoker = 1\n",
    "             \n",
    "        # If subject reported drinking heavily at any time sum_drinking would be > 0 and drinking = 1        \n",
    "        sum_drinking = grouped['rf_etoh'].sum()\n",
    "        if (sum_drinking > 0) : drinking = 1\n",
    "              \n",
    "        # If subject reported early menopause at any time sum_meno would be > 0 and meno = 1          \n",
    "        sum_meno = grouped['early_meno'].sum()\n",
    "        if (sum_meno > 0) : meno = 1\n",
    "                \n",
    "        # If subject reported diabetes at any time sum_diab would be > 0 and diab = 1         \n",
    "        sum_diab = grouped['diab'].sum()\n",
    "        if (sum_diab > 0) : diabetes = 1\n",
    "           \n",
    "        # If subject reported being overweight at any time sum_obese would be > 0 and obese = 1\n",
    "        sum_obese = grouped['obese'].sum()\n",
    "        if (sum_obese > 0) : obese = 1"
   ]
  },
  {
   "cell_type": "code",
   "execution_count": null,
   "metadata": {},
   "outputs": [],
   "source": []
  }
 ],
 "metadata": {
  "kernelspec": {
   "display_name": "Python 3",
   "language": "python",
   "name": "python3"
  },
  "language_info": {
   "codemirror_mode": {
    "name": "ipython",
    "version": 3
   },
   "file_extension": ".py",
   "mimetype": "text/x-python",
   "name": "python",
   "nbconvert_exporter": "python",
   "pygments_lexer": "ipython3",
   "version": "3.7.0"
  }
 },
 "nbformat": 4,
 "nbformat_minor": 2
}
