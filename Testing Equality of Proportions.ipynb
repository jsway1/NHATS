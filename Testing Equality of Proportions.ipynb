{
 "cells": [
  {
   "cell_type": "code",
   "execution_count": 1,
   "metadata": {},
   "outputs": [],
   "source": [
    "import pandas as pd \n",
    "import seaborn as sns \n",
    "import numpy as np\n",
    "import scipy as sp"
   ]
  },
  {
   "cell_type": "code",
   "execution_count": 2,
   "metadata": {},
   "outputs": [],
   "source": [
    "# Importing the Datasets \n",
    "\n",
    "df1 = pd.read_csv('Round1.csv')\n",
    "df2 = pd.read_csv('Round2.csv')\n",
    "df3 = pd.read_csv('Round3.csv')\n",
    "df4 = pd.read_csv('Round4.csv')\n",
    "df5 = pd.read_csv('Round5.csv')\n",
    "df6 = pd.read_csv('Round6.csv')\n",
    "df7 = pd.read_csv('Round7.csv')"
   ]
  },
  {
   "cell_type": "code",
   "execution_count": 3,
   "metadata": {},
   "outputs": [],
   "source": [
    "# Merging the Datasets \n",
    "\n",
    "mergedset1 = pd.merge(df1, df2, on='spid',how='left')\n",
    "mergedset2 = pd.merge(mergedset1,df3,on='spid',how='left')\n",
    "mergedset3 = pd.merge(mergedset2,df4,on='spid',how='left')\n",
    "mergedset4 = pd.merge(mergedset3,df5,on='spid',how='left')\n",
    "mergedset5 = pd.merge(mergedset4,df6,on='spid',how='left')\n",
    "mergedset_final = pd.merge(mergedset5,df7,on='spid',how='left')"
   ]
  },
  {
   "cell_type": "code",
   "execution_count": 4,
   "metadata": {},
   "outputs": [],
   "source": [
    "total_patients_arthritis = mergedset_final"
   ]
  },
  {
   "cell_type": "code",
   "execution_count": 5,
   "metadata": {},
   "outputs": [],
   "source": [
    "# Converting the Age Variable from String to Int \n",
    "\n",
    "conditions = [(total_patients_arthritis['r1d2intvrage'] == '1 - 65-69') , (total_patients_arthritis['r1d2intvrage'] == '2 - 70-74'),\n",
    "    (total_patients_arthritis['r1d2intvrage'] == '3 - 75-79') , (total_patients_arthritis['r1d2intvrage'] == '4 - 80-84'),\n",
    "    (total_patients_arthritis['r1d2intvrage'] == '5 - 85-89'), (total_patients_arthritis['r1d2intvrage'] == '6 - 90 +')]\n",
    "choices = [1,2,3,4,5,6]\n",
    "total_patients_arthritis['Age'] = np.select(conditions, choices)"
   ]
  },
  {
   "cell_type": "code",
   "execution_count": 6,
   "metadata": {},
   "outputs": [],
   "source": [
    "# Assigning Numeric Value to Variable Gender\n",
    "\n",
    "total_patients_arthritis['Gender'] = np.where(total_patients_arthritis['r1dgender'] == '1 MALE', 1, 0)"
   ]
  },
  {
   "cell_type": "code",
   "execution_count": 7,
   "metadata": {},
   "outputs": [],
   "source": [
    "# Converting the Driving Variable from String to Int \n",
    "\n",
    "conditions = [(total_patients_arthritis['dt1oftedrive'] == '1 EVERY DAY (7 DAYS A WEEK)') , (total_patients_arthritis['dt1oftedrive'] == '2 MOST DAYS (5-6 DAYS A WEEK)'),\n",
    "    (total_patients_arthritis['dt1oftedrive'] == '3 SOME DAYS (2-4 DAYS A WEEK)') , (total_patients_arthritis['dt1oftedrive'] == '4 RARELY (ONCE A WEEK OR LESS)'),\n",
    "    (total_patients_arthritis['dt1oftedrive'] == '5 NEVER')]\n",
    "choices = [1,2,3,4,5]\n",
    "total_patients_arthritis['Drive_ScoreR1'] = np.select(conditions, choices)"
   ]
  },
  {
   "cell_type": "code",
   "execution_count": 8,
   "metadata": {},
   "outputs": [],
   "source": [
    "# Converting the Driving Variable from String to Int \n",
    "\n",
    "conditions = [(total_patients_arthritis['dt3oftedrive'] == '1 EVERY DAY (7 DAYS A WEEK)') , (total_patients_arthritis['dt3oftedrive'] == '2 MOST DAYS (5-6 DAYS A WEEK)'),\n",
    "    (total_patients_arthritis['dt3oftedrive'] == '3 SOME DAYS (2-4 DAYS A WEEK)') , (total_patients_arthritis['dt3oftedrive'] == '4 RARELY (ONCE A WEEK OR LESS)'),\n",
    "    (total_patients_arthritis['dt3oftedrive'] == '5 NEVER')]\n",
    "choices = [1,2,3,4,5]\n",
    "total_patients_arthritis['Drive_ScoreR3'] = np.select(conditions, choices)"
   ]
  },
  {
   "cell_type": "code",
   "execution_count": 9,
   "metadata": {},
   "outputs": [],
   "source": [
    "# Converting the Driving Variable from String to Int \n",
    "\n",
    "conditions = [(total_patients_arthritis['dt5oftedrive'] == '1 EVERY DAY (7 DAYS A WEEK)') , (total_patients_arthritis['dt5oftedrive'] == '2 MOST DAYS (5-6 DAYS A WEEK)'),\n",
    "    (total_patients_arthritis['dt5oftedrive'] == '3 SOME DAYS (2-4 DAYS A WEEK)') , (total_patients_arthritis['dt5oftedrive'] == '4 RARELY (ONCE A WEEK OR LESS)'),\n",
    "    (total_patients_arthritis['dt5oftedrive'] == '5 NEVER')]\n",
    "choices = [1,2,3,4,5]\n",
    "total_patients_arthritis['Drive_ScoreR5'] = np.select(conditions, choices)"
   ]
  },
  {
   "cell_type": "code",
   "execution_count": 10,
   "metadata": {},
   "outputs": [],
   "source": [
    "# Converting the Mobility Variable from String to Int \n",
    "\n",
    "conditions = [(total_patients_arthritis['mo1outoft'] == '1 EVERY DAY (7 DAYS A WEEK)') , (total_patients_arthritis['mo1outoft'] == '2 MOST DAYS (5-6 DAYS A WEEK)'),\n",
    "    (total_patients_arthritis['mo1outoft'] == '3 SOME DAYS (2-4 DAYS A WEEK)') , (total_patients_arthritis['mo1outoft'] == '4 RARELY (ONCE A WEEK OR LESS)'),\n",
    "    (total_patients_arthritis['mo1outoft'] == '5 NEVER')]\n",
    "choices = [1,2,3,4,5]\n",
    "total_patients_arthritis['MobilityR1'] = np.select(conditions, choices)"
   ]
  },
  {
   "cell_type": "code",
   "execution_count": 11,
   "metadata": {},
   "outputs": [],
   "source": [
    "# Converting the Mobility Variable from String to Int \n",
    "\n",
    "conditions = [(total_patients_arthritis['mo3outoft'] == '1 EVERY DAY (7 DAYS A WEEK)') , (total_patients_arthritis['mo3outoft'] == '2 MOST DAYS (5-6 DAYS A WEEK)'),\n",
    "    (total_patients_arthritis['mo3outoft'] == '3 SOME DAYS (2-4 DAYS A WEEK)') , (total_patients_arthritis['mo3outoft'] == '4 RARELY (ONCE A WEEK OR LESS)'),\n",
    "    (total_patients_arthritis['mo3outoft'] == '5 NEVER')]\n",
    "choices = [1,2,3,4,5]\n",
    "total_patients_arthritis['MobilityR3'] = np.select(conditions, choices)"
   ]
  },
  {
   "cell_type": "code",
   "execution_count": 12,
   "metadata": {},
   "outputs": [],
   "source": [
    "# Converting the Mobility Variable from String to Int \n",
    "\n",
    "conditions = [(total_patients_arthritis['mo5outoft'] == '1 EVERY DAY (7 DAYS A WEEK)') , (total_patients_arthritis['mo5outoft'] == '2 MOST DAYS (5-6 DAYS A WEEK)'),\n",
    "    (total_patients_arthritis['mo5outoft'] == '3 SOME DAYS (2-4 DAYS A WEEK)') , (total_patients_arthritis['mo5outoft'] == '4 RARELY (ONCE A WEEK OR LESS)'),\n",
    "    (total_patients_arthritis['mo5outoft'] == '5 NEVER')]\n",
    "choices = [1,2,3,4,5]\n",
    "total_patients_arthritis['MobilityR5'] = np.select(conditions, choices)"
   ]
  },
  {
   "cell_type": "code",
   "execution_count": 13,
   "metadata": {},
   "outputs": [],
   "source": [
    "# Creating a Variable Representing \"Working Status\" - If Patients Work for Pay or Volunteer HKF_Work_Vol = 1 else HKF_Work_Vol = 0\n",
    "\n",
    "conditions = [(total_patients_arthritis['pa1workfrpay'] == '1 YES'), (total_patients_arthritis['pa1workfrpay'] == '2 NO')]\n",
    "choices = [1, 0]\n",
    "total_patients_arthritis['pa1workfrpay'] = np.select(conditions, choices)\n",
    "\n",
    "conditions = [(total_patients_arthritis['pa1voltrwork'] == '1 YES') , (total_patients_arthritis['pa1voltrwork'] == '2 NO')]\n",
    "choices = [1, 0]\n",
    "total_patients_arthritis['pa1voltrwork'] = np.select(conditions, choices)\n",
    "\n",
    "total_patients_arthritis['HKF_Work_Vol'] = total_patients_arthritis['pa1voltrwork']+total_patients_arthritis['pa1workfrpay']\n",
    "                                                                                                             \n",
    "conditions = [(total_patients_arthritis['HKF_Work_Vol'] >= 1),(total_patients_arthritis['HKF_Work_Vol'] == 0)]\n",
    "choices = [1, 0]\n",
    "total_patients_arthritis['HKF_Work_Vol'] = np.select(conditions, choices)                                                                                                                                                                                       "
   ]
  },
  {
   "cell_type": "code",
   "execution_count": 14,
   "metadata": {},
   "outputs": [],
   "source": [
    "# Creating a Variable Representing \"Working Status\" - If Patients Work for Pay or Volunteer HKF_Work_Volr3 = 1 else HKF_Work_Volr3 = 0\n",
    "\n",
    "conditions = [(total_patients_arthritis['pa3workfrpay'] == '1 YES') , (total_patients_arthritis['pa3workfrpay'] == '2 NO')]\n",
    "choices = [1, 0]\n",
    "total_patients_arthritis['pa3workfrpay'] = np.select(conditions, choices)\n",
    "\n",
    "\n",
    "conditions = [(total_patients_arthritis['pa3voltrwork'] == '1 YES') , (total_patients_arthritis['pa3voltrwork'] == '2 NO')]\n",
    "choices = [1, 0]\n",
    "total_patients_arthritis['pa3voltrwork'] = np.select(conditions, choices)\n",
    "\n",
    "total_patients_arthritis['HKF_Work_VolR3'] = total_patients_arthritis['pa3voltrwork']+total_patients_arthritis['pa3workfrpay']\n",
    "                                                                                                             \n",
    "conditions = [(total_patients_arthritis['HKF_Work_VolR3'] >= 1),(total_patients_arthritis['HKF_Work_VolR3'] == 0)]\n",
    "choices = [1, 0]\n",
    "total_patients_arthritis['HKF_Work_VolR3'] = np.select(conditions, choices)   "
   ]
  },
  {
   "cell_type": "code",
   "execution_count": 15,
   "metadata": {},
   "outputs": [],
   "source": [
    "# Creating a Variable Representing \"Working Status\" - If Patients Work for Pay or Volunteer HKF_Work_VolR5 = 1 else HKF_Work_VolR5 = 0\n",
    "\n",
    "conditions = [(total_patients_arthritis['pa5workfrpay'] == '1 YES') , (total_patients_arthritis['pa5workfrpay'] == '2 NO')]\n",
    "choices = [1, 0]\n",
    "total_patients_arthritis['pa5workfrpay'] = np.select(conditions, choices)\n",
    "\n",
    "\n",
    "conditions = [(total_patients_arthritis['pa5voltrwork'] == '1 YES') , (total_patients_arthritis['pa5voltrwork'] == '2 NO')]\n",
    "choices = [1, 0]\n",
    "total_patients_arthritis['pa5voltrwork'] = np.select(conditions, choices)\n",
    "\n",
    "total_patients_arthritis['HKF_Work_VolR5'] = total_patients_arthritis['pa5voltrwork']+total_patients_arthritis['pa5workfrpay']\n",
    "                                                                                                             \n",
    "conditions = [(total_patients_arthritis['HKF_Work_VolR5'] >= 1),(total_patients_arthritis['HKF_Work_VolR5'] == 0)]\n",
    "choices = [1, 0]\n",
    "total_patients_arthritis['HKF_Work_VolR5'] = np.select(conditions, choices)   "
   ]
  },
  {
   "cell_type": "code",
   "execution_count": 16,
   "metadata": {},
   "outputs": [],
   "source": [
    "# Separating Individuals with TJR from those Without TJR\n",
    "\n",
    "total_patients_arthritis['Hip_FractureR1'] = np.where(total_patients_arthritis['hc1brokebon1'] == '1 YES', 1, 0)\n",
    "total_patients_arthritis['Hip_Fracture2'] = np.where(total_patients_arthritis['hc2brokebon1'] == '1 YES', 1, 0)\n",
    "total_patients_arthritis['Hip_Fracture3'] = np.where(total_patients_arthritis['hc3brokebon1'] == '1 YES', 1, 0)\n",
    "total_patients_arthritis['Hip_FractureR1R3'] = np.where(total_patients_arthritis['Hip_Fracture2']+total_patients_arthritis['Hip_Fracture3'] >= 1, 1, 0)\n",
    "\n",
    "total_patients_arthritis['Hip_Fracture4'] = np.where(total_patients_arthritis['hc4brokebon1'] == '1 YES', 1, 0)\n",
    "total_patients_arthritis['Hip_Fracture5'] = np.where(total_patients_arthritis['hc5brokebon1'] == '1 YES', 1, 0)\n",
    "total_patients_arthritis['Hip_FractureR3R5'] = np.where(total_patients_arthritis['Hip_Fracture4']+total_patients_arthritis['Hip_Fracture5'] >= 1, 1, 0)"
   ]
  },
  {
   "cell_type": "code",
   "execution_count": 17,
   "metadata": {},
   "outputs": [],
   "source": [
    "# Creating a Variable for Joint Replacement (Hip and/or Knee) Status\n",
    "\n",
    "total_patients_arthritis['THR'] = np.where(total_patients_arthritis['hc1hipsurg'] == '1 YES', 1, 0)\n",
    "total_patients_arthritis['TKR'] = np.where(total_patients_arthritis['hc1kneesurg'] == '1 YES', 1, 0) \n",
    "total_patients_arthritis['TJR'] = np.where(total_patients_arthritis['THR']+total_patients_arthritis['TKR'] >= 1, 'Yes', 'No')"
   ]
  },
  {
   "cell_type": "code",
   "execution_count": 18,
   "metadata": {},
   "outputs": [],
   "source": [
    "# Converting the Depression 1 Q1 Variable - Little Interest or Pleasure in Doing Things\n",
    "\n",
    "conditions = [(total_patients_arthritis['hc1depresan1'] == '1 NOT AT ALL') , (total_patients_arthritis['hc1depresan1'] == '2 SEVERAL DAYS'),\n",
    "    (total_patients_arthritis['hc1depresan1'] == '3 MORE THAN HALF THE DAYS') , (total_patients_arthritis['hc1depresan1'] == '4 NEARLY EVERY DAY')]\n",
    "choices = ['Never','Some Days','More than Half the Days', 'Nearly Every Day']\n",
    "total_patients_arthritis['hc1depresan1'] = np.select(conditions, choices)"
   ]
  },
  {
   "cell_type": "code",
   "execution_count": 19,
   "metadata": {},
   "outputs": [],
   "source": [
    "# Converting the Depression 3 Q1 Variable - Little Interest or Pleasure in Doing Things\n",
    "\n",
    "conditions = [(total_patients_arthritis['hc3depresan1'] == '1 NOT AT ALL') , (total_patients_arthritis['hc3depresan1'] == '2 SEVERAL DAYS'),\n",
    "    (total_patients_arthritis['hc3depresan1'] == '3 MORE THAN HALF THE DAYS') , (total_patients_arthritis['hc3depresan1'] == '4 NEARLY EVERY DAY')]\n",
    "choices = ['Never','Some Days','More than Half the Days', 'Nearly Every Day']\n",
    "total_patients_arthritis['hc3depresan1'] = np.select(conditions, choices)"
   ]
  },
  {
   "cell_type": "code",
   "execution_count": 20,
   "metadata": {},
   "outputs": [],
   "source": [
    "# Converting the Depression 5 Q1 Variable - Little Interest or Pleasure in Doing Things\n",
    "\n",
    "conditions = [(total_patients_arthritis['hc5depresan1'] == '1 NOT AT ALL') , (total_patients_arthritis['hc5depresan1'] == '2 SEVERAL DAYS'),\n",
    "    (total_patients_arthritis['hc5depresan1'] == '3 MORE THAN HALF THE DAYS') , (total_patients_arthritis['hc5depresan1'] == '4 NEARLY EVERY DAY')]\n",
    "choices = ['Never','Some Days','More than Half the Days', 'Nearly Every Day']\n",
    "total_patients_arthritis['hc5depresan1'] = np.select(conditions, choices)"
   ]
  },
  {
   "cell_type": "code",
   "execution_count": 21,
   "metadata": {},
   "outputs": [],
   "source": [
    "# Converting the Depression 1 Q2 Variable - Feeling Down, Depressed, or Hopeless\n",
    "\n",
    "conditions = [(total_patients_arthritis['hc1depresan2'] == '1 NOT AT ALL') , (total_patients_arthritis['hc1depresan2'] == '2 SEVERAL DAYS'),\n",
    "    (total_patients_arthritis['hc1depresan2'] == '3 MORE THAN HALF THE DAYS') , (total_patients_arthritis['hc1depresan2'] == '4 NEARLY EVERY DAY')]\n",
    "choices = ['Never','Some Days','More than Half the Days', 'Nearly Every Day']\n",
    "total_patients_arthritis['hc1depresan2'] = np.select(conditions, choices)"
   ]
  },
  {
   "cell_type": "code",
   "execution_count": 22,
   "metadata": {},
   "outputs": [],
   "source": [
    "# Converting the Depression 3 Q2 Variable - Feeling Down, Depressed, or Hopeless\n",
    "\n",
    "conditions = [(total_patients_arthritis['hc3depresan2'] == '1 NOT AT ALL') , (total_patients_arthritis['hc3depresan2'] == '2 SEVERAL DAYS'),\n",
    "    (total_patients_arthritis['hc3depresan2'] == '3 MORE THAN HALF THE DAYS') , (total_patients_arthritis['hc3depresan2'] == '4 NEARLY EVERY DAY')]\n",
    "choices = ['Never','Some Days','More than Half the Days', 'Nearly Every Day']\n",
    "total_patients_arthritis['hc3depresan2'] = np.select(conditions, choices)"
   ]
  },
  {
   "cell_type": "code",
   "execution_count": 23,
   "metadata": {},
   "outputs": [],
   "source": [
    "# Converting the Depression 5 Q2 Variable - Feeling Down, Depressed, or Hopeless\n",
    "\n",
    "conditions = [(total_patients_arthritis['hc5depresan2'] == '1 NOT AT ALL') , (total_patients_arthritis['hc5depresan2'] == '2 SEVERAL DAYS'),\n",
    "    (total_patients_arthritis['hc5depresan2'] == '3 MORE THAN HALF THE DAYS') , (total_patients_arthritis['hc5depresan2'] == '4 NEARLY EVERY DAY')]\n",
    "choices = ['Never','Some Days','More than Half the Days', 'Nearly Every Day']\n",
    "total_patients_arthritis['hc5depresan2'] = np.select(conditions, choices)"
   ]
  },
  {
   "cell_type": "code",
   "execution_count": 24,
   "metadata": {},
   "outputs": [],
   "source": [
    "# Converting the Depression 1 Q3 Variable - Felt Nervous, Anxious, or On Edge \n",
    "\n",
    "conditions = [(total_patients_arthritis['hc1depresan3'] == '1 NOT AT ALL') , (total_patients_arthritis['hc1depresan3'] == '2 SEVERAL DAYS'),\n",
    "    (total_patients_arthritis['hc1depresan3'] == '3 MORE THAN HALF THE DAYS') , (total_patients_arthritis['hc1depresan3'] == '4 NEARLY EVERY DAY')]\n",
    "choices = ['Never','Some Days','More than Half the Days', 'Nearly Every Day']\n",
    "total_patients_arthritis['hc1depresan3'] = np.select(conditions, choices)"
   ]
  },
  {
   "cell_type": "code",
   "execution_count": 25,
   "metadata": {},
   "outputs": [],
   "source": [
    "# Converting the Depression 3 Q3 Variable - Felt Nervous, Anxious, or On Edge \n",
    "\n",
    "conditions = [(total_patients_arthritis['hc3depresan3'] == '1 NOT AT ALL') , (total_patients_arthritis['hc3depresan3'] == '2 SEVERAL DAYS'),\n",
    "    (total_patients_arthritis['hc3depresan3'] == '3 MORE THAN HALF THE DAYS') , (total_patients_arthritis['hc3depresan3'] == '4 NEARLY EVERY DAY')]\n",
    "choices = ['Never','Some Days','More than Half the Days', 'Nearly Every Day']\n",
    "total_patients_arthritis['hc3depresan3'] = np.select(conditions, choices)"
   ]
  },
  {
   "cell_type": "code",
   "execution_count": 26,
   "metadata": {},
   "outputs": [],
   "source": [
    "# Converting the Depression 5 Q3 Variable - Felt Nervous, Anxious, or On Edge \n",
    "\n",
    "conditions = [(total_patients_arthritis['hc5depresan3'] == '1 NOT AT ALL') , (total_patients_arthritis['hc5depresan3'] == '2 SEVERAL DAYS'),\n",
    "    (total_patients_arthritis['hc5depresan3'] == '3 MORE THAN HALF THE DAYS') , (total_patients_arthritis['hc5depresan3'] == '4 NEARLY EVERY DAY')]\n",
    "choices = ['Never','Some Days','More than Half the Days', 'Nearly Every Day']\n",
    "total_patients_arthritis['hc5depresan3'] = np.select(conditions, choices)"
   ]
  },
  {
   "cell_type": "code",
   "execution_count": 27,
   "metadata": {},
   "outputs": [],
   "source": [
    "# Converting the Depression 1 Q4 Variable - Unable to Stop or Control Worry\n",
    "\n",
    "conditions = [(total_patients_arthritis['hc1depresan4'] == '1 NOT AT ALL') , (total_patients_arthritis['hc1depresan4'] == '2 SEVERAL DAYS'),\n",
    "    (total_patients_arthritis['hc1depresan4'] == '3 MORE THAN HALF THE DAYS') , (total_patients_arthritis['hc1depresan4'] == '4 NEARLY EVERY DAY')]\n",
    "choices = ['Never','Some Days','More than Half the Days', 'Nearly Every Day']\n",
    "total_patients_arthritis['hc1depresan4'] = np.select(conditions, choices)"
   ]
  },
  {
   "cell_type": "code",
   "execution_count": 28,
   "metadata": {},
   "outputs": [],
   "source": [
    "# Converting the Depression 3 Q4 Variable - Unable to Stop or Control Worry\n",
    "\n",
    "conditions = [(total_patients_arthritis['hc3depresan4'] == '1 NOT AT ALL') , (total_patients_arthritis['hc3depresan4'] == '2 SEVERAL DAYS'),\n",
    "    (total_patients_arthritis['hc3depresan4'] == '3 MORE THAN HALF THE DAYS') , (total_patients_arthritis['hc3depresan4'] == '4 NEARLY EVERY DAY')]\n",
    "choices = ['Never','Some Days','More than Half the Days', 'Nearly Every Day']\n",
    "total_patients_arthritis['hc3depresan4'] = np.select(conditions, choices)"
   ]
  },
  {
   "cell_type": "code",
   "execution_count": 29,
   "metadata": {},
   "outputs": [],
   "source": [
    "# Converting the Depression 5 Q4 Variable - Unable to Stop or Control Worry\n",
    "\n",
    "conditions = [(total_patients_arthritis['hc5depresan4'] == '1 NOT AT ALL') , (total_patients_arthritis['hc5depresan4'] == '2 SEVERAL DAYS'),\n",
    "    (total_patients_arthritis['hc5depresan4'] == '3 MORE THAN HALF THE DAYS') , (total_patients_arthritis['hc5depresan4'] == '4 NEARLY EVERY DAY')]\n",
    "choices = ['Never','Some Days','More than Half the Days', 'Nearly Every Day']\n",
    "total_patients_arthritis['hc5depresan4'] = np.select(conditions, choices)"
   ]
  },
  {
   "cell_type": "code",
   "execution_count": 30,
   "metadata": {},
   "outputs": [],
   "source": [
    "# Medical Debt Number Round 1 \n",
    "\n",
    "conditions = [(total_patients_arthritis['ew1ampadovrt'] == '1 less than $500,') , (total_patients_arthritis['ew1ampadovrt'] == '2 over $500 but less than $1,000,'),\n",
    "    (total_patients_arthritis['ew1ampadovrt'] == '3 over $1,000 but less than $2,000,') , (total_patients_arthritis['ew1ampadovrt'] == '4 over $2,000 but less than $4,000,'),(total_patients_arthritis['ew1ampadovrt'] == '5 over $4,000 but less than $6,000,'),(total_patients_arthritis['ew1ampadovrt'] == '6 over $6,000 but less than $10,000,'),(total_patients_arthritis['ew1ampadovrt'] == '7 over $10,000 but less than $20,000,'),(total_patients_arthritis['ew1ampadovrt'] == '8 $20,000 or more?')]\n",
    "\n",
    "choices = ['< 500','500-1,000','1,000-2,000','2,000-4,000','4,000-6,000','6,000-10,000','10,000-20,000','> 20,000']\n",
    "total_patients_arthritis['ew1ampadovrt'] = np.select(conditions, choices)"
   ]
  },
  {
   "cell_type": "code",
   "execution_count": 31,
   "metadata": {},
   "outputs": [],
   "source": [
    "# Medical Debt Number Round 3 \n",
    "\n",
    "conditions = [(total_patients_arthritis['ew3ampadovrt'] == '1 less than $500,') , (total_patients_arthritis['ew3ampadovrt'] == '2 over $500 but less than $1,000,'),\n",
    "    (total_patients_arthritis['ew3ampadovrt'] == '3 over $1,000 but less than $2,000,') , (total_patients_arthritis['ew3ampadovrt'] == '4 over $2,000 but less than $4,000,'),(total_patients_arthritis['ew3ampadovrt'] == '5 over $4,000 but less than $6,000,'),(total_patients_arthritis['ew3ampadovrt'] == '6 over $6,000 but less than $10,000,'),(total_patients_arthritis['ew3ampadovrt'] == '7 over $10,000 but less than $20,000,'),(total_patients_arthritis['ew3ampadovrt'] == '8 $20,000 or more?')]\n",
    "\n",
    "choices = ['< 500','500-1,000','1,000-2,000','2,000-4,000','4,000-6,000','6,000-10,000','10,000-20,000','> 20,000']\n",
    "total_patients_arthritis['ew3ampadovrt'] = np.select(conditions, choices)"
   ]
  },
  {
   "cell_type": "code",
   "execution_count": 32,
   "metadata": {},
   "outputs": [],
   "source": [
    "# Medical Debt Number Round 5 \n",
    "\n",
    "conditions = [(total_patients_arthritis['ew5ampadovrt'] == '1 less than $500,') , (total_patients_arthritis['ew5ampadovrt'] == '2 over $500 but less than $1,000,'),\n",
    "    (total_patients_arthritis['ew5ampadovrt'] == '3 over $1,000 but less than $2,000,') , (total_patients_arthritis['ew5ampadovrt'] == '4 over $2,000 but less than $4,000,'),(total_patients_arthritis['ew5ampadovrt'] == '5 over $4,000 but less than $6,000,'),(total_patients_arthritis['ew5ampadovrt'] == '6 over $6,000 but less than $10,000,'),(total_patients_arthritis['ew5ampadovrt'] == '7 over $10,000 but less than $20,000,'),(total_patients_arthritis['ew5ampadovrt'] == '8 $20,000 or more?')]\n",
    "\n",
    "choices = ['< 500','500-1,000','1,000-2,000','2,000-4,000','4,000-6,000','6,000-10,000','10,000-20,000','> 20,000']\n",
    "total_patients_arthritis['ew5ampadovrt'] = np.select(conditions, choices)"
   ]
  },
  {
   "cell_type": "code",
   "execution_count": 33,
   "metadata": {},
   "outputs": [],
   "source": [
    "# Medical Debt Round 1 \n",
    "\n",
    "#conditions = [(total_patients_arthritis['ew1medpaovtm'] == '1 YES') , (total_patients_arthritis['ew1medpaovtm'] == '2 NO')]\n",
    "#choices = [1, 0]\n",
    "#total_patients_arthritis['ew1medpaovtm'] = np.select(conditions, choices)"
   ]
  },
  {
   "cell_type": "code",
   "execution_count": 34,
   "metadata": {},
   "outputs": [],
   "source": [
    "# Medical Debt Round 3\n",
    "\n",
    "#conditions = [(total_patients_arthritis['ew3medpaovtm'] == '1 YES') , (total_patients_arthritis['ew3medpaovtm'] == '2 NO')]\n",
    "#choices = [1, 0]\n",
    "#total_patients_arthritis['ew3medpaovtm'] = np.select(conditions, choices)"
   ]
  },
  {
   "cell_type": "code",
   "execution_count": 35,
   "metadata": {},
   "outputs": [],
   "source": [
    "# Medical Debt Round 5\n",
    "\n",
    "#conditions = [(total_patients_arthritis['ew5medpaovtm'] == '1 YES') , (total_patients_arthritis['ew5medpaovtm'] == '2 NO')]\n",
    "#choices = [1, 0]\n",
    "#total_patients_arthritis['ew5medpaovtm'] = np.select(conditions, choices)"
   ]
  },
  {
   "cell_type": "code",
   "execution_count": null,
   "metadata": {},
   "outputs": [],
   "source": []
  },
  {
   "cell_type": "code",
   "execution_count": null,
   "metadata": {},
   "outputs": [],
   "source": []
  },
  {
   "cell_type": "code",
   "execution_count": 36,
   "metadata": {},
   "outputs": [
    {
     "data": {
      "text/html": [
       "<div>\n",
       "<style scoped>\n",
       "    .dataframe tbody tr th:only-of-type {\n",
       "        vertical-align: middle;\n",
       "    }\n",
       "\n",
       "    .dataframe tbody tr th {\n",
       "        vertical-align: top;\n",
       "    }\n",
       "\n",
       "    .dataframe thead th {\n",
       "        text-align: right;\n",
       "    }\n",
       "</style>\n",
       "<table border=\"1\" class=\"dataframe\">\n",
       "  <thead>\n",
       "    <tr style=\"text-align: right;\">\n",
       "      <th>MobilityR1</th>\n",
       "      <th>0</th>\n",
       "      <th>1</th>\n",
       "      <th>2</th>\n",
       "      <th>3</th>\n",
       "      <th>4</th>\n",
       "      <th>5</th>\n",
       "      <th>All</th>\n",
       "    </tr>\n",
       "    <tr>\n",
       "      <th>Hip_FractureR1</th>\n",
       "      <th></th>\n",
       "      <th></th>\n",
       "      <th></th>\n",
       "      <th></th>\n",
       "      <th></th>\n",
       "      <th></th>\n",
       "      <th></th>\n",
       "    </tr>\n",
       "  </thead>\n",
       "  <tbody>\n",
       "    <tr>\n",
       "      <th>0</th>\n",
       "      <td>642</td>\n",
       "      <td>4684</td>\n",
       "      <td>1173</td>\n",
       "      <td>883</td>\n",
       "      <td>368</td>\n",
       "      <td>116</td>\n",
       "      <td>7866</td>\n",
       "    </tr>\n",
       "    <tr>\n",
       "      <th>1</th>\n",
       "      <td>0</td>\n",
       "      <td>170</td>\n",
       "      <td>53</td>\n",
       "      <td>79</td>\n",
       "      <td>60</td>\n",
       "      <td>17</td>\n",
       "      <td>379</td>\n",
       "    </tr>\n",
       "    <tr>\n",
       "      <th>All</th>\n",
       "      <td>642</td>\n",
       "      <td>4854</td>\n",
       "      <td>1226</td>\n",
       "      <td>962</td>\n",
       "      <td>428</td>\n",
       "      <td>133</td>\n",
       "      <td>8245</td>\n",
       "    </tr>\n",
       "  </tbody>\n",
       "</table>\n",
       "</div>"
      ],
      "text/plain": [
       "MobilityR1        0     1     2    3    4    5   All\n",
       "Hip_FractureR1                                      \n",
       "0               642  4684  1173  883  368  116  7866\n",
       "1                 0   170    53   79   60   17   379\n",
       "All             642  4854  1226  962  428  133  8245"
      ]
     },
     "execution_count": 36,
     "metadata": {},
     "output_type": "execute_result"
    }
   ],
   "source": [
    "# Frequency tables\n",
    "table1 = pd.crosstab(index=total_patients_arthritis[\"Hip_FractureR1\"], \n",
    "                            columns=total_patients_arthritis[\"MobilityR1\"],\n",
    "                             margins=True)  \n",
    "table1"
   ]
  },
  {
   "cell_type": "code",
   "execution_count": 37,
   "metadata": {},
   "outputs": [
    {
     "data": {
      "text/html": [
       "<div>\n",
       "<style scoped>\n",
       "    .dataframe tbody tr th:only-of-type {\n",
       "        vertical-align: middle;\n",
       "    }\n",
       "\n",
       "    .dataframe tbody tr th {\n",
       "        vertical-align: top;\n",
       "    }\n",
       "\n",
       "    .dataframe thead th {\n",
       "        text-align: right;\n",
       "    }\n",
       "</style>\n",
       "<table border=\"1\" class=\"dataframe\">\n",
       "  <thead>\n",
       "    <tr style=\"text-align: right;\">\n",
       "      <th>HKF_Work_Vol</th>\n",
       "      <th>0</th>\n",
       "      <th>1</th>\n",
       "      <th>All</th>\n",
       "    </tr>\n",
       "    <tr>\n",
       "      <th>Hip_FractureR1</th>\n",
       "      <th></th>\n",
       "      <th></th>\n",
       "      <th></th>\n",
       "    </tr>\n",
       "  </thead>\n",
       "  <tbody>\n",
       "    <tr>\n",
       "      <th>0</th>\n",
       "      <td>5505</td>\n",
       "      <td>2361</td>\n",
       "      <td>7866</td>\n",
       "    </tr>\n",
       "    <tr>\n",
       "      <th>1</th>\n",
       "      <td>317</td>\n",
       "      <td>62</td>\n",
       "      <td>379</td>\n",
       "    </tr>\n",
       "    <tr>\n",
       "      <th>All</th>\n",
       "      <td>5822</td>\n",
       "      <td>2423</td>\n",
       "      <td>8245</td>\n",
       "    </tr>\n",
       "  </tbody>\n",
       "</table>\n",
       "</div>"
      ],
      "text/plain": [
       "HKF_Work_Vol       0     1   All\n",
       "Hip_FractureR1                  \n",
       "0               5505  2361  7866\n",
       "1                317    62   379\n",
       "All             5822  2423  8245"
      ]
     },
     "execution_count": 37,
     "metadata": {},
     "output_type": "execute_result"
    }
   ],
   "source": [
    "# Frequency tables\n",
    "table1 = pd.crosstab(index=total_patients_arthritis[\"Hip_FractureR1\"], \n",
    "                            columns=total_patients_arthritis[\"HKF_Work_Vol\"],\n",
    "                             margins=True)  \n",
    "table1"
   ]
  },
  {
   "cell_type": "code",
   "execution_count": 38,
   "metadata": {},
   "outputs": [
    {
     "data": {
      "text/html": [
       "<div>\n",
       "<style scoped>\n",
       "    .dataframe tbody tr th:only-of-type {\n",
       "        vertical-align: middle;\n",
       "    }\n",
       "\n",
       "    .dataframe tbody tr th {\n",
       "        vertical-align: top;\n",
       "    }\n",
       "\n",
       "    .dataframe thead th {\n",
       "        text-align: right;\n",
       "    }\n",
       "</style>\n",
       "<table border=\"1\" class=\"dataframe\">\n",
       "  <thead>\n",
       "    <tr style=\"text-align: right;\">\n",
       "      <th>HKF_Work_VolR3</th>\n",
       "      <th>0</th>\n",
       "      <th>1</th>\n",
       "      <th>All</th>\n",
       "    </tr>\n",
       "    <tr>\n",
       "      <th>Hip_FractureR1</th>\n",
       "      <th></th>\n",
       "      <th></th>\n",
       "      <th></th>\n",
       "    </tr>\n",
       "  </thead>\n",
       "  <tbody>\n",
       "    <tr>\n",
       "      <th>0</th>\n",
       "      <td>6344</td>\n",
       "      <td>1522</td>\n",
       "      <td>7866</td>\n",
       "    </tr>\n",
       "    <tr>\n",
       "      <th>1</th>\n",
       "      <td>341</td>\n",
       "      <td>38</td>\n",
       "      <td>379</td>\n",
       "    </tr>\n",
       "    <tr>\n",
       "      <th>All</th>\n",
       "      <td>6685</td>\n",
       "      <td>1560</td>\n",
       "      <td>8245</td>\n",
       "    </tr>\n",
       "  </tbody>\n",
       "</table>\n",
       "</div>"
      ],
      "text/plain": [
       "HKF_Work_VolR3     0     1   All\n",
       "Hip_FractureR1                  \n",
       "0               6344  1522  7866\n",
       "1                341    38   379\n",
       "All             6685  1560  8245"
      ]
     },
     "execution_count": 38,
     "metadata": {},
     "output_type": "execute_result"
    }
   ],
   "source": [
    "# Frequency tables\n",
    "table1 = pd.crosstab(index=total_patients_arthritis[\"Hip_FractureR1\"], \n",
    "                            columns=total_patients_arthritis[\"HKF_Work_VolR3\"],\n",
    "                             margins=True)  \n",
    "table1"
   ]
  },
  {
   "cell_type": "code",
   "execution_count": 39,
   "metadata": {},
   "outputs": [
    {
     "data": {
      "text/html": [
       "<div>\n",
       "<style scoped>\n",
       "    .dataframe tbody tr th:only-of-type {\n",
       "        vertical-align: middle;\n",
       "    }\n",
       "\n",
       "    .dataframe tbody tr th {\n",
       "        vertical-align: top;\n",
       "    }\n",
       "\n",
       "    .dataframe thead th {\n",
       "        text-align: right;\n",
       "    }\n",
       "</style>\n",
       "<table border=\"1\" class=\"dataframe\">\n",
       "  <thead>\n",
       "    <tr style=\"text-align: right;\">\n",
       "      <th>HKF_Work_VolR5</th>\n",
       "      <th>0</th>\n",
       "      <th>1</th>\n",
       "      <th>All</th>\n",
       "    </tr>\n",
       "    <tr>\n",
       "      <th>Hip_FractureR1</th>\n",
       "      <th></th>\n",
       "      <th></th>\n",
       "      <th></th>\n",
       "    </tr>\n",
       "  </thead>\n",
       "  <tbody>\n",
       "    <tr>\n",
       "      <th>0</th>\n",
       "      <td>6728</td>\n",
       "      <td>1138</td>\n",
       "      <td>7866</td>\n",
       "    </tr>\n",
       "    <tr>\n",
       "      <th>1</th>\n",
       "      <td>354</td>\n",
       "      <td>25</td>\n",
       "      <td>379</td>\n",
       "    </tr>\n",
       "    <tr>\n",
       "      <th>All</th>\n",
       "      <td>7082</td>\n",
       "      <td>1163</td>\n",
       "      <td>8245</td>\n",
       "    </tr>\n",
       "  </tbody>\n",
       "</table>\n",
       "</div>"
      ],
      "text/plain": [
       "HKF_Work_VolR5     0     1   All\n",
       "Hip_FractureR1                  \n",
       "0               6728  1138  7866\n",
       "1                354    25   379\n",
       "All             7082  1163  8245"
      ]
     },
     "execution_count": 39,
     "metadata": {},
     "output_type": "execute_result"
    }
   ],
   "source": [
    "# Frequency tables\n",
    "table1 = pd.crosstab(index=total_patients_arthritis[\"Hip_FractureR1\"], \n",
    "                            columns=total_patients_arthritis[\"HKF_Work_VolR5\"],\n",
    "                             margins=True)  \n",
    "table1"
   ]
  },
  {
   "cell_type": "code",
   "execution_count": 40,
   "metadata": {},
   "outputs": [
    {
     "data": {
      "text/html": [
       "<div>\n",
       "<style scoped>\n",
       "    .dataframe tbody tr th:only-of-type {\n",
       "        vertical-align: middle;\n",
       "    }\n",
       "\n",
       "    .dataframe tbody tr th {\n",
       "        vertical-align: top;\n",
       "    }\n",
       "\n",
       "    .dataframe thead th {\n",
       "        text-align: right;\n",
       "    }\n",
       "</style>\n",
       "<table border=\"1\" class=\"dataframe\">\n",
       "  <thead>\n",
       "    <tr style=\"text-align: right;\">\n",
       "      <th>HKF_Work_VolR3</th>\n",
       "      <th>0</th>\n",
       "      <th>1</th>\n",
       "      <th>All</th>\n",
       "    </tr>\n",
       "    <tr>\n",
       "      <th>Hip_FractureR1R3</th>\n",
       "      <th></th>\n",
       "      <th></th>\n",
       "      <th></th>\n",
       "    </tr>\n",
       "  </thead>\n",
       "  <tbody>\n",
       "    <tr>\n",
       "      <th>0</th>\n",
       "      <td>6553</td>\n",
       "      <td>1536</td>\n",
       "      <td>8089</td>\n",
       "    </tr>\n",
       "    <tr>\n",
       "      <th>1</th>\n",
       "      <td>132</td>\n",
       "      <td>24</td>\n",
       "      <td>156</td>\n",
       "    </tr>\n",
       "    <tr>\n",
       "      <th>All</th>\n",
       "      <td>6685</td>\n",
       "      <td>1560</td>\n",
       "      <td>8245</td>\n",
       "    </tr>\n",
       "  </tbody>\n",
       "</table>\n",
       "</div>"
      ],
      "text/plain": [
       "HKF_Work_VolR3       0     1   All\n",
       "Hip_FractureR1R3                  \n",
       "0                 6553  1536  8089\n",
       "1                  132    24   156\n",
       "All               6685  1560  8245"
      ]
     },
     "execution_count": 40,
     "metadata": {},
     "output_type": "execute_result"
    }
   ],
   "source": [
    "# Frequency tables\n",
    "table1 = pd.crosstab(index=total_patients_arthritis[\"Hip_FractureR1R3\"], \n",
    "                            columns=total_patients_arthritis[\"HKF_Work_VolR3\"],\n",
    "                             margins=True)  \n",
    "table1"
   ]
  },
  {
   "cell_type": "code",
   "execution_count": 41,
   "metadata": {},
   "outputs": [
    {
     "data": {
      "text/html": [
       "<div>\n",
       "<style scoped>\n",
       "    .dataframe tbody tr th:only-of-type {\n",
       "        vertical-align: middle;\n",
       "    }\n",
       "\n",
       "    .dataframe tbody tr th {\n",
       "        vertical-align: top;\n",
       "    }\n",
       "\n",
       "    .dataframe thead th {\n",
       "        text-align: right;\n",
       "    }\n",
       "</style>\n",
       "<table border=\"1\" class=\"dataframe\">\n",
       "  <thead>\n",
       "    <tr style=\"text-align: right;\">\n",
       "      <th>HKF_Work_VolR5</th>\n",
       "      <th>0</th>\n",
       "      <th>1</th>\n",
       "      <th>All</th>\n",
       "    </tr>\n",
       "    <tr>\n",
       "      <th>Hip_FractureR1R3</th>\n",
       "      <th></th>\n",
       "      <th></th>\n",
       "      <th></th>\n",
       "    </tr>\n",
       "  </thead>\n",
       "  <tbody>\n",
       "    <tr>\n",
       "      <th>0</th>\n",
       "      <td>6932</td>\n",
       "      <td>1157</td>\n",
       "      <td>8089</td>\n",
       "    </tr>\n",
       "    <tr>\n",
       "      <th>1</th>\n",
       "      <td>150</td>\n",
       "      <td>6</td>\n",
       "      <td>156</td>\n",
       "    </tr>\n",
       "    <tr>\n",
       "      <th>All</th>\n",
       "      <td>7082</td>\n",
       "      <td>1163</td>\n",
       "      <td>8245</td>\n",
       "    </tr>\n",
       "  </tbody>\n",
       "</table>\n",
       "</div>"
      ],
      "text/plain": [
       "HKF_Work_VolR5       0     1   All\n",
       "Hip_FractureR1R3                  \n",
       "0                 6932  1157  8089\n",
       "1                  150     6   156\n",
       "All               7082  1163  8245"
      ]
     },
     "execution_count": 41,
     "metadata": {},
     "output_type": "execute_result"
    }
   ],
   "source": [
    "# Frequency tables\n",
    "table1 = pd.crosstab(index=total_patients_arthritis[\"Hip_FractureR1R3\"], \n",
    "                            columns=total_patients_arthritis[\"HKF_Work_VolR5\"],\n",
    "                             margins=True)  \n",
    "table1"
   ]
  },
  {
   "cell_type": "code",
   "execution_count": 42,
   "metadata": {},
   "outputs": [
    {
     "data": {
      "text/html": [
       "<div>\n",
       "<style scoped>\n",
       "    .dataframe tbody tr th:only-of-type {\n",
       "        vertical-align: middle;\n",
       "    }\n",
       "\n",
       "    .dataframe tbody tr th {\n",
       "        vertical-align: top;\n",
       "    }\n",
       "\n",
       "    .dataframe thead th {\n",
       "        text-align: right;\n",
       "    }\n",
       "</style>\n",
       "<table border=\"1\" class=\"dataframe\">\n",
       "  <thead>\n",
       "    <tr style=\"text-align: right;\">\n",
       "      <th>ew5medpaovtm</th>\n",
       "      <th>-1 Inapplicable</th>\n",
       "      <th>-7 RF</th>\n",
       "      <th>-8 DK</th>\n",
       "      <th>-9 Missing</th>\n",
       "      <th>1 YES</th>\n",
       "      <th>2 NO</th>\n",
       "      <th>All</th>\n",
       "    </tr>\n",
       "    <tr>\n",
       "      <th>Hip_FractureR3R5</th>\n",
       "      <th></th>\n",
       "      <th></th>\n",
       "      <th></th>\n",
       "      <th></th>\n",
       "      <th></th>\n",
       "      <th></th>\n",
       "      <th></th>\n",
       "    </tr>\n",
       "  </thead>\n",
       "  <tbody>\n",
       "    <tr>\n",
       "      <th>0</th>\n",
       "      <td>389</td>\n",
       "      <td>32</td>\n",
       "      <td>71</td>\n",
       "      <td>125</td>\n",
       "      <td>319</td>\n",
       "      <td>3119</td>\n",
       "      <td>4055</td>\n",
       "    </tr>\n",
       "    <tr>\n",
       "      <th>1</th>\n",
       "      <td>10</td>\n",
       "      <td>1</td>\n",
       "      <td>4</td>\n",
       "      <td>1</td>\n",
       "      <td>10</td>\n",
       "      <td>71</td>\n",
       "      <td>97</td>\n",
       "    </tr>\n",
       "    <tr>\n",
       "      <th>All</th>\n",
       "      <td>399</td>\n",
       "      <td>33</td>\n",
       "      <td>75</td>\n",
       "      <td>126</td>\n",
       "      <td>329</td>\n",
       "      <td>3190</td>\n",
       "      <td>4152</td>\n",
       "    </tr>\n",
       "  </tbody>\n",
       "</table>\n",
       "</div>"
      ],
      "text/plain": [
       "ew5medpaovtm      -1 Inapplicable  -7 RF  -8 DK  -9 Missing  1 YES  2 NO   All\n",
       "Hip_FractureR3R5                                                              \n",
       "0                             389     32     71         125    319  3119  4055\n",
       "1                              10      1      4           1     10    71    97\n",
       "All                           399     33     75         126    329  3190  4152"
      ]
     },
     "execution_count": 42,
     "metadata": {},
     "output_type": "execute_result"
    }
   ],
   "source": [
    "# Frequency tables\n",
    "table1 = pd.crosstab(index=total_patients_arthritis[\"Hip_FractureR3R5\"], \n",
    "                            columns=total_patients_arthritis[\"ew5medpaovtm\"],\n",
    "                             margins=True)  \n",
    "table1"
   ]
  },
  {
   "cell_type": "code",
   "execution_count": null,
   "metadata": {},
   "outputs": [],
   "source": []
  },
  {
   "cell_type": "code",
   "execution_count": null,
   "metadata": {},
   "outputs": [],
   "source": []
  },
  {
   "cell_type": "code",
   "execution_count": null,
   "metadata": {},
   "outputs": [],
   "source": []
  },
  {
   "cell_type": "code",
   "execution_count": 43,
   "metadata": {},
   "outputs": [],
   "source": [
    "# Removing the Missing Imputed Income Values Round 1 and Round 3 from the Set\n",
    "\n",
    "total_patients_arthritis = total_patients_arthritis[total_patients_arthritis.ia1toincim1 != '-1 Inapplicable']\n",
    "total_patients_arthritis = total_patients_arthritis[total_patients_arthritis.ia1toincim1 != '-9 Missing']\n",
    "total_patients_arthritis = total_patients_arthritis[total_patients_arthritis.ia1toincim1 != '.']\n",
    "\n",
    "total_patients_arthritis['ia3toincim1'] = np.where(total_patients_arthritis['ia3toincim1'] == '-1 Inapplicable', total_patients_arthritis['ia3totinc'],total_patients_arthritis['ia3toincim1'])\n",
    "total_patients_arthritis['ia3toincim2'] = np.where(total_patients_arthritis['ia3toincim2'] == '-1 Inapplicable', total_patients_arthritis['ia3totinc'],total_patients_arthritis['ia3toincim2'])\n",
    "total_patients_arthritis['ia3toincim3'] = np.where(total_patients_arthritis['ia3toincim3'] == '-1 Inapplicable', total_patients_arthritis['ia3totinc'],total_patients_arthritis['ia3toincim3'])\n",
    "total_patients_arthritis['ia3toincim4'] = np.where(total_patients_arthritis['ia3toincim4'] == '-1 Inapplicable', total_patients_arthritis['ia3totinc'],total_patients_arthritis['ia3toincim4'])\n",
    "total_patients_arthritis['ia3toincim5'] = np.where(total_patients_arthritis['ia3toincim5'] == '-1 Inapplicable', total_patients_arthritis['ia3totinc'],total_patients_arthritis['ia3toincim5'])\n",
    "\n",
    "total_patients_arthritis = total_patients_arthritis[total_patients_arthritis.ia3toincim1 != '-9 Missing']\n",
    "total_patients_arthritis = total_patients_arthritis[total_patients_arthritis.ia3toincim1 != '-1 Inapplicable']\n",
    "\n",
    "total_patients_arthritis = total_patients_arthritis[total_patients_arthritis['ia3toincim1'].notnull()]\n",
    "total_patients_arthritis = total_patients_arthritis[total_patients_arthritis['ia3toincim2'].notnull()]\n",
    "total_patients_arthritis = total_patients_arthritis[total_patients_arthritis['ia3toincim3'].notnull()]\n",
    "total_patients_arthritis = total_patients_arthritis[total_patients_arthritis['ia3toincim4'].notnull()]\n",
    "total_patients_arthritis = total_patients_arthritis[total_patients_arthritis['ia3toincim5'].notnull()]"
   ]
  },
  {
   "cell_type": "code",
   "execution_count": 44,
   "metadata": {},
   "outputs": [],
   "source": [
    "# Converting the Imputed Income Values Round 1 - Round 3 from pd.Series to float\n",
    "\n",
    "total_patients_arthritis['ia1toincim1'] = total_patients_arthritis['ia1toincim1'].astype(float)\n",
    "total_patients_arthritis['ia1toincim2'] = total_patients_arthritis['ia1toincim2'].astype(float)\n",
    "total_patients_arthritis['ia1toincim3'] = total_patients_arthritis['ia1toincim3'].astype(float)\n",
    "total_patients_arthritis['ia1toincim4'] = total_patients_arthritis['ia1toincim4'].astype(float)\n",
    "total_patients_arthritis['ia1toincim5'] = total_patients_arthritis['ia1toincim5'].astype(float)\n",
    "\n",
    "total_patients_arthritis['ia3toincim1'] = total_patients_arthritis['ia3toincim1'].astype(float)\n",
    "total_patients_arthritis['ia3toincim2'] = total_patients_arthritis['ia3toincim2'].astype(float)\n",
    "total_patients_arthritis['ia3toincim3'] = total_patients_arthritis['ia3toincim3'].astype(float)\n",
    "total_patients_arthritis['ia3toincim4'] = total_patients_arthritis['ia3toincim4'].astype(float)\n",
    "total_patients_arthritis['ia3toincim5'] = total_patients_arthritis['ia3toincim5'].astype(float)"
   ]
  },
  {
   "cell_type": "code",
   "execution_count": 45,
   "metadata": {},
   "outputs": [],
   "source": [
    "# Computing the Average Imputed Income for Round 1\n",
    "\n",
    "total_patients_arthritis['R1avg_income1-5'] = (total_patients_arthritis['ia1toincim1']+total_patients_arthritis['ia1toincim2']+total_patients_arthritis['ia1toincim3']+total_patients_arthritis['ia1toincim4']+total_patients_arthritis['ia1toincim5'])/5\n",
    "\n",
    "total_patients_arthritis['R3avg_income1-5'] = (total_patients_arthritis['ia3toincim1']+total_patients_arthritis['ia3toincim2']+total_patients_arthritis['ia3toincim3']+total_patients_arthritis['ia3toincim4']+total_patients_arthritis['ia3toincim5'])/5\n",
    "\n",
    "total_patients_arthritis['changeR1R3'] = (total_patients_arthritis['R1avg_income1-5'] - total_patients_arthritis['R3avg_income1-5'])"
   ]
  },
  {
   "cell_type": "code",
   "execution_count": 46,
   "metadata": {},
   "outputs": [],
   "source": [
    "total_patients_arthritis = total_patients_arthritis[total_patients_arthritis['changeR1R3'] <= 100000]\n",
    "total_patients_arthritis = total_patients_arthritis[total_patients_arthritis['changeR1R3'] >= -100000]"
   ]
  },
  {
   "cell_type": "code",
   "execution_count": 47,
   "metadata": {},
   "outputs": [],
   "source": [
    "# Removing the Missing Imputed Income Values Round 1 and Round 3 from the Set\n",
    "\n",
    "total_patients_arthritis = total_patients_arthritis[total_patients_arthritis.ia5toincim1 != '-1 Inapplicable']\n",
    "total_patients_arthritis = total_patients_arthritis[total_patients_arthritis.ia5toincim1 != '-9 Missing']\n",
    "total_patients_arthritis = total_patients_arthritis[total_patients_arthritis.ia5toincim1 != '.']\n",
    "\n",
    "total_patients_arthritis['ia5toincim1'] = np.where(total_patients_arthritis['ia5toincim1'] == '-1 Inapplicable', total_patients_arthritis['ia3totinc'],total_patients_arthritis['ia3toincim1'])\n",
    "total_patients_arthritis['ia5toincim2'] = np.where(total_patients_arthritis['ia5toincim2'] == '-1 Inapplicable', total_patients_arthritis['ia3totinc'],total_patients_arthritis['ia3toincim2'])\n",
    "total_patients_arthritis['ia5toincim3'] = np.where(total_patients_arthritis['ia5toincim3'] == '-1 Inapplicable', total_patients_arthritis['ia3totinc'],total_patients_arthritis['ia3toincim3'])\n",
    "total_patients_arthritis['ia5toincim4'] = np.where(total_patients_arthritis['ia5toincim4'] == '-1 Inapplicable', total_patients_arthritis['ia3totinc'],total_patients_arthritis['ia3toincim4'])\n",
    "total_patients_arthritis['ia5toincim5'] = np.where(total_patients_arthritis['ia5toincim5'] == '-1 Inapplicable', total_patients_arthritis['ia3totinc'],total_patients_arthritis['ia3toincim5'])\n",
    "\n",
    "total_patients_arthritis['ia5toincim1'] = total_patients_arthritis['ia5toincim1'].astype(float)\n",
    "total_patients_arthritis['ia5toincim2'] = total_patients_arthritis['ia5toincim2'].astype(float)\n",
    "total_patients_arthritis['ia5toincim3'] = total_patients_arthritis['ia5toincim3'].astype(float)\n",
    "total_patients_arthritis['ia5toincim4'] = total_patients_arthritis['ia5toincim4'].astype(float)\n",
    "total_patients_arthritis['ia5toincim5'] = total_patients_arthritis['ia5toincim5'].astype(float)\n",
    "\n",
    "total_patients_arthritis['R5avg_income1-5'] = (total_patients_arthritis['ia5toincim1']+total_patients_arthritis['ia5toincim2']+total_patients_arthritis['ia5toincim3']+total_patients_arthritis['ia5toincim4']+total_patients_arthritis['ia5toincim5'])/5\n",
    "\n",
    "total_patients_arthritis['changeR1R5'] = (total_patients_arthritis['R1avg_income1-5'] - total_patients_arthritis['R5avg_income1-5'])"
   ]
  },
  {
   "cell_type": "code",
   "execution_count": 48,
   "metadata": {},
   "outputs": [],
   "source": [
    "total_patients_arthritis = total_patients_arthritis[total_patients_arthritis['changeR1R5'] <= 100000]\n",
    "total_patients_arthritis = total_patients_arthritis[total_patients_arthritis['changeR1R5'] >= -100000]"
   ]
  },
  {
   "cell_type": "code",
   "execution_count": 49,
   "metadata": {},
   "outputs": [
    {
     "ename": "NameError",
     "evalue": "name 'plt' is not defined",
     "output_type": "error",
     "traceback": [
      "\u001b[1;31m---------------------------------------------------------------------------\u001b[0m",
      "\u001b[1;31mNameError\u001b[0m                                 Traceback (most recent call last)",
      "\u001b[1;32m<ipython-input-49-7e29bfe522a7>\u001b[0m in \u001b[0;36m<module>\u001b[1;34m()\u001b[0m\n\u001b[1;32m----> 1\u001b[1;33m \u001b[0mplt\u001b[0m\u001b[1;33m.\u001b[0m\u001b[0mfigure\u001b[0m\u001b[1;33m(\u001b[0m\u001b[0mfigsize\u001b[0m\u001b[1;33m=\u001b[0m\u001b[1;33m(\u001b[0m\u001b[1;36m15\u001b[0m\u001b[1;33m,\u001b[0m\u001b[1;36m20\u001b[0m\u001b[1;33m)\u001b[0m\u001b[1;33m)\u001b[0m\u001b[1;33m\u001b[0m\u001b[0m\n\u001b[0m\u001b[0;32m      2\u001b[0m \u001b[1;33m\u001b[0m\u001b[0m\n\u001b[0;32m      3\u001b[0m \u001b[0msns\u001b[0m\u001b[1;33m.\u001b[0m\u001b[0mboxplot\u001b[0m\u001b[1;33m(\u001b[0m\u001b[0mx\u001b[0m\u001b[1;33m=\u001b[0m \u001b[0mtotal_patients_arthritis\u001b[0m\u001b[1;33m[\u001b[0m\u001b[1;34m'Age'\u001b[0m\u001b[1;33m]\u001b[0m\u001b[1;33m,\u001b[0m \u001b[0my\u001b[0m\u001b[1;33m=\u001b[0m \u001b[0mtotal_patients_arthritis\u001b[0m\u001b[1;33m[\u001b[0m\u001b[1;34m'changeR1R5'\u001b[0m\u001b[1;33m]\u001b[0m\u001b[1;33m,\u001b[0m \u001b[0mhue\u001b[0m \u001b[1;33m=\u001b[0m \u001b[0mtotal_patients_arthritis\u001b[0m\u001b[1;33m[\u001b[0m\u001b[1;34m'Hip_FractureR1'\u001b[0m\u001b[1;33m]\u001b[0m\u001b[1;33m)\u001b[0m\u001b[1;33m\u001b[0m\u001b[0m\n",
      "\u001b[1;31mNameError\u001b[0m: name 'plt' is not defined"
     ]
    }
   ],
   "source": [
    "plt.figure(figsize=(15,20))\n",
    "\n",
    "sns.boxplot(x= total_patients_arthritis['Age'], y= total_patients_arthritis['changeR1R5'], hue = total_patients_arthritis['Hip_FractureR1'])"
   ]
  },
  {
   "cell_type": "code",
   "execution_count": null,
   "metadata": {},
   "outputs": [],
   "source": [
    "#plt.figure(figsize=(15,20))\n",
    "#sns.boxplot(x= total_patients_arthritis['Age'], y= total_patients_arthritis['changeR1R5'])"
   ]
  },
  {
   "cell_type": "code",
   "execution_count": null,
   "metadata": {},
   "outputs": [],
   "source": [
    "# Frequency tables\n",
    "table1 = pd.crosstab(index=total_patients_arthritis[\"Hip_FractureR1\"], \n",
    "                            columns=total_patients_arthritis[\"Drive_ScoreR1\"],\n",
    "                             margins=True)  \n",
    "table1"
   ]
  },
  {
   "cell_type": "code",
   "execution_count": null,
   "metadata": {},
   "outputs": [],
   "source": [
    "table2 = pd.crosstab(index=total_patients_arthritis[\"Hip_FractureR1R3\"], \n",
    "                            columns=total_patients_arthritis[\"Drive_ScoreR3\"],\n",
    "                             margins=True) \n",
    "\n",
    "table2"
   ]
  },
  {
   "cell_type": "code",
   "execution_count": null,
   "metadata": {},
   "outputs": [],
   "source": [
    "table3 = pd.crosstab(index=total_patients_arthritis[\"Hip_FractureR3R5\"], \n",
    "                            columns=total_patients_arthritis[\"Drive_ScoreR5\"],\n",
    "                             margins=True)  \n",
    "\n",
    "table3"
   ]
  },
  {
   "cell_type": "code",
   "execution_count": null,
   "metadata": {},
   "outputs": [],
   "source": [
    "# Frequency tables\n",
    "table4 = pd.crosstab(index=total_patients_arthritis[\"Hip_FractureR1\"], \n",
    "                            columns=total_patients_arthritis[\"MobilityR1\"],\n",
    "                             margins=True)  \n",
    "table4"
   ]
  },
  {
   "cell_type": "code",
   "execution_count": null,
   "metadata": {},
   "outputs": [],
   "source": [
    "# Frequency tables\n",
    "table4 = pd.crosstab(index=total_patients_arthritis[\"Hip_FractureR1\"], \n",
    "                            columns=total_patients_arthritis[\"MobilityR3\"],\n",
    "                             margins=True)  \n",
    "table4"
   ]
  },
  {
   "cell_type": "code",
   "execution_count": null,
   "metadata": {},
   "outputs": [],
   "source": [
    "# Frequency tables\n",
    "table4 = pd.crosstab(index=total_patients_arthritis[\"Hip_FractureR1R3\"], \n",
    "                            columns=total_patients_arthritis[\"MobilityR3\"],\n",
    "                             margins=True)  \n",
    "table4"
   ]
  },
  {
   "cell_type": "code",
   "execution_count": null,
   "metadata": {},
   "outputs": [],
   "source": [
    "# Frequency tables\n",
    "table4 = pd.crosstab(index=total_patients_arthritis[\"Hip_FractureR3R5\"], \n",
    "                            columns=total_patients_arthritis[\"MobilityR5\"],\n",
    "                             margins=True)  \n",
    "table4"
   ]
  },
  {
   "cell_type": "code",
   "execution_count": null,
   "metadata": {},
   "outputs": [],
   "source": [
    "# Frequency tables\n",
    "table4 = pd.crosstab(index=total_patients_arthritis[\"Hip_FractureR1\"], \n",
    "                            columns=total_patients_arthritis[\"MobilityR5\"],\n",
    "                             margins=True)  \n",
    "table4"
   ]
  },
  {
   "cell_type": "code",
   "execution_count": null,
   "metadata": {},
   "outputs": [],
   "source": [
    "# Frequency tables\n",
    "table4 = pd.crosstab(index=total_patients_arthritis[\"Hip_FractureR1R3\"], \n",
    "                            columns=total_patients_arthritis[\"MobilityR5\"],\n",
    "                             margins=True)  \n",
    "table4"
   ]
  },
  {
   "cell_type": "code",
   "execution_count": null,
   "metadata": {},
   "outputs": [],
   "source": []
  },
  {
   "cell_type": "code",
   "execution_count": null,
   "metadata": {},
   "outputs": [],
   "source": []
  },
  {
   "cell_type": "code",
   "execution_count": null,
   "metadata": {},
   "outputs": [],
   "source": []
  }
 ],
 "metadata": {
  "kernelspec": {
   "display_name": "Python 3",
   "language": "python",
   "name": "python3"
  },
  "language_info": {
   "codemirror_mode": {
    "name": "ipython",
    "version": 3
   },
   "file_extension": ".py",
   "mimetype": "text/x-python",
   "name": "python",
   "nbconvert_exporter": "python",
   "pygments_lexer": "ipython3",
   "version": "3.7.0"
  }
 },
 "nbformat": 4,
 "nbformat_minor": 2
}
