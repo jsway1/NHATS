{
 "cells": [
  {
   "cell_type": "code",
   "execution_count": 96,
   "metadata": {},
   "outputs": [],
   "source": [
    "import pandas as pd \n",
    "import seaborn as sns \n",
    "import numpy as np\n",
    "import scipy as sp"
   ]
  },
  {
   "cell_type": "code",
   "execution_count": 97,
   "metadata": {},
   "outputs": [],
   "source": [
    "# Importing the Datasets \n",
    "\n",
    "df1 = pd.read_csv('Round1.csv')\n",
    "df2 = pd.read_csv('Round2.csv')\n",
    "df3 = pd.read_csv('Round3.csv')\n",
    "df4 = pd.read_csv('Round4.csv')\n",
    "df5 = pd.read_csv('Round5.csv')\n",
    "df6 = pd.read_csv('Round6.csv')\n",
    "df7 = pd.read_csv('Round7.csv')"
   ]
  },
  {
   "cell_type": "code",
   "execution_count": 98,
   "metadata": {},
   "outputs": [],
   "source": [
    "# Merging the Datasets \n",
    "\n",
    "mergedset1 = pd.merge(df1, df2, on='spid',how='left')\n",
    "mergedset2 = pd.merge(mergedset1,df3,on='spid',how='left')\n",
    "mergedset3 = pd.merge(mergedset2,df4,on='spid',how='left')\n",
    "mergedset4 = pd.merge(mergedset3,df5,on='spid',how='left')\n",
    "mergedset5 = pd.merge(mergedset4,df6,on='spid',how='left')\n",
    "mergedset_final = pd.merge(mergedset5,df7,on='spid',how='left')"
   ]
  },
  {
   "cell_type": "code",
   "execution_count": 99,
   "metadata": {},
   "outputs": [],
   "source": [
    "# Excluding Patients Without Arthritis \n",
    "\n",
    "total_patients_arthritis = mergedset_final[mergedset_final.hc1disescn4 == '1 YES']"
   ]
  },
  {
   "cell_type": "code",
   "execution_count": 100,
   "metadata": {},
   "outputs": [
    {
     "name": "stderr",
     "output_type": "stream",
     "text": [
      "C:\\Users\\swayambunathajp\\AppData\\Local\\Continuum\\anaconda3\\lib\\site-packages\\ipykernel_launcher.py:7: SettingWithCopyWarning: \n",
      "A value is trying to be set on a copy of a slice from a DataFrame.\n",
      "Try using .loc[row_indexer,col_indexer] = value instead\n",
      "\n",
      "See the caveats in the documentation: http://pandas.pydata.org/pandas-docs/stable/indexing.html#indexing-view-versus-copy\n",
      "  import sys\n"
     ]
    }
   ],
   "source": [
    "# Converting the Age Variable from String to Int \n",
    "\n",
    "conditions = [(total_patients_arthritis['r1d2intvrage'] == '1 - 65-69') , (total_patients_arthritis['r1d2intvrage'] == '2 - 70-74'),\n",
    "    (total_patients_arthritis['r1d2intvrage'] == '3 - 75-79') , (total_patients_arthritis['r1d2intvrage'] == '4 - 80-84'),\n",
    "    (total_patients_arthritis['r1d2intvrage'] == '5 - 85-89'), (total_patients_arthritis['r1d2intvrage'] == '6 - 90 +')]\n",
    "choices = [1,2,3,4,5,6]\n",
    "total_patients_arthritis['Age'] = np.select(conditions, choices)"
   ]
  },
  {
   "cell_type": "code",
   "execution_count": 101,
   "metadata": {},
   "outputs": [
    {
     "name": "stderr",
     "output_type": "stream",
     "text": [
      "C:\\Users\\swayambunathajp\\AppData\\Local\\Continuum\\anaconda3\\lib\\site-packages\\ipykernel_launcher.py:3: SettingWithCopyWarning: \n",
      "A value is trying to be set on a copy of a slice from a DataFrame.\n",
      "Try using .loc[row_indexer,col_indexer] = value instead\n",
      "\n",
      "See the caveats in the documentation: http://pandas.pydata.org/pandas-docs/stable/indexing.html#indexing-view-versus-copy\n",
      "  This is separate from the ipykernel package so we can avoid doing imports until\n"
     ]
    }
   ],
   "source": [
    "# Assigning Numeric Value to Variable Gender\n",
    "\n",
    "total_patients_arthritis['Gender'] = np.where(total_patients_arthritis['r1dgender'] == '1 MALE', 1, 0)"
   ]
  },
  {
   "cell_type": "code",
   "execution_count": 102,
   "metadata": {},
   "outputs": [
    {
     "name": "stderr",
     "output_type": "stream",
     "text": [
      "C:\\Users\\swayambunathajp\\AppData\\Local\\Continuum\\anaconda3\\lib\\site-packages\\ipykernel_launcher.py:3: SettingWithCopyWarning: \n",
      "A value is trying to be set on a copy of a slice from a DataFrame.\n",
      "Try using .loc[row_indexer,col_indexer] = value instead\n",
      "\n",
      "See the caveats in the documentation: http://pandas.pydata.org/pandas-docs/stable/indexing.html#indexing-view-versus-copy\n",
      "  This is separate from the ipykernel package so we can avoid doing imports until\n",
      "C:\\Users\\swayambunathajp\\AppData\\Local\\Continuum\\anaconda3\\lib\\site-packages\\ipykernel_launcher.py:4: SettingWithCopyWarning: \n",
      "A value is trying to be set on a copy of a slice from a DataFrame.\n",
      "Try using .loc[row_indexer,col_indexer] = value instead\n",
      "\n",
      "See the caveats in the documentation: http://pandas.pydata.org/pandas-docs/stable/indexing.html#indexing-view-versus-copy\n",
      "  after removing the cwd from sys.path.\n",
      "C:\\Users\\swayambunathajp\\AppData\\Local\\Continuum\\anaconda3\\lib\\site-packages\\ipykernel_launcher.py:5: SettingWithCopyWarning: \n",
      "A value is trying to be set on a copy of a slice from a DataFrame.\n",
      "Try using .loc[row_indexer,col_indexer] = value instead\n",
      "\n",
      "See the caveats in the documentation: http://pandas.pydata.org/pandas-docs/stable/indexing.html#indexing-view-versus-copy\n",
      "  \"\"\"\n"
     ]
    }
   ],
   "source": [
    "# Creating a Variable for Joint Replacement (Hip and/or Knee) Status\n",
    "\n",
    "total_patients_arthritis['THR'] = np.where(total_patients_arthritis['hc1hipsurg'] == '1 YES', 1, 0)\n",
    "total_patients_arthritis['TKR'] = np.where(total_patients_arthritis['hc1kneesurg'] == '1 YES', 1, 0) \n",
    "total_patients_arthritis['TJR'] = np.where(total_patients_arthritis['THR']+total_patients_arthritis['TKR'] >= 1, 'Yes', 'No')"
   ]
  },
  {
   "cell_type": "code",
   "execution_count": 103,
   "metadata": {},
   "outputs": [],
   "source": [
    "# Removing the Missing Imputed Income Values Round 1 and Round 3 from the Set\n",
    "\n",
    "total_patients_arthritis = total_patients_arthritis[total_patients_arthritis.ia1toincim1 != '-1 Inapplicable']\n",
    "total_patients_arthritis = total_patients_arthritis[total_patients_arthritis.ia1toincim1 != '-9 Missing']\n",
    "total_patients_arthritis = total_patients_arthritis[total_patients_arthritis.ia1toincim1 != '.']\n",
    "\n",
    "total_patients_arthritis['ia3toincim1'] = np.where(total_patients_arthritis['ia3toincim1'] == '-1 Inapplicable', total_patients_arthritis['ia3totinc'],total_patients_arthritis['ia3toincim1'])\n",
    "total_patients_arthritis['ia3toincim2'] = np.where(total_patients_arthritis['ia3toincim2'] == '-1 Inapplicable', total_patients_arthritis['ia3totinc'],total_patients_arthritis['ia3toincim2'])\n",
    "total_patients_arthritis['ia3toincim3'] = np.where(total_patients_arthritis['ia3toincim3'] == '-1 Inapplicable', total_patients_arthritis['ia3totinc'],total_patients_arthritis['ia3toincim3'])\n",
    "total_patients_arthritis['ia3toincim4'] = np.where(total_patients_arthritis['ia3toincim4'] == '-1 Inapplicable', total_patients_arthritis['ia3totinc'],total_patients_arthritis['ia3toincim4'])\n",
    "total_patients_arthritis['ia3toincim5'] = np.where(total_patients_arthritis['ia3toincim5'] == '-1 Inapplicable', total_patients_arthritis['ia3totinc'],total_patients_arthritis['ia3toincim5'])\n",
    "\n",
    "total_patients_arthritis = total_patients_arthritis[total_patients_arthritis.ia3toincim1 != '-9 Missing']\n",
    "total_patients_arthritis = total_patients_arthritis[total_patients_arthritis.ia3toincim1 != '-1 Inapplicable']\n",
    "\n",
    "total_patients_arthritis = total_patients_arthritis[total_patients_arthritis['ia3toincim1'].notnull()]\n",
    "total_patients_arthritis = total_patients_arthritis[total_patients_arthritis['ia3toincim2'].notnull()]\n",
    "total_patients_arthritis = total_patients_arthritis[total_patients_arthritis['ia3toincim3'].notnull()]\n",
    "total_patients_arthritis = total_patients_arthritis[total_patients_arthritis['ia3toincim4'].notnull()]\n",
    "total_patients_arthritis = total_patients_arthritis[total_patients_arthritis['ia3toincim5'].notnull()]\n"
   ]
  },
  {
   "cell_type": "code",
   "execution_count": 104,
   "metadata": {},
   "outputs": [],
   "source": [
    "# Converting the Imputed Income Values Round 1 - Round 3 from pd.Series to float\n",
    "\n",
    "total_patients_arthritis['ia1toincim1'] = total_patients_arthritis['ia1toincim1'].astype(float)\n",
    "total_patients_arthritis['ia1toincim2'] = total_patients_arthritis['ia1toincim2'].astype(float)\n",
    "total_patients_arthritis['ia1toincim3'] = total_patients_arthritis['ia1toincim3'].astype(float)\n",
    "total_patients_arthritis['ia1toincim4'] = total_patients_arthritis['ia1toincim4'].astype(float)\n",
    "total_patients_arthritis['ia1toincim5'] = total_patients_arthritis['ia1toincim5'].astype(float)\n",
    "\n",
    "total_patients_arthritis['ia3toincim1'] = total_patients_arthritis['ia3toincim1'].astype(float)\n",
    "total_patients_arthritis['ia3toincim2'] = total_patients_arthritis['ia3toincim2'].astype(float)\n",
    "total_patients_arthritis['ia3toincim3'] = total_patients_arthritis['ia3toincim3'].astype(float)\n",
    "total_patients_arthritis['ia3toincim4'] = total_patients_arthritis['ia3toincim4'].astype(float)\n",
    "total_patients_arthritis['ia3toincim5'] = total_patients_arthritis['ia3toincim5'].astype(float)"
   ]
  },
  {
   "cell_type": "code",
   "execution_count": 105,
   "metadata": {},
   "outputs": [],
   "source": [
    "# Creating a Variable Representing \"Working Status\" - If Patients Work for Pay or Volunteer HKF_Work_Vol = 1 else HKF_Work_Vol = 0\n",
    "\n",
    "total_patients_arthritis['HKF_Work'] = np.where(total_patients_arthritis['pa1workfrpay'] == '1 YES', 1, 0)\n",
    "total_patients_arthritis['HKF_Vol'] = np.where(total_patients_arthritis['pa1voltrwork'] == '1 YES', 1, 0) \n",
    "total_patients_arthritis['HKF_Work_Vol'] = np.where(total_patients_arthritis['HKF_Work']+total_patients_arthritis['HKF_Vol'] >= 1, 1, 0)"
   ]
  },
  {
   "cell_type": "code",
   "execution_count": 106,
   "metadata": {},
   "outputs": [],
   "source": [
    "# Converting the Driving Variable from String to Int \n",
    "\n",
    "conditions = [(total_patients_arthritis['dt1oftedrive'] == '1 EVERY DAY (7 DAYS A WEEK)') , (total_patients_arthritis['dt1oftedrive'] == '2 MOST DAYS (5-6 DAYS A WEEK)'),\n",
    "    (total_patients_arthritis['dt1oftedrive'] == '3 SOME DAYS (2-4 DAYS A WEEK)') , (total_patients_arthritis['dt1oftedrive'] == '4 RARELY (ONCE A WEEK OR LESS)'),\n",
    "    (total_patients_arthritis['dt1oftedrive'] == '5 NEVER')]\n",
    "choices = [1,2,3,4,5]\n",
    "total_patients_arthritis['Drive_ScoreR1'] = np.select(conditions, choices)"
   ]
  },
  {
   "cell_type": "code",
   "execution_count": 107,
   "metadata": {},
   "outputs": [],
   "source": [
    "# Converting the Mobility Variable from String to Int \n",
    "\n",
    "conditions = [(total_patients_arthritis['mo1outoft'] == '1 EVERY DAY (7 DAYS A WEEK)') , (total_patients_arthritis['mo1outoft'] == '2 MOST DAYS (5-6 DAYS A WEEK)'),\n",
    "    (total_patients_arthritis['mo1outoft'] == '3 SOME DAYS (2-4 DAYS A WEEK)') , (total_patients_arthritis['mo1outoft'] == '4 RARELY (ONCE A WEEK OR LESS)'),\n",
    "    (total_patients_arthritis['mo1outoft'] == '5 NEVER')]\n",
    "choices = [1,2,3,4,5]\n",
    "total_patients_arthritis['MobilityR1'] = np.select(conditions, choices)"
   ]
  },
  {
   "cell_type": "code",
   "execution_count": 108,
   "metadata": {},
   "outputs": [],
   "source": [
    "# Computing the Average Imputed Income for Round 1\n",
    "\n",
    "total_patients_arthritis['R1avg_income1-5'] = (total_patients_arthritis['ia1toincim1']+total_patients_arthritis['ia1toincim2']+total_patients_arthritis['ia1toincim3']+total_patients_arthritis['ia1toincim4']+total_patients_arthritis['ia1toincim5'])/5\n",
    "\n",
    "total_patients_arthritis['R3avg_income1-5'] = (total_patients_arthritis['ia3toincim1']+total_patients_arthritis['ia3toincim2']+total_patients_arthritis['ia3toincim3']+total_patients_arthritis['ia3toincim4']+total_patients_arthritis['ia3toincim5'])/5\n",
    "\n",
    "total_patients_arthritis['changeR1R3'] = (total_patients_arthritis['R1avg_income1-5'] - total_patients_arthritis['R3avg_income1-5'])"
   ]
  },
  {
   "cell_type": "code",
   "execution_count": 109,
   "metadata": {},
   "outputs": [],
   "source": [
    "# Separating Individuals with TJR from those Without TJR\n",
    "\n",
    "total_patients_arthritis_TJR = total_patients_arthritis[total_patients_arthritis.TJR == 'Yes']\n",
    "total_patients_arthritis_NoTJR = total_patients_arthritis[total_patients_arthritis.TJR == 'No']"
   ]
  },
  {
   "cell_type": "code",
   "execution_count": 110,
   "metadata": {},
   "outputs": [],
   "source": [
    "total_patients_arthritis_TJR_Age6569 = total_patients_arthritis_TJR[total_patients_arthritis_TJR.Age == 1]\n",
    "total_patients_arthritis_NoTJR_Age6569 = total_patients_arthritis_NoTJR[total_patients_arthritis_NoTJR.Age == 1]\n",
    "\n",
    "total_patients_arthritis_TJR_Age7074 = total_patients_arthritis_TJR[total_patients_arthritis_TJR.Age == 2]\n",
    "total_patients_arthritis_NoTJR_Age7074 = total_patients_arthritis_NoTJR[total_patients_arthritis_NoTJR.Age == 2]\n",
    "\n",
    "total_patients_arthritis_TJR_Age7579 = total_patients_arthritis_TJR[total_patients_arthritis_TJR.Age == 3]\n",
    "total_patients_arthritis_NoTJR_Age7579 = total_patients_arthritis_NoTJR[total_patients_arthritis_NoTJR.Age == 3]\n",
    "\n",
    "total_patients_arthritis_TJR_Age8084 = total_patients_arthritis_TJR[total_patients_arthritis_TJR.Age == 4]\n",
    "total_patients_arthritis_NoTJR_Age8084 = total_patients_arthritis_NoTJR[total_patients_arthritis_NoTJR.Age == 4]\n",
    "\n",
    "total_patients_arthritis_TJR_Age8589 = total_patients_arthritis_TJR[total_patients_arthritis_TJR.Age == 5]\n",
    "total_patients_arthritis_NoTJR_Age8589 = total_patients_arthritis_NoTJR[total_patients_arthritis_NoTJR.Age == 5]\n",
    "\n",
    "total_patients_arthritis_TJR_Age90 = total_patients_arthritis_TJR[total_patients_arthritis_TJR.Age == 6]\n",
    "total_patients_arthritis_NoTJR_Age90 = total_patients_arthritis_NoTJR[total_patients_arthritis_NoTJR.Age == 6]"
   ]
  },
  {
   "cell_type": "code",
   "execution_count": 111,
   "metadata": {},
   "outputs": [
    {
     "data": {
      "text/plain": [
       "MannwhitneyuResult(statistic=815121.5, pvalue=1.2902141108311299e-05)"
      ]
     },
     "execution_count": 111,
     "metadata": {},
     "output_type": "execute_result"
    }
   ],
   "source": [
    "sp.stats.mannwhitneyu(total_patients_arthritis_TJR['R1avg_income1-5'], total_patients_arthritis_NoTJR['R1avg_income1-5'],alternative='greater')"
   ]
  },
  {
   "cell_type": "code",
   "execution_count": 112,
   "metadata": {},
   "outputs": [
    {
     "data": {
      "text/plain": [
       "MannwhitneyuResult(statistic=752668.0, pvalue=0.2135742602461308)"
      ]
     },
     "execution_count": 112,
     "metadata": {},
     "output_type": "execute_result"
    }
   ],
   "source": [
    "sp.stats.mannwhitneyu(total_patients_arthritis_TJR['changeR1R3'], total_patients_arthritis_NoTJR['changeR1R3'],alternative='greater')"
   ]
  },
  {
   "cell_type": "code",
   "execution_count": 113,
   "metadata": {},
   "outputs": [
    {
     "data": {
      "text/plain": [
       "MannwhitneyuResult(statistic=814716.0, pvalue=1.4223978933745094e-05)"
      ]
     },
     "execution_count": 113,
     "metadata": {},
     "output_type": "execute_result"
    }
   ],
   "source": [
    "sp.stats.mannwhitneyu(total_patients_arthritis_TJR['R3avg_income1-5'], total_patients_arthritis_NoTJR['R3avg_income1-5'],alternative='greater')"
   ]
  },
  {
   "cell_type": "code",
   "execution_count": 114,
   "metadata": {},
   "outputs": [
    {
     "data": {
      "text/plain": [
       "MannwhitneyuResult(statistic=19023.0, pvalue=0.15536003930061676)"
      ]
     },
     "execution_count": 114,
     "metadata": {},
     "output_type": "execute_result"
    }
   ],
   "source": [
    "sp.stats.mannwhitneyu(total_patients_arthritis_TJR_Age6569['changeR1R3'], total_patients_arthritis_NoTJR_Age6569['changeR1R3'],alternative=None)"
   ]
  },
  {
   "cell_type": "code",
   "execution_count": 115,
   "metadata": {},
   "outputs": [
    {
     "data": {
      "text/plain": [
       "MannwhitneyuResult(statistic=28263.0, pvalue=0.45999015169430313)"
      ]
     },
     "execution_count": 115,
     "metadata": {},
     "output_type": "execute_result"
    }
   ],
   "source": [
    "sp.stats.mannwhitneyu(total_patients_arthritis_TJR_Age7074['changeR1R3'], total_patients_arthritis_NoTJR_Age7074['changeR1R3'],alternative=None)"
   ]
  },
  {
   "cell_type": "code",
   "execution_count": 116,
   "metadata": {},
   "outputs": [
    {
     "data": {
      "text/plain": [
       "MannwhitneyuResult(statistic=36034.0, pvalue=0.24025084885374487)"
      ]
     },
     "execution_count": 116,
     "metadata": {},
     "output_type": "execute_result"
    }
   ],
   "source": [
    "sp.stats.mannwhitneyu(total_patients_arthritis_TJR_Age7579['changeR1R3'], total_patients_arthritis_NoTJR_Age7579['changeR1R3'],alternative=None)"
   ]
  },
  {
   "cell_type": "code",
   "execution_count": 117,
   "metadata": {},
   "outputs": [
    {
     "data": {
      "text/plain": [
       "MannwhitneyuResult(statistic=31876.0, pvalue=0.45475871023357206)"
      ]
     },
     "execution_count": 117,
     "metadata": {},
     "output_type": "execute_result"
    }
   ],
   "source": [
    "sp.stats.mannwhitneyu(total_patients_arthritis_TJR_Age8084['changeR1R3'], total_patients_arthritis_NoTJR_Age8084['changeR1R3'],alternative=None)"
   ]
  },
  {
   "cell_type": "code",
   "execution_count": 118,
   "metadata": {},
   "outputs": [
    {
     "data": {
      "text/plain": [
       "MannwhitneyuResult(statistic=10307.5, pvalue=0.1669173903923719)"
      ]
     },
     "execution_count": 118,
     "metadata": {},
     "output_type": "execute_result"
    }
   ],
   "source": [
    "sp.stats.mannwhitneyu(total_patients_arthritis_TJR_Age8589['changeR1R3'], total_patients_arthritis_NoTJR_Age8589['changeR1R3'],alternative=None)"
   ]
  },
  {
   "cell_type": "code",
   "execution_count": 119,
   "metadata": {},
   "outputs": [
    {
     "data": {
      "text/plain": [
       "MannwhitneyuResult(statistic=4443.5, pvalue=0.33449663117659034)"
      ]
     },
     "execution_count": 119,
     "metadata": {},
     "output_type": "execute_result"
    }
   ],
   "source": [
    "sp.stats.mannwhitneyu(total_patients_arthritis_TJR_Age90['changeR1R3'], total_patients_arthritis_NoTJR_Age90['changeR1R3'],alternative=None)"
   ]
  },
  {
   "cell_type": "code",
   "execution_count": 120,
   "metadata": {},
   "outputs": [
    {
     "data": {
      "text/plain": [
       "MannwhitneyuResult(statistic=723611.0, pvalue=0.2135742602461308)"
      ]
     },
     "execution_count": 120,
     "metadata": {},
     "output_type": "execute_result"
    }
   ],
   "source": [
    "# Running Mann Whitney U Test to see if there is a significant difference in Round 1 Income between the TJR/No TJR groups\n",
    "from scipy import stats\n",
    "from scipy.stats import mannwhitneyu\n",
    "sp.stats.mannwhitneyu(total_patients_arthritis_TJR['changeR1R3'], total_patients_arthritis_NoTJR['changeR1R3'],alternative=None)"
   ]
  },
  {
   "cell_type": "code",
   "execution_count": 121,
   "metadata": {},
   "outputs": [],
   "source": [
    "total_patients_arthritis['ia5toincim1'] = np.where(total_patients_arthritis['ia5toincim1'] == '-1 Inapplicable', total_patients_arthritis['ia5totinc'],total_patients_arthritis['ia5toincim1'])\n",
    "total_patients_arthritis['ia5toincim2'] = np.where(total_patients_arthritis['ia5toincim2'] == '-1 Inapplicable', total_patients_arthritis['ia5totinc'],total_patients_arthritis['ia5toincim2'])\n",
    "total_patients_arthritis['ia5toincim3'] = np.where(total_patients_arthritis['ia5toincim3'] == '-1 Inapplicable', total_patients_arthritis['ia5totinc'],total_patients_arthritis['ia5toincim3'])\n",
    "total_patients_arthritis['ia5toincim4'] = np.where(total_patients_arthritis['ia5toincim4'] == '-1 Inapplicable', total_patients_arthritis['ia5totinc'],total_patients_arthritis['ia5toincim4'])\n",
    "total_patients_arthritis['ia5toincim5'] = np.where(total_patients_arthritis['ia5toincim5'] == '-1 Inapplicable', total_patients_arthritis['ia5totinc'],total_patients_arthritis['ia5toincim5'])\n",
    "\n",
    "total_patients_arthritis = total_patients_arthritis[total_patients_arthritis.ia5toincim1 != '-9 Missing']\n",
    "total_patients_arthritis = total_patients_arthritis[total_patients_arthritis.ia5toincim1 != '-1 Inapplicable']\n",
    "\n",
    "total_patients_arthritis = total_patients_arthritis[total_patients_arthritis['ia5toincim1'].notnull()]\n",
    "total_patients_arthritis = total_patients_arthritis[total_patients_arthritis['ia5toincim2'].notnull()]\n",
    "total_patients_arthritis = total_patients_arthritis[total_patients_arthritis['ia5toincim3'].notnull()]\n",
    "total_patients_arthritis = total_patients_arthritis[total_patients_arthritis['ia5toincim4'].notnull()]\n",
    "total_patients_arthritis = total_patients_arthritis[total_patients_arthritis['ia5toincim5'].notnull()]\n",
    "\n",
    "total_patients_arthritis['ia5toincim1'] = total_patients_arthritis['ia5toincim1'].astype(float)\n",
    "total_patients_arthritis['ia5toincim2'] = total_patients_arthritis['ia5toincim2'].astype(float)\n",
    "total_patients_arthritis['ia5toincim3'] = total_patients_arthritis['ia5toincim3'].astype(float)\n",
    "total_patients_arthritis['ia5toincim4'] = total_patients_arthritis['ia5toincim4'].astype(float)\n",
    "total_patients_arthritis['ia5toincim5'] = total_patients_arthritis['ia5toincim5'].astype(float)"
   ]
  },
  {
   "cell_type": "code",
   "execution_count": 122,
   "metadata": {},
   "outputs": [],
   "source": [
    "\n",
    "total_patients_arthritis['R5avg_income1-5'] = (total_patients_arthritis['ia5toincim1']+total_patients_arthritis['ia5toincim2']+total_patients_arthritis['ia5toincim3']+total_patients_arthritis['ia5toincim4']+total_patients_arthritis['ia5toincim5'])/5\n",
    "\n",
    "total_patients_arthritis['changeR1R5'] = (total_patients_arthritis['R1avg_income1-5'] - total_patients_arthritis['R5avg_income1-5']) "
   ]
  },
  {
   "cell_type": "code",
   "execution_count": 123,
   "metadata": {},
   "outputs": [],
   "source": [
    "# Separating Individuals with TJR from those Without TJR\n",
    "\n",
    "total_patients_arthritis_TJR = total_patients_arthritis[total_patients_arthritis.TJR == 'Yes']\n",
    "total_patients_arthritis_NoTJR = total_patients_arthritis[total_patients_arthritis.TJR == 'No']"
   ]
  },
  {
   "cell_type": "code",
   "execution_count": 124,
   "metadata": {},
   "outputs": [],
   "source": [
    "total_patients_arthritis_TJR_Age6569 = total_patients_arthritis_TJR[total_patients_arthritis_TJR.Age == 1]\n",
    "total_patients_arthritis_NoTJR_Age6569 = total_patients_arthritis_NoTJR[total_patients_arthritis_NoTJR.Age == 1]\n",
    "\n",
    "total_patients_arthritis_TJR_Age7074 = total_patients_arthritis_TJR[total_patients_arthritis_TJR.Age == 2]\n",
    "total_patients_arthritis_NoTJR_Age7074 = total_patients_arthritis_NoTJR[total_patients_arthritis_NoTJR.Age == 2]\n",
    "\n",
    "total_patients_arthritis_TJR_Age7579 = total_patients_arthritis_TJR[total_patients_arthritis_TJR.Age == 3]\n",
    "total_patients_arthritis_NoTJR_Age7579 = total_patients_arthritis_NoTJR[total_patients_arthritis_NoTJR.Age == 3]\n",
    "\n",
    "total_patients_arthritis_TJR_Age8084 = total_patients_arthritis_TJR[total_patients_arthritis_TJR.Age == 4]\n",
    "total_patients_arthritis_NoTJR_Age8084 = total_patients_arthritis_NoTJR[total_patients_arthritis_NoTJR.Age == 4]\n",
    "\n",
    "total_patients_arthritis_TJR_Age8589 = total_patients_arthritis_TJR[total_patients_arthritis_TJR.Age == 5]\n",
    "total_patients_arthritis_NoTJR_Age8589 = total_patients_arthritis_NoTJR[total_patients_arthritis_NoTJR.Age == 5]\n",
    "\n",
    "total_patients_arthritis_TJR_Age90 = total_patients_arthritis_TJR[total_patients_arthritis_TJR.Age == 6]\n",
    "total_patients_arthritis_NoTJR_Age90 = total_patients_arthritis_NoTJR[total_patients_arthritis_NoTJR.Age == 6]"
   ]
  },
  {
   "cell_type": "code",
   "execution_count": 133,
   "metadata": {},
   "outputs": [
    {
     "data": {
      "text/plain": [
       "MannwhitneyuResult(statistic=436491.5, pvalue=0.0015875112790495031)"
      ]
     },
     "execution_count": 133,
     "metadata": {},
     "output_type": "execute_result"
    }
   ],
   "source": [
    "sp.stats.mannwhitneyu(total_patients_arthritis_TJR['R5avg_income1-5'], total_patients_arthritis_NoTJR['R5avg_income1-5'],alternative='greater')"
   ]
  },
  {
   "cell_type": "code",
   "execution_count": 126,
   "metadata": {},
   "outputs": [
    {
     "data": {
      "text/plain": [
       "MannwhitneyuResult(statistic=395592.0, pvalue=0.2807452212995441)"
      ]
     },
     "execution_count": 126,
     "metadata": {},
     "output_type": "execute_result"
    }
   ],
   "source": [
    "sp.stats.mannwhitneyu(total_patients_arthritis_TJR['changeR1R5'], total_patients_arthritis_NoTJR['changeR1R5'],alternative=None)"
   ]
  },
  {
   "cell_type": "code",
   "execution_count": 127,
   "metadata": {},
   "outputs": [
    {
     "data": {
      "text/plain": [
       "MannwhitneyuResult(statistic=16585.0, pvalue=0.03202556172950617)"
      ]
     },
     "execution_count": 127,
     "metadata": {},
     "output_type": "execute_result"
    }
   ],
   "source": [
    "sp.stats.mannwhitneyu(total_patients_arthritis_TJR_Age6569['changeR1R5'], total_patients_arthritis_NoTJR_Age6569['changeR1R5'],alternative='greater')"
   ]
  },
  {
   "cell_type": "code",
   "execution_count": 128,
   "metadata": {},
   "outputs": [
    {
     "data": {
      "text/plain": [
       "MannwhitneyuResult(statistic=18586.5, pvalue=0.43610123808571727)"
      ]
     },
     "execution_count": 128,
     "metadata": {},
     "output_type": "execute_result"
    }
   ],
   "source": [
    "sp.stats.mannwhitneyu(total_patients_arthritis_TJR_Age7074['changeR1R5'], total_patients_arthritis_NoTJR_Age7074['changeR1R5'],alternative='greater')"
   ]
  },
  {
   "cell_type": "code",
   "execution_count": 129,
   "metadata": {},
   "outputs": [
    {
     "data": {
      "text/plain": [
       "MannwhitneyuResult(statistic=22227.5, pvalue=0.6261243152821667)"
      ]
     },
     "execution_count": 129,
     "metadata": {},
     "output_type": "execute_result"
    }
   ],
   "source": [
    "sp.stats.mannwhitneyu(total_patients_arthritis_TJR_Age7579['changeR1R5'], total_patients_arthritis_NoTJR_Age7579['changeR1R5'],alternative='greater')"
   ]
  },
  {
   "cell_type": "code",
   "execution_count": 130,
   "metadata": {},
   "outputs": [
    {
     "data": {
      "text/plain": [
       "MannwhitneyuResult(statistic=14723.5, pvalue=0.7263958424427688)"
      ]
     },
     "execution_count": 130,
     "metadata": {},
     "output_type": "execute_result"
    }
   ],
   "source": [
    "sp.stats.mannwhitneyu(total_patients_arthritis_TJR_Age8084['changeR1R5'], total_patients_arthritis_NoTJR_Age8084['changeR1R5'],alternative='greater')"
   ]
  },
  {
   "cell_type": "code",
   "execution_count": 131,
   "metadata": {},
   "outputs": [
    {
     "data": {
      "text/plain": [
       "MannwhitneyuResult(statistic=4137.0, pvalue=0.7083197014996179)"
      ]
     },
     "execution_count": 131,
     "metadata": {},
     "output_type": "execute_result"
    }
   ],
   "source": [
    "sp.stats.mannwhitneyu(total_patients_arthritis_TJR_Age8589['changeR1R5'], total_patients_arthritis_NoTJR_Age8589['changeR1R5'],alternative='greater')"
   ]
  },
  {
   "cell_type": "code",
   "execution_count": 132,
   "metadata": {},
   "outputs": [
    {
     "data": {
      "text/plain": [
       "MannwhitneyuResult(statistic=1227.0, pvalue=0.49324962582153037)"
      ]
     },
     "execution_count": 132,
     "metadata": {},
     "output_type": "execute_result"
    }
   ],
   "source": [
    "sp.stats.mannwhitneyu(total_patients_arthritis_TJR_Age90['changeR1R5'], total_patients_arthritis_NoTJR_Age90['changeR1R5'],alternative='greater')"
   ]
  }
 ],
 "metadata": {
  "kernelspec": {
   "display_name": "Python 3",
   "language": "python",
   "name": "python3"
  },
  "language_info": {
   "codemirror_mode": {
    "name": "ipython",
    "version": 3
   },
   "file_extension": ".py",
   "mimetype": "text/x-python",
   "name": "python",
   "nbconvert_exporter": "python",
   "pygments_lexer": "ipython3",
   "version": "3.7.0"
  }
 },
 "nbformat": 4,
 "nbformat_minor": 2
}
