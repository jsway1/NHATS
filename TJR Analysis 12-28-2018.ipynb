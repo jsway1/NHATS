{
 "cells": [
  {
   "cell_type": "code",
   "execution_count": 30,
   "metadata": {},
   "outputs": [],
   "source": [
    "import pandas as pd \n",
    "import seaborn as sns \n",
    "import numpy as np\n",
    "import scipy as sp"
   ]
  },
  {
   "cell_type": "code",
   "execution_count": 31,
   "metadata": {},
   "outputs": [],
   "source": [
    "# Importing the Datasets \n",
    "\n",
    "df1 = pd.read_csv('Round1.csv')\n",
    "df2 = pd.read_csv('Round2.csv')\n",
    "df3 = pd.read_csv('Round3.csv')\n",
    "df4 = pd.read_csv('Round4.csv')\n",
    "df5 = pd.read_csv('Round5.csv')\n",
    "df6 = pd.read_csv('Round6.csv')\n",
    "df7 = pd.read_csv('Round7.csv')"
   ]
  },
  {
   "cell_type": "code",
   "execution_count": 32,
   "metadata": {},
   "outputs": [],
   "source": [
    "# Merging the Datasets \n",
    "\n",
    "mergedset1 = pd.merge(df1, df2, on='spid',how='left')\n",
    "mergedset2 = pd.merge(mergedset1,df3,on='spid',how='left')\n",
    "mergedset3 = pd.merge(mergedset2,df4,on='spid',how='left')\n",
    "mergedset4 = pd.merge(mergedset3,df5,on='spid',how='left')\n",
    "mergedset5 = pd.merge(mergedset4,df6,on='spid',how='left')\n",
    "mergedset_final = pd.merge(mergedset5,df7,on='spid',how='left')"
   ]
  },
  {
   "cell_type": "code",
   "execution_count": 33,
   "metadata": {},
   "outputs": [],
   "source": [
    "total_patients_arthritis = mergedset_final[mergedset_final.hc1disescn4 == '1 YES']"
   ]
  },
  {
   "cell_type": "code",
   "execution_count": 34,
   "metadata": {},
   "outputs": [],
   "source": [
    "total_patients_arthritis = total_patients_arthritis.replace('-1 Inapplicable',np.NaN)\n",
    "total_patients_arthritis = total_patients_arthritis.replace('-9 Missing',np.NaN)\n",
    "total_patients_arthritis = total_patients_arthritis.replace('-7 RF',np.NaN)\n",
    "total_patients_arthritis = total_patients_arthritis.replace('-8 DK',np.NaN)\n",
    "total_patients_arthritis = total_patients_arthritis.replace('.',np.NaN)"
   ]
  },
  {
   "cell_type": "code",
   "execution_count": 35,
   "metadata": {},
   "outputs": [],
   "source": [
    "# Creating a Variable Representing \"Working Status\" - If Patients Work for Pay or Volunteer HKF_Work_Vol = 1 else HKF_Work_Vol = 0\n",
    "\n",
    "conditions = [(total_patients_arthritis['pa1workfrpay'] == '1 YES'), (total_patients_arthritis['pa1workfrpay'] == '2 NO')]\n",
    "choices = [1, 0]\n",
    "total_patients_arthritis['pa1workfrpay'] = np.select(conditions, choices)\n",
    "\n",
    "conditions = [(total_patients_arthritis['pa1voltrwork'] == '1 YES') , (total_patients_arthritis['pa1voltrwork'] == '2 NO')]\n",
    "choices = [1, 0]\n",
    "total_patients_arthritis['pa1voltrwork'] = np.select(conditions, choices)\n",
    "\n",
    "total_patients_arthritis['HKF_Work_Vol'] = total_patients_arthritis['pa1voltrwork']+total_patients_arthritis['pa1workfrpay']\n",
    "                                                                                                             \n",
    "conditions = [(total_patients_arthritis['HKF_Work_Vol'] >= 1),(total_patients_arthritis['HKF_Work_Vol'] == 0)]\n",
    "choices = [1, 0]\n",
    "total_patients_arthritis['HKF_Work_Vol'] = np.select(conditions, choices)    "
   ]
  },
  {
   "cell_type": "code",
   "execution_count": 36,
   "metadata": {},
   "outputs": [],
   "source": [
    "# Creating a Variable for Joint Replacement (Hip and/or Knee) Status\n",
    "\n",
    "total_patients_arthritis['THR'] = np.where(total_patients_arthritis['hc1hipsurg'] == '1 YES', 1, 0)\n",
    "total_patients_arthritis['TKR'] = np.where(total_patients_arthritis['hc1kneesurg'] == '1 YES', 1, 0) \n",
    "total_patients_arthritis['TJR'] = np.where(total_patients_arthritis['THR']+total_patients_arthritis['TKR'] >= 1, 'Yes', 'No')"
   ]
  },
  {
   "cell_type": "code",
   "execution_count": 37,
   "metadata": {},
   "outputs": [],
   "source": [
    "# Converting the Imputed Income Values Round 1 - Round 3 from pd.Series to float\n",
    "\n",
    "total_patients_arthritis['ia1toincim1'] = total_patients_arthritis['ia1toincim1'].astype(float)\n",
    "total_patients_arthritis['ia1toincim2'] = total_patients_arthritis['ia1toincim2'].astype(float)\n",
    "total_patients_arthritis['ia1toincim3'] = total_patients_arthritis['ia1toincim3'].astype(float)\n",
    "total_patients_arthritis['ia1toincim4'] = total_patients_arthritis['ia1toincim4'].astype(float)\n",
    "total_patients_arthritis['ia1toincim5'] = total_patients_arthritis['ia1toincim5'].astype(float)\n",
    "\n",
    "total_patients_arthritis['ia3toincim1'] = total_patients_arthritis['ia3toincim1'].astype(float)\n",
    "total_patients_arthritis['ia3toincim2'] = total_patients_arthritis['ia3toincim2'].astype(float)\n",
    "total_patients_arthritis['ia3toincim3'] = total_patients_arthritis['ia3toincim3'].astype(float)\n",
    "total_patients_arthritis['ia3toincim4'] = total_patients_arthritis['ia3toincim4'].astype(float)\n",
    "total_patients_arthritis['ia3toincim5'] = total_patients_arthritis['ia3toincim5'].astype(float)"
   ]
  },
  {
   "cell_type": "code",
   "execution_count": 38,
   "metadata": {},
   "outputs": [],
   "source": [
    "# Computing the Average Imputed Income for Round 1\n",
    "\n",
    "#total_patients_arthritis['R1avg_income1-5'] = (total_patients_arthritis['ia1toincim1']+total_patients_arthritis['ia1toincim2']+total_patients_arthritis['ia1toincim3']+total_patients_arthritis['ia1toincim4']+total_patients_arthritis['ia1toincim5'])/5\n",
    "\n",
    "#total_patients_arthritis['R3avg_income1-5'] = (total_patients_arthritis['ia3toincim1']+total_patients_arthritis['ia3toincim2']+total_patients_arthritis['ia3toincim3']+total_patients_arthritis['ia3toincim4']+total_patients_arthritis['ia3toincim5'])/5\n",
    "\n",
    "#total_patients_arthritis['changeR1R3'] = (total_patients_arthritis['R1avg_income1-5'] - total_patients_arthritis['R3avg_income1-5'])"
   ]
  },
  {
   "cell_type": "code",
   "execution_count": 39,
   "metadata": {},
   "outputs": [],
   "source": [
    "#total_patients_arthritis['changeR1R3'] = total_patients_arthritis['changeR1R3'].dropna()"
   ]
  },
  {
   "cell_type": "code",
   "execution_count": 40,
   "metadata": {},
   "outputs": [],
   "source": [
    "# Excluding Patients Not Driving at Baseline for Activity Analysis - NOT FOR INCOME \n",
    "\n",
    "#total_patients_arthritis = total_patients_arthritis[total_patients_arthritis.dt1oftedrive != '5 NEVER']"
   ]
  },
  {
   "cell_type": "code",
   "execution_count": 85,
   "metadata": {},
   "outputs": [
    {
     "data": {
      "text/html": [
       "<div>\n",
       "<style scoped>\n",
       "    .dataframe tbody tr th:only-of-type {\n",
       "        vertical-align: middle;\n",
       "    }\n",
       "\n",
       "    .dataframe tbody tr th {\n",
       "        vertical-align: top;\n",
       "    }\n",
       "\n",
       "    .dataframe thead th {\n",
       "        text-align: right;\n",
       "    }\n",
       "</style>\n",
       "<table border=\"1\" class=\"dataframe\">\n",
       "  <thead>\n",
       "    <tr style=\"text-align: right;\">\n",
       "      <th>pa5helmfvact</th>\n",
       "      <th>1 YES</th>\n",
       "      <th>2 NO</th>\n",
       "      <th>All</th>\n",
       "    </tr>\n",
       "    <tr>\n",
       "      <th>TJR</th>\n",
       "      <th></th>\n",
       "      <th></th>\n",
       "      <th></th>\n",
       "    </tr>\n",
       "  </thead>\n",
       "  <tbody>\n",
       "    <tr>\n",
       "      <th>No</th>\n",
       "      <td>298</td>\n",
       "      <td>1076</td>\n",
       "      <td>1374</td>\n",
       "    </tr>\n",
       "    <tr>\n",
       "      <th>Yes</th>\n",
       "      <td>110</td>\n",
       "      <td>410</td>\n",
       "      <td>520</td>\n",
       "    </tr>\n",
       "    <tr>\n",
       "      <th>All</th>\n",
       "      <td>408</td>\n",
       "      <td>1486</td>\n",
       "      <td>1894</td>\n",
       "    </tr>\n",
       "  </tbody>\n",
       "</table>\n",
       "</div>"
      ],
      "text/plain": [
       "pa5helmfvact  1 YES  2 NO   All\n",
       "TJR                            \n",
       "No              298  1076  1374\n",
       "Yes             110   410   520\n",
       "All             408  1486  1894"
      ]
     },
     "execution_count": 85,
     "metadata": {},
     "output_type": "execute_result"
    }
   ],
   "source": [
    "#Frequency tables - Activity Analysis - NOT FOR INCOME \n",
    "\n",
    "table1 = pd.crosstab(index=total_patients_arthritis_mo1outoft[\"TJR\"], \n",
    "                            columns=total_patients_arthritis_mo1outoft[\"pa5helmfvact\"],\n",
    "                             margins=True)  \n",
    "table1"
   ]
  },
  {
   "cell_type": "code",
   "execution_count": null,
   "metadata": {},
   "outputs": [],
   "source": [
    "# Separating Individuals with HF from those Without HF\n",
    "\n",
    "#total_patients_arthritis_TJR = total_patients_arthritis[total_patients_arthritis.TJR == '1 YES']\n",
    "#total_patients_arthritis_NoTJR = total_patients_arthritis[total_patients_arthritis.TJR == '2 NO']"
   ]
  }
 ],
 "metadata": {
  "kernelspec": {
   "display_name": "Python 3",
   "language": "python",
   "name": "python3"
  },
  "language_info": {
   "codemirror_mode": {
    "name": "ipython",
    "version": 3
   },
   "file_extension": ".py",
   "mimetype": "text/x-python",
   "name": "python",
   "nbconvert_exporter": "python",
   "pygments_lexer": "ipython3",
   "version": "3.7.0"
  }
 },
 "nbformat": 4,
 "nbformat_minor": 2
}
