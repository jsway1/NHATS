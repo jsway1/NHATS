{
 "cells": [
  {
   "cell_type": "code",
   "execution_count": 1,
   "metadata": {},
   "outputs": [],
   "source": [
    "import pandas as pd \n",
    "import seaborn as sns \n",
    "import numpy as np\n",
    "import scipy as sp"
   ]
  },
  {
   "cell_type": "code",
   "execution_count": 2,
   "metadata": {},
   "outputs": [],
   "source": [
    "# Importing the Datasets \n",
    "\n",
    "df1 = pd.read_csv('Round1.csv')\n",
    "df2 = pd.read_csv('Round2.csv')\n",
    "df3 = pd.read_csv('Round3.csv')\n",
    "df4 = pd.read_csv('Round4.csv')\n",
    "df5 = pd.read_csv('Round5.csv')\n",
    "df6 = pd.read_csv('Round6.csv')\n",
    "df7 = pd.read_csv('Round7.csv')"
   ]
  },
  {
   "cell_type": "code",
   "execution_count": 3,
   "metadata": {},
   "outputs": [],
   "source": [
    "# Merging the Datasets \n",
    "\n",
    "mergedset1 = pd.merge(df1, df2, on='spid',how='left')\n",
    "mergedset2 = pd.merge(mergedset1,df3,on='spid',how='left')\n",
    "mergedset3 = pd.merge(mergedset2,df4,on='spid',how='left')\n",
    "mergedset4 = pd.merge(mergedset3,df5,on='spid',how='left')\n",
    "mergedset5 = pd.merge(mergedset4,df6,on='spid',how='left')\n",
    "mergedset_final = pd.merge(mergedset5,df7,on='spid',how='left')"
   ]
  },
  {
   "cell_type": "code",
   "execution_count": 4,
   "metadata": {},
   "outputs": [],
   "source": [
    "hip_fracture_study = mergedset_final"
   ]
  },
  {
   "cell_type": "code",
   "execution_count": 5,
   "metadata": {},
   "outputs": [],
   "source": [
    "hip_fracture_study = hip_fracture_study.replace('-1 Inapplicable',np.NaN)\n",
    "hip_fracture_study = hip_fracture_study.replace('-9 Missing',np.NaN)\n",
    "hip_fracture_study = hip_fracture_study.replace('-7 RF',np.NaN)\n",
    "hip_fracture_study = hip_fracture_study.replace('-8 DK',np.NaN)\n",
    "hip_fracture_study = hip_fracture_study.replace('.',np.NaN)"
   ]
  },
  {
   "cell_type": "code",
   "execution_count": 6,
   "metadata": {},
   "outputs": [],
   "source": [
    "# Creating a Variable Representing \"Working Status\" - If Patients Work for Pay or Volunteer HKF_Work_Vol = 1 else HKF_Work_Vol = 0\n",
    "\n",
    "conditions = [(hip_fracture_study['pa1workfrpay'] == '1 YES'), (hip_fracture_study['pa1workfrpay'] == '2 NO')]\n",
    "choices = [1, 0]\n",
    "hip_fracture_study['pa1workfrpay'] = np.select(conditions, choices)\n",
    "\n",
    "conditions = [(hip_fracture_study['pa1voltrwork'] == '1 YES') , (hip_fracture_study['pa1voltrwork'] == '2 NO')]\n",
    "choices = [1, 0]\n",
    "hip_fracture_study['pa1voltrwork'] = np.select(conditions, choices)\n",
    "\n",
    "hip_fracture_study['HKF_Work_Vol'] = hip_fracture_study['pa1voltrwork']+hip_fracture_study['pa1workfrpay']\n",
    "                                                                                                             \n",
    "conditions = [(hip_fracture_study['HKF_Work_Vol'] >= 1),(hip_fracture_study['HKF_Work_Vol'] == 0)]\n",
    "choices = [1, 0]\n",
    "hip_fracture_study['HKF_Work_Vol'] = np.select(conditions, choices)    "
   ]
  },
  {
   "cell_type": "code",
   "execution_count": 7,
   "metadata": {},
   "outputs": [],
   "source": [
    "# Converting the Imputed Income Values Round 1 - Round 3 from pd.Series to float\n",
    "\n",
    "hip_fracture_study['ia1toincim1'] = hip_fracture_study['ia1toincim1'].astype(float)\n",
    "hip_fracture_study['ia1toincim2'] = hip_fracture_study['ia1toincim2'].astype(float)\n",
    "hip_fracture_study['ia1toincim3'] = hip_fracture_study['ia1toincim3'].astype(float)\n",
    "hip_fracture_study['ia1toincim4'] = hip_fracture_study['ia1toincim4'].astype(float)\n",
    "hip_fracture_study['ia1toincim5'] = hip_fracture_study['ia1toincim5'].astype(float)\n",
    "\n",
    "hip_fracture_study['ia3toincim1'] = hip_fracture_study['ia3toincim1'].astype(float)\n",
    "hip_fracture_study['ia3toincim2'] = hip_fracture_study['ia3toincim2'].astype(float)\n",
    "hip_fracture_study['ia3toincim3'] = hip_fracture_study['ia3toincim3'].astype(float)\n",
    "hip_fracture_study['ia3toincim4'] = hip_fracture_study['ia3toincim4'].astype(float)\n",
    "hip_fracture_study['ia3toincim5'] = hip_fracture_study['ia3toincim5'].astype(float)"
   ]
  },
  {
   "cell_type": "code",
   "execution_count": 8,
   "metadata": {},
   "outputs": [],
   "source": [
    "# Computing the Average Imputed Income for Round 1\n",
    "\n",
    "hip_fracture_study['R1avg_income1-5'] = (hip_fracture_study['ia1toincim1']+hip_fracture_study['ia1toincim2']+hip_fracture_study['ia1toincim3']+hip_fracture_study['ia1toincim4']+hip_fracture_study['ia1toincim5'])/5\n",
    "\n",
    "hip_fracture_study['R3avg_income1-5'] = (hip_fracture_study['ia3toincim1']+hip_fracture_study['ia3toincim2']+hip_fracture_study['ia3toincim3']+hip_fracture_study['ia3toincim4']+hip_fracture_study['ia3toincim5'])/5\n",
    "\n",
    "hip_fracture_study['changeR1R3'] = (hip_fracture_study['R1avg_income1-5'] - hip_fracture_study['R3avg_income1-5'])"
   ]
  },
  {
   "cell_type": "code",
   "execution_count": 9,
   "metadata": {},
   "outputs": [],
   "source": [
    "#hip_fracture_study['changeR1R3'] = hip_fracture_study['changeR1R3'].dropna()"
   ]
  },
  {
   "cell_type": "code",
   "execution_count": 10,
   "metadata": {},
   "outputs": [],
   "source": [
    "# Excluding Patients Not Driving at Baseline for Activity Analysis - NOT FOR INCOME \n",
    "\n",
    "#hip_fracture_study = hip_fracture_study[hip_fracture_study.dt1oftedrive != '5 NEVER']"
   ]
  },
  {
   "cell_type": "code",
   "execution_count": 11,
   "metadata": {},
   "outputs": [],
   "source": [
    "# Frequency tables - Activity Analysis - NOT FOR INCOME \n",
    "#table1 = pd.crosstab(index=hip_fracture_study[\"hc5brokebon1\"], \n",
    "                            #columns=hip_fracture_study[\"pa5helmfvact\"],\n",
    "                             #margins=True)  \n",
    "#table1"
   ]
  },
  {
   "cell_type": "code",
   "execution_count": 12,
   "metadata": {},
   "outputs": [],
   "source": [
    "# Separating Individuals with HF from those Without HF\n",
    "\n",
    "hip_fracture_study_HF = hip_fracture_study[hip_fracture_study.hc1brokebon1 == '1 YES']\n",
    "hip_fracture_study_NoHF = hip_fracture_study[hip_fracture_study.hc1brokebon1 == '2 NO']"
   ]
  },
  {
   "cell_type": "code",
   "execution_count": 13,
   "metadata": {},
   "outputs": [
    {
     "data": {
      "text/plain": [
       "MannwhitneyuResult(statistic=1152514.0, pvalue=9.757920245419817e-08)"
      ]
     },
     "execution_count": 13,
     "metadata": {},
     "output_type": "execute_result"
    }
   ],
   "source": [
    "sp.stats.mannwhitneyu(hip_fracture_study_HF['changeR1R3'], hip_fracture_study_NoHF['changeR1R3'],alternative=None)"
   ]
  },
  {
   "cell_type": "code",
   "execution_count": 14,
   "metadata": {},
   "outputs": [
    {
     "data": {
      "text/plain": [
       "-3198.6"
      ]
     },
     "execution_count": 14,
     "metadata": {},
     "output_type": "execute_result"
    }
   ],
   "source": [
    "hip_fracture_study_HF['changeR1R3'].median()"
   ]
  },
  {
   "cell_type": "code",
   "execution_count": 15,
   "metadata": {},
   "outputs": [
    {
     "data": {
      "text/plain": [
       "-1600.0"
      ]
     },
     "execution_count": 15,
     "metadata": {},
     "output_type": "execute_result"
    }
   ],
   "source": [
    "hip_fracture_study_NoHF['changeR1R3'].median()"
   ]
  },
  {
   "cell_type": "code",
   "execution_count": 16,
   "metadata": {},
   "outputs": [],
   "source": [
    "#hip_fracture_study = hip_fracture_study[hip_fracture_study['changeR1R3'] <= 200000]\n",
    "#hip_fracture_study = hip_fracture_study[hip_fracture_study['changeR1R3'] >= -200000]"
   ]
  },
  {
   "cell_type": "code",
   "execution_count": 17,
   "metadata": {},
   "outputs": [],
   "source": [
    "#import matplotlib.pyplot as plt\n",
    "\n",
    "#plt.figure(figsize=(15,20))\n",
    "\n",
    "#sns.boxplot(x= hip_fracture_study['hc1brokebon1'], y= hip_fracture_study['changeR1R3'])"
   ]
  },
  {
   "cell_type": "code",
   "execution_count": 18,
   "metadata": {},
   "outputs": [
    {
     "data": {
      "text/html": [
       "<div>\n",
       "<style scoped>\n",
       "    .dataframe tbody tr th:only-of-type {\n",
       "        vertical-align: middle;\n",
       "    }\n",
       "\n",
       "    .dataframe tbody tr th {\n",
       "        vertical-align: top;\n",
       "    }\n",
       "\n",
       "    .dataframe thead th {\n",
       "        text-align: right;\n",
       "    }\n",
       "</style>\n",
       "<table border=\"1\" class=\"dataframe\">\n",
       "  <thead>\n",
       "    <tr style=\"text-align: right;\">\n",
       "      <th>pa2hlkepfvst</th>\n",
       "      <th>1 YES</th>\n",
       "      <th>2 NO</th>\n",
       "      <th>All</th>\n",
       "    </tr>\n",
       "    <tr>\n",
       "      <th>hc2brokebon1</th>\n",
       "      <th></th>\n",
       "      <th></th>\n",
       "      <th></th>\n",
       "    </tr>\n",
       "  </thead>\n",
       "  <tbody>\n",
       "    <tr>\n",
       "      <th>1 YES</th>\n",
       "      <td>19</td>\n",
       "      <td>58</td>\n",
       "      <td>77</td>\n",
       "    </tr>\n",
       "    <tr>\n",
       "      <th>2 NO</th>\n",
       "      <td>584</td>\n",
       "      <td>5386</td>\n",
       "      <td>5970</td>\n",
       "    </tr>\n",
       "    <tr>\n",
       "      <th>All</th>\n",
       "      <td>603</td>\n",
       "      <td>5444</td>\n",
       "      <td>6047</td>\n",
       "    </tr>\n",
       "  </tbody>\n",
       "</table>\n",
       "</div>"
      ],
      "text/plain": [
       "pa2hlkepfvst  1 YES  2 NO   All\n",
       "hc2brokebon1                   \n",
       "1 YES            19    58    77\n",
       "2 NO            584  5386  5970\n",
       "All             603  5444  6047"
      ]
     },
     "execution_count": 18,
     "metadata": {},
     "output_type": "execute_result"
    }
   ],
   "source": [
    "# Frequency tables - Activity Analysis - NOT FOR INCOME \n",
    "table1 = pd.crosstab(index=hip_fracture_study[\"hc2brokebon1\"], \n",
    "                            columns=hip_fracture_study[\"pa2hlkepfvst\"],\n",
    "                             margins=True)  \n",
    "table1"
   ]
  }
 ],
 "metadata": {
  "kernelspec": {
   "display_name": "Python 3",
   "language": "python",
   "name": "python3"
  },
  "language_info": {
   "codemirror_mode": {
    "name": "ipython",
    "version": 3
   },
   "file_extension": ".py",
   "mimetype": "text/x-python",
   "name": "python",
   "nbconvert_exporter": "python",
   "pygments_lexer": "ipython3",
   "version": "3.7.0"
  }
 },
 "nbformat": 4,
 "nbformat_minor": 2
}
