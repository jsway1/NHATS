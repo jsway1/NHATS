{
 "cells": [
  {
   "cell_type": "code",
   "execution_count": 70,
   "metadata": {},
   "outputs": [],
   "source": [
    "import pandas as pd \n",
    "import seaborn as sns \n",
    "import numpy as np\n",
    "import scipy as sp "
   ]
  },
  {
   "cell_type": "code",
   "execution_count": 71,
   "metadata": {},
   "outputs": [],
   "source": [
    "## Importing the Datasets\n",
    "\n",
    "df1 = pd.read_csv('Round1.csv')\n",
    "df2 = pd.read_csv('Round2.csv')\n",
    "df3 = pd.read_csv('Round3.csv')\n",
    "df4 = pd.read_csv('Round4.csv')\n",
    "df5 = pd.read_csv('Round5.csv')\n",
    "df6 = pd.read_csv('Round6.csv')"
   ]
  },
  {
   "cell_type": "code",
   "execution_count": 72,
   "metadata": {},
   "outputs": [],
   "source": [
    "# Computing Aggregate Mortality Rate for US Residents Aged 65 and Older"
   ]
  },
  {
   "cell_type": "code",
   "execution_count": 73,
   "metadata": {},
   "outputs": [],
   "source": [
    "# Merging the Datasets\n",
    "mergedset1 = pd.merge(df1, df2, on='spid',how='left')\n",
    "mergedset2 = pd.merge(mergedset1,df3,on='spid',how='left')\n",
    "mergedset3 = pd.merge(mergedset2,df4,on='spid',how='left')\n",
    "mergedset4 = pd.merge(mergedset3,df5,on='spid',how='left')\n",
    "mergedset_final = pd.merge(mergedset4,df6,on='spid',how='left')"
   ]
  },
  {
   "cell_type": "code",
   "execution_count": 74,
   "metadata": {},
   "outputs": [],
   "source": [
    "# Creating an Indicator Variable - LML - Indicates Whether Respondent Passed Away in Previous Year\n",
    "\n",
    "mergedset_final['LML2'] = np.where(mergedset_final['r2dlmlint']=='1 Last month of life interview', 1, 0)\n",
    "mergedset_final['LML3'] = np.where(mergedset_final['r3dlmlint']=='1 Last month of life interview', 1, 0)\n",
    "mergedset_final['LML4'] = np.where(mergedset_final['r4dlmlint']=='1 Last month of life interview', 1, 0)\n",
    "mergedset_final['LML5'] = np.where(mergedset_final['r5dlmlint']=='1 Last month of life interview', 1, 0)\n",
    "mergedset_final['LML6'] = np.where(mergedset_final['r6dlmlint']=='1 Last month of life interview', 1, 0)"
   ]
  },
  {
   "cell_type": "code",
   "execution_count": 75,
   "metadata": {},
   "outputs": [],
   "source": [
    "# Applying Survey Weights to Indicator Variable to Get Population Estimates for Mortality at Each Round \n",
    "\n",
    "mergedset_final['Mortality_Rounds_12'] = mergedset_final['LML2']*mergedset_final['W2ANFINWGT0']\n",
    "mergedset_final['Mortality_Rounds_23'] = mergedset_final['LML3']*mergedset_final['w3anfinwgt0']\n",
    "mergedset_final['Mortality_Rounds_34'] = mergedset_final['LML4']*mergedset_final['w4anfinwgt0']\n",
    "mergedset_final['Mortality_Rounds_45'] = mergedset_final['LML5']*mergedset_final['w5anfinwgt0']\n",
    "mergedset_final['Mortality_Rounds_56'] = mergedset_final['LML6']*mergedset_final['w6anfinwgt0']\n"
   ]
  },
  {
   "cell_type": "code",
   "execution_count": 76,
   "metadata": {},
   "outputs": [],
   "source": [
    "# Calculating the Total Mortality for Each Round and Computing the Sum Over all Rounds \n",
    "a = mergedset_final['Mortality_Rounds_12'].sum()\n",
    "b = mergedset_final['Mortality_Rounds_23'].sum()\n",
    "c = mergedset_final['Mortality_Rounds_34'].sum()\n",
    "d = mergedset_final['Mortality_Rounds_45'].sum()\n",
    "e = mergedset_final['Mortality_Rounds_56'].sum()\n",
    "num = a+b+c+d+e"
   ]
  },
  {
   "cell_type": "code",
   "execution_count": 77,
   "metadata": {},
   "outputs": [],
   "source": [
    "# Computing the Total Number of \"Person-Years\" for Mortality Rate Calculation \n",
    "\n",
    "a2 = mergedset_final['w1anfinwgt0'].sum()\n",
    "b2 = mergedset_final['W2ANFINWGT0'].sum()\n",
    "c2 = mergedset_final['w3anfinwgt0'].sum()\n",
    "d2 = mergedset_final['w4anfinwgt0'].sum()\n",
    "e2 = mergedset_final['w5anfinwgt0'].sum()\n",
    "f2 = mergedset_final['w6anfinwgt0'].sum()\n",
    "denom = a2+b2+c2+d2+e2+f2"
   ]
  },
  {
   "cell_type": "code",
   "execution_count": 78,
   "metadata": {},
   "outputs": [
    {
     "data": {
      "text/plain": [
       "0.040189637335737355"
      ]
     },
     "execution_count": 78,
     "metadata": {},
     "output_type": "execute_result"
    }
   ],
   "source": [
    "# Estimating Mortality Rate for the Population Over all Rounds \n",
    "\n",
    "num/denom"
   ]
  },
  {
   "cell_type": "code",
   "execution_count": 79,
   "metadata": {},
   "outputs": [
    {
     "data": {
      "text/plain": [
       "0.013566277869432366"
      ]
     },
     "execution_count": 79,
     "metadata": {},
     "output_type": "execute_result"
    }
   ],
   "source": [
    "# Estimating Mortality Rate for Individuals Age 65-69 \n",
    "\n",
    "mergedset_final_6569 = mergedset_final[mergedset_final.r1d2intvrage == '1 - 65-69']\n",
    "\n",
    "# Calculating the Total Mortality for Each Round and Computing the Sum Over all Rounds \n",
    "a = mergedset_final_6569['Mortality_Rounds_12'].sum()\n",
    "b = mergedset_final_6569['Mortality_Rounds_23'].sum()\n",
    "c = mergedset_final_6569['Mortality_Rounds_34'].sum()\n",
    "d = mergedset_final_6569['Mortality_Rounds_45'].sum()\n",
    "e = mergedset_final_6569['Mortality_Rounds_56'].sum()\n",
    "num = a+b+c+d+e\n",
    "\n",
    "# Computing the Total Number of \"Person-Years\" for Mortality Rate Calculation \n",
    "\n",
    "a2 = mergedset_final_6569['w1anfinwgt0'].sum()\n",
    "b2 = mergedset_final_6569['W2ANFINWGT0'].sum()\n",
    "c2 = mergedset_final_6569['w3anfinwgt0'].sum()\n",
    "d2 = mergedset_final_6569['w4anfinwgt0'].sum()\n",
    "e2 = mergedset_final_6569['w5anfinwgt0'].sum()\n",
    "f2 = mergedset_final_6569['w6anfinwgt0'].sum()\n",
    "denom = a2+b2+c2+d2+e2+f2\n",
    "\n",
    "# Estimating Mortality Rate in Population for Individuals Age 65-69 \n",
    "num/denom"
   ]
  },
  {
   "cell_type": "code",
   "execution_count": 80,
   "metadata": {},
   "outputs": [
    {
     "data": {
      "text/plain": [
       "0.021632378322197554"
      ]
     },
     "execution_count": 80,
     "metadata": {},
     "output_type": "execute_result"
    }
   ],
   "source": [
    "# Estimating Mortality Rate for Individuals Age 70-74\n",
    "\n",
    "mergedset_final_7074 = mergedset_final[mergedset_final.r1d2intvrage == '2 - 70-74']\n",
    "\n",
    "# Calculating the Total Mortality for Each Round and Computing the Sum Over all Rounds \n",
    "a = mergedset_final_7074['Mortality_Rounds_12'].sum()\n",
    "b = mergedset_final_7074['Mortality_Rounds_23'].sum()\n",
    "c = mergedset_final_7074['Mortality_Rounds_34'].sum()\n",
    "d = mergedset_final_7074['Mortality_Rounds_45'].sum()\n",
    "e = mergedset_final_7074['Mortality_Rounds_56'].sum()\n",
    "num = a+b+c+d+e\n",
    "\n",
    "# Computing the Total Number of \"Person-Years\" for Mortality Rate Calculation \n",
    "\n",
    "a2 = mergedset_final_7074['w1anfinwgt0'].sum()\n",
    "b2 = mergedset_final_7074['W2ANFINWGT0'].sum()\n",
    "c2 = mergedset_final_7074['w3anfinwgt0'].sum()\n",
    "d2 = mergedset_final_7074['w4anfinwgt0'].sum()\n",
    "e2 = mergedset_final_7074['w5anfinwgt0'].sum()\n",
    "f2 = mergedset_final_7074['w6anfinwgt0'].sum()\n",
    "denom = a2+b2+c2+d2+e2+f2\n",
    "\n",
    "# Estimating Mortality Rate in Population for Individuals Age 70-74 \n",
    "num/denom"
   ]
  },
  {
   "cell_type": "code",
   "execution_count": 81,
   "metadata": {},
   "outputs": [
    {
     "data": {
      "text/plain": [
       "0.0338021409115568"
      ]
     },
     "execution_count": 81,
     "metadata": {},
     "output_type": "execute_result"
    }
   ],
   "source": [
    "# Estimating Mortality Rate for Individuals Age 75-79\n",
    "\n",
    "mergedset_final_7579 = mergedset_final[mergedset_final.r1d2intvrage == '3 - 75-79']\n",
    "\n",
    "# Calculating the Total Mortality for Each Round and Computing the Sum Over all Rounds \n",
    "a = mergedset_final_7579['Mortality_Rounds_12'].sum()\n",
    "b = mergedset_final_7579['Mortality_Rounds_23'].sum()\n",
    "c = mergedset_final_7579['Mortality_Rounds_34'].sum()\n",
    "d = mergedset_final_7579['Mortality_Rounds_45'].sum()\n",
    "e = mergedset_final_7579['Mortality_Rounds_56'].sum()\n",
    "num = a+b+c+d+e\n",
    "\n",
    "# Computing the Total Number of \"Person-Years\" for Mortality Rate Calculation \n",
    "\n",
    "a2 = mergedset_final_7579['w1anfinwgt0'].sum()\n",
    "b2 = mergedset_final_7579['W2ANFINWGT0'].sum()\n",
    "c2 = mergedset_final_7579['w3anfinwgt0'].sum()\n",
    "d2 = mergedset_final_7579['w4anfinwgt0'].sum()\n",
    "e2 = mergedset_final_7579['w5anfinwgt0'].sum()\n",
    "f2 = mergedset_final_7579['w6anfinwgt0'].sum()\n",
    "denom = a2+b2+c2+d2+e2+f2\n",
    "\n",
    "# Estimating Mortality Rate in Population for Individuals Age 75-79\n",
    "num/denom"
   ]
  },
  {
   "cell_type": "code",
   "execution_count": 82,
   "metadata": {},
   "outputs": [
    {
     "data": {
      "text/plain": [
       "0.06066756718815346"
      ]
     },
     "execution_count": 82,
     "metadata": {},
     "output_type": "execute_result"
    }
   ],
   "source": [
    "# Estimating Mortality Rate for Individuals Age 80-84\n",
    "\n",
    "mergedset_final_8084 = mergedset_final[mergedset_final.r1d2intvrage == '4 - 80-84']\n",
    "\n",
    "# Calculating the Total Mortality for Each Round and Computing the Sum Over all Rounds \n",
    "a = mergedset_final_8084['Mortality_Rounds_12'].sum()\n",
    "b = mergedset_final_8084['Mortality_Rounds_23'].sum()\n",
    "c = mergedset_final_8084['Mortality_Rounds_34'].sum()\n",
    "d = mergedset_final_8084['Mortality_Rounds_45'].sum()\n",
    "e = mergedset_final_8084['Mortality_Rounds_56'].sum()\n",
    "num = a+b+c+d+e\n",
    "\n",
    "# Computing the Total Number of \"Person-Years\" for Mortality Rate Calculation \n",
    "\n",
    "a2 = mergedset_final_8084['w1anfinwgt0'].sum()\n",
    "b2 = mergedset_final_8084['W2ANFINWGT0'].sum()\n",
    "c2 = mergedset_final_8084['w3anfinwgt0'].sum()\n",
    "d2 = mergedset_final_8084['w4anfinwgt0'].sum()\n",
    "e2 = mergedset_final_8084['w5anfinwgt0'].sum()\n",
    "f2 = mergedset_final_8084['w6anfinwgt0'].sum()\n",
    "denom = a2+b2+c2+d2+e2+f2\n",
    "\n",
    "# Estimating Mortality Rate in Population for Individuals Age 80-84\n",
    "num/denom"
   ]
  },
  {
   "cell_type": "code",
   "execution_count": 83,
   "metadata": {},
   "outputs": [
    {
     "data": {
      "text/plain": [
       "0.10001703751864588"
      ]
     },
     "execution_count": 83,
     "metadata": {},
     "output_type": "execute_result"
    }
   ],
   "source": [
    "# Estimating Mortality Rate for Individuals Age 85-89\n",
    "\n",
    "mergedset_final_8589 = mergedset_final[mergedset_final.r1d2intvrage == '5 - 85-89']\n",
    "\n",
    "# Calculating the Total Mortality for Each Round and Computing the Sum Over all Rounds \n",
    "a = mergedset_final_8589['Mortality_Rounds_12'].sum()\n",
    "b = mergedset_final_8589['Mortality_Rounds_23'].sum()\n",
    "c = mergedset_final_8589['Mortality_Rounds_34'].sum()\n",
    "d = mergedset_final_8589['Mortality_Rounds_45'].sum()\n",
    "e = mergedset_final_8589['Mortality_Rounds_56'].sum()\n",
    "num = a+b+c+d+e\n",
    "\n",
    "# Computing the Total Number of \"Person-Years\" for Mortality Rate Calculation \n",
    "\n",
    "a2 = mergedset_final_8589['w1anfinwgt0'].sum()\n",
    "b2 = mergedset_final_8589['W2ANFINWGT0'].sum()\n",
    "c2 = mergedset_final_8589['w3anfinwgt0'].sum()\n",
    "d2 = mergedset_final_8589['w4anfinwgt0'].sum()\n",
    "e2 = mergedset_final_8589['w5anfinwgt0'].sum()\n",
    "f2 = mergedset_final_8589['w6anfinwgt0'].sum()\n",
    "denom = a2+b2+c2+d2+e2+f2\n",
    "\n",
    "# Estimating Mortality Rate in Population for Individuals Age 85-89\n",
    "num/denom"
   ]
  },
  {
   "cell_type": "code",
   "execution_count": 84,
   "metadata": {},
   "outputs": [
    {
     "data": {
      "text/plain": [
       "0.15647309262219966"
      ]
     },
     "execution_count": 84,
     "metadata": {},
     "output_type": "execute_result"
    }
   ],
   "source": [
    "# Estimating Mortality Rate for Individuals Age 90 +\n",
    "\n",
    "mergedset_final_90plus = mergedset_final[mergedset_final.r1d2intvrage == '6 - 90 +']\n",
    "\n",
    "# Calculating the Total Mortality for Each Round and Computing the Sum Over all Rounds \n",
    "a = mergedset_final_90plus['Mortality_Rounds_12'].sum()\n",
    "b = mergedset_final_90plus['Mortality_Rounds_23'].sum()\n",
    "c = mergedset_final_90plus['Mortality_Rounds_34'].sum()\n",
    "d = mergedset_final_90plus['Mortality_Rounds_45'].sum()\n",
    "e = mergedset_final_90plus['Mortality_Rounds_56'].sum()\n",
    "num = a+b+c+d+e\n",
    "\n",
    "# Computing the Total Number of \"Person-Years\" for Mortality Rate Calculation \n",
    "\n",
    "a2 = mergedset_final_90plus['w1anfinwgt0'].sum()\n",
    "b2 = mergedset_final_90plus['W2ANFINWGT0'].sum()\n",
    "c2 = mergedset_final_90plus['w3anfinwgt0'].sum()\n",
    "d2 = mergedset_final_90plus['w4anfinwgt0'].sum()\n",
    "e2 = mergedset_final_90plus['w5anfinwgt0'].sum()\n",
    "f2 = mergedset_final_90plus['w6anfinwgt0'].sum()\n",
    "denom = a2+b2+c2+d2+e2+f2\n",
    "\n",
    "# Estimating Mortality Rate in Population for Individuals Age 85-89\n",
    "num/denom"
   ]
  },
  {
   "cell_type": "code",
   "execution_count": null,
   "metadata": {},
   "outputs": [],
   "source": []
  },
  {
   "cell_type": "code",
   "execution_count": null,
   "metadata": {},
   "outputs": [],
   "source": []
  },
  {
   "cell_type": "code",
   "execution_count": null,
   "metadata": {},
   "outputs": [],
   "source": []
  },
  {
   "cell_type": "code",
   "execution_count": null,
   "metadata": {},
   "outputs": [],
   "source": []
  },
  {
   "cell_type": "code",
   "execution_count": null,
   "metadata": {},
   "outputs": [],
   "source": []
  },
  {
   "cell_type": "code",
   "execution_count": null,
   "metadata": {},
   "outputs": [],
   "source": []
  },
  {
   "cell_type": "code",
   "execution_count": 85,
   "metadata": {},
   "outputs": [],
   "source": [
    "# Computing the Mortality Rate for HF Patients one year post HF"
   ]
  },
  {
   "cell_type": "code",
   "execution_count": 86,
   "metadata": {},
   "outputs": [
    {
     "name": "stderr",
     "output_type": "stream",
     "text": [
      "C:\\Users\\swayambunathajp\\AppData\\Local\\Continuum\\anaconda3\\lib\\site-packages\\ipykernel_launcher.py:5: SettingWithCopyWarning: \n",
      "A value is trying to be set on a copy of a slice from a DataFrame.\n",
      "Try using .loc[row_indexer,col_indexer] = value instead\n",
      "\n",
      "See the caveats in the documentation: http://pandas.pydata.org/pandas-docs/stable/indexing.html#indexing-view-versus-copy\n",
      "  \"\"\"\n",
      "C:\\Users\\swayambunathajp\\AppData\\Local\\Continuum\\anaconda3\\lib\\site-packages\\ipykernel_launcher.py:6: SettingWithCopyWarning: \n",
      "A value is trying to be set on a copy of a slice from a DataFrame.\n",
      "Try using .loc[row_indexer,col_indexer] = value instead\n",
      "\n",
      "See the caveats in the documentation: http://pandas.pydata.org/pandas-docs/stable/indexing.html#indexing-view-versus-copy\n",
      "  \n",
      "C:\\Users\\swayambunathajp\\AppData\\Local\\Continuum\\anaconda3\\lib\\site-packages\\ipykernel_launcher.py:12: SettingWithCopyWarning: \n",
      "A value is trying to be set on a copy of a slice from a DataFrame.\n",
      "Try using .loc[row_indexer,col_indexer] = value instead\n",
      "\n",
      "See the caveats in the documentation: http://pandas.pydata.org/pandas-docs/stable/indexing.html#indexing-view-versus-copy\n",
      "  if sys.path[0] == '':\n",
      "C:\\Users\\swayambunathajp\\AppData\\Local\\Continuum\\anaconda3\\lib\\site-packages\\ipykernel_launcher.py:13: SettingWithCopyWarning: \n",
      "A value is trying to be set on a copy of a slice from a DataFrame.\n",
      "Try using .loc[row_indexer,col_indexer] = value instead\n",
      "\n",
      "See the caveats in the documentation: http://pandas.pydata.org/pandas-docs/stable/indexing.html#indexing-view-versus-copy\n",
      "  del sys.path[0]\n",
      "C:\\Users\\swayambunathajp\\AppData\\Local\\Continuum\\anaconda3\\lib\\site-packages\\ipykernel_launcher.py:19: SettingWithCopyWarning: \n",
      "A value is trying to be set on a copy of a slice from a DataFrame.\n",
      "Try using .loc[row_indexer,col_indexer] = value instead\n",
      "\n",
      "See the caveats in the documentation: http://pandas.pydata.org/pandas-docs/stable/indexing.html#indexing-view-versus-copy\n",
      "C:\\Users\\swayambunathajp\\AppData\\Local\\Continuum\\anaconda3\\lib\\site-packages\\ipykernel_launcher.py:20: SettingWithCopyWarning: \n",
      "A value is trying to be set on a copy of a slice from a DataFrame.\n",
      "Try using .loc[row_indexer,col_indexer] = value instead\n",
      "\n",
      "See the caveats in the documentation: http://pandas.pydata.org/pandas-docs/stable/indexing.html#indexing-view-versus-copy\n",
      "C:\\Users\\swayambunathajp\\AppData\\Local\\Continuum\\anaconda3\\lib\\site-packages\\ipykernel_launcher.py:27: SettingWithCopyWarning: \n",
      "A value is trying to be set on a copy of a slice from a DataFrame.\n",
      "Try using .loc[row_indexer,col_indexer] = value instead\n",
      "\n",
      "See the caveats in the documentation: http://pandas.pydata.org/pandas-docs/stable/indexing.html#indexing-view-versus-copy\n",
      "C:\\Users\\swayambunathajp\\AppData\\Local\\Continuum\\anaconda3\\lib\\site-packages\\ipykernel_launcher.py:28: SettingWithCopyWarning: \n",
      "A value is trying to be set on a copy of a slice from a DataFrame.\n",
      "Try using .loc[row_indexer,col_indexer] = value instead\n",
      "\n",
      "See the caveats in the documentation: http://pandas.pydata.org/pandas-docs/stable/indexing.html#indexing-view-versus-copy\n"
     ]
    }
   ],
   "source": [
    "# Isolating Subjects Who've Suffered Hip Fractures in Previous Year and Calculating Mortality Within First Year Post-Hip Fracture \n",
    "\n",
    "\n",
    "mergedset_finalHF2 = mergedset_final[mergedset_final.hc2brokebon1 == '1 YES']\n",
    "mergedset_finalHF2['LML3'] = np.where(mergedset_finalHF2['r3dlmlint']=='1 Last month of life interview', 1, 0)\n",
    "mergedset_finalHF2['Mortality_Rounds_23'] = mergedset_finalHF2['LML3']*mergedset_finalHF2['w3anfinwgt0']\n",
    "\n",
    "a = mergedset_finalHF2['Mortality_Rounds_23'].sum()\n",
    "a2 = mergedset_finalHF2['w3anfinwgt0'].sum()\n",
    "\n",
    "mergedset_finalHF3 = mergedset_final[mergedset_final.hc3brokebon1 == '1 YES']\n",
    "mergedset_finalHF3['LML4'] = np.where(mergedset_finalHF3['r4dlmlint']=='1 Last month of life interview', 1, 0)\n",
    "mergedset_finalHF3['Mortality_Rounds_34'] = mergedset_finalHF3['LML4']*mergedset_finalHF3['w4anfinwgt0']\n",
    "\n",
    "b = mergedset_finalHF3['Mortality_Rounds_34'].sum()\n",
    "b2 = mergedset_finalHF3['w4anfinwgt0'].sum()\n",
    "\n",
    "mergedset_finalHF4 = mergedset_final[mergedset_final.hc4brokebon1 == '1 YES']\n",
    "mergedset_finalHF4['LML5'] = np.where(mergedset_finalHF4['r5dlmlint']=='1 Last month of life interview', 1, 0)\n",
    "mergedset_finalHF4['Mortality_Rounds_45'] = mergedset_finalHF4['LML5']*mergedset_finalHF4['w5anfinwgt0']\n",
    "\n",
    "c = mergedset_finalHF4['Mortality_Rounds_45'].sum()\n",
    "c2 = mergedset_finalHF4['w5anfinwgt0'].sum()\n",
    "\n",
    "\n",
    "mergedset_finalHF5 = mergedset_final[mergedset_final.hc5brokebon1 == '1 YES']\n",
    "mergedset_finalHF5['LML6'] = np.where(mergedset_finalHF5['r6dlmlint']=='1 Last month of life interview', 1, 0)\n",
    "mergedset_finalHF5['Mortality_Rounds_56'] = mergedset_finalHF5['LML6']*mergedset_finalHF5['w6anfinwgt0']\n",
    "\n",
    "d = mergedset_finalHF5['Mortality_Rounds_56'].sum()\n",
    "d2 = mergedset_finalHF5['w6anfinwgt0'].sum()\n",
    "\n",
    "num = a+b+c+d\n",
    "denom = a2+b2+c2+d2"
   ]
  },
  {
   "cell_type": "code",
   "execution_count": 87,
   "metadata": {},
   "outputs": [
    {
     "data": {
      "text/plain": [
       "0.13067957429112625"
      ]
     },
     "execution_count": 87,
     "metadata": {},
     "output_type": "execute_result"
    }
   ],
   "source": [
    "# Mortality Rate for Hip Fracture Patients in this Sample \n",
    "\n",
    "num/denom               "
   ]
  },
  {
   "cell_type": "code",
   "execution_count": 99,
   "metadata": {},
   "outputs": [
    {
     "name": "stderr",
     "output_type": "stream",
     "text": [
      "C:\\Users\\swayambunathajp\\AppData\\Local\\Continuum\\anaconda3\\lib\\site-packages\\ipykernel_launcher.py:10: SettingWithCopyWarning: \n",
      "A value is trying to be set on a copy of a slice from a DataFrame.\n",
      "Try using .loc[row_indexer,col_indexer] = value instead\n",
      "\n",
      "See the caveats in the documentation: http://pandas.pydata.org/pandas-docs/stable/indexing.html#indexing-view-versus-copy\n",
      "  # Remove the CWD from sys.path while we load stuff.\n",
      "C:\\Users\\swayambunathajp\\AppData\\Local\\Continuum\\anaconda3\\lib\\site-packages\\ipykernel_launcher.py:11: SettingWithCopyWarning: \n",
      "A value is trying to be set on a copy of a slice from a DataFrame.\n",
      "Try using .loc[row_indexer,col_indexer] = value instead\n",
      "\n",
      "See the caveats in the documentation: http://pandas.pydata.org/pandas-docs/stable/indexing.html#indexing-view-versus-copy\n",
      "  # This is added back by InteractiveShellApp.init_path()\n",
      "C:\\Users\\swayambunathajp\\AppData\\Local\\Continuum\\anaconda3\\lib\\site-packages\\ipykernel_launcher.py:20: SettingWithCopyWarning: \n",
      "A value is trying to be set on a copy of a slice from a DataFrame.\n",
      "Try using .loc[row_indexer,col_indexer] = value instead\n",
      "\n",
      "See the caveats in the documentation: http://pandas.pydata.org/pandas-docs/stable/indexing.html#indexing-view-versus-copy\n",
      "C:\\Users\\swayambunathajp\\AppData\\Local\\Continuum\\anaconda3\\lib\\site-packages\\ipykernel_launcher.py:21: SettingWithCopyWarning: \n",
      "A value is trying to be set on a copy of a slice from a DataFrame.\n",
      "Try using .loc[row_indexer,col_indexer] = value instead\n",
      "\n",
      "See the caveats in the documentation: http://pandas.pydata.org/pandas-docs/stable/indexing.html#indexing-view-versus-copy\n",
      "C:\\Users\\swayambunathajp\\AppData\\Local\\Continuum\\anaconda3\\lib\\site-packages\\ipykernel_launcher.py:29: SettingWithCopyWarning: \n",
      "A value is trying to be set on a copy of a slice from a DataFrame.\n",
      "Try using .loc[row_indexer,col_indexer] = value instead\n",
      "\n",
      "See the caveats in the documentation: http://pandas.pydata.org/pandas-docs/stable/indexing.html#indexing-view-versus-copy\n",
      "C:\\Users\\swayambunathajp\\AppData\\Local\\Continuum\\anaconda3\\lib\\site-packages\\ipykernel_launcher.py:30: SettingWithCopyWarning: \n",
      "A value is trying to be set on a copy of a slice from a DataFrame.\n",
      "Try using .loc[row_indexer,col_indexer] = value instead\n",
      "\n",
      "See the caveats in the documentation: http://pandas.pydata.org/pandas-docs/stable/indexing.html#indexing-view-versus-copy\n",
      "C:\\Users\\swayambunathajp\\AppData\\Local\\Continuum\\anaconda3\\lib\\site-packages\\ipykernel_launcher.py:39: SettingWithCopyWarning: \n",
      "A value is trying to be set on a copy of a slice from a DataFrame.\n",
      "Try using .loc[row_indexer,col_indexer] = value instead\n",
      "\n",
      "See the caveats in the documentation: http://pandas.pydata.org/pandas-docs/stable/indexing.html#indexing-view-versus-copy\n",
      "C:\\Users\\swayambunathajp\\AppData\\Local\\Continuum\\anaconda3\\lib\\site-packages\\ipykernel_launcher.py:40: SettingWithCopyWarning: \n",
      "A value is trying to be set on a copy of a slice from a DataFrame.\n",
      "Try using .loc[row_indexer,col_indexer] = value instead\n",
      "\n",
      "See the caveats in the documentation: http://pandas.pydata.org/pandas-docs/stable/indexing.html#indexing-view-versus-copy\n"
     ]
    }
   ],
   "source": [
    "# Isolating Subjects Who've Suffered Hip Fractures in Previous Year and Calculating Mortality Within First Year Post-Hip Fracture \n",
    "# for patients age 65-69 at intake\n",
    "\n",
    "mergedset_finalHF2 = mergedset_final[mergedset_final.hc2brokebon1 == '1 YES']\n",
    "\n",
    "# Isolating Hip Fracture Patients Age 65-69 at intake\n",
    "\n",
    "mergedset_finalHF2 = mergedset_final[mergedset_final.r1d2intvrage == '1 - 65-69']\n",
    "\n",
    "mergedset_finalHF2['LML3'] = np.where(mergedset_finalHF2['r3dlmlint']=='1 Last month of life interview', 1, 0)\n",
    "mergedset_finalHF2['Mortality_Rounds_23'] = mergedset_finalHF2['LML3']*mergedset_finalHF2['w3anfinwgt0']\n",
    "\n",
    "a = mergedset_finalHF2['Mortality_Rounds_23'].sum()\n",
    "a2 = mergedset_finalHF2['w3anfinwgt0'].sum()\n",
    "\n",
    "mergedset_finalHF3 = mergedset_final[mergedset_final.hc3brokebon1 == '1 YES']\n",
    "\n",
    "mergedset_finalHF3 = mergedset_final[mergedset_final.r1d2intvrage == '1 - 65-69']\n",
    "\n",
    "mergedset_finalHF3['LML4'] = np.where(mergedset_finalHF3['r4dlmlint']=='1 Last month of life interview', 1, 0)\n",
    "mergedset_finalHF3['Mortality_Rounds_34'] = mergedset_finalHF3['LML4']*mergedset_finalHF3['w4anfinwgt0']\n",
    "\n",
    "b = mergedset_finalHF3['Mortality_Rounds_34'].sum()\n",
    "b2 = mergedset_finalHF3['w4anfinwgt0'].sum()\n",
    "\n",
    "mergedset_finalHF4 = mergedset_final[mergedset_final.hc4brokebon1 == '1 YES']\n",
    "mergedset_finalHF4 = mergedset_final[mergedset_final.r1d2intvrage == '1 - 65-69']\n",
    "\n",
    "mergedset_finalHF4['LML5'] = np.where(mergedset_finalHF4['r5dlmlint']=='1 Last month of life interview', 1, 0)\n",
    "mergedset_finalHF4['Mortality_Rounds_45'] = mergedset_finalHF4['LML5']*mergedset_finalHF4['w5anfinwgt0']\n",
    "\n",
    "c = mergedset_finalHF4['Mortality_Rounds_45'].sum()\n",
    "c2 = mergedset_finalHF4['w5anfinwgt0'].sum()\n",
    "\n",
    "\n",
    "mergedset_finalHF5 = mergedset_final[mergedset_final.hc5brokebon1 == '1 YES']\n",
    "mergedset_finalHF5 = mergedset_final[mergedset_final.r1d2intvrage == '1 - 65-69']\n",
    "\n",
    "mergedset_finalHF5['LML6'] = np.where(mergedset_finalHF5['r6dlmlint']=='1 Last month of life interview', 1, 0)\n",
    "mergedset_finalHF5['Mortality_Rounds_56'] = mergedset_finalHF5['LML6']*mergedset_finalHF5['w6anfinwgt0']\n",
    "\n",
    "d = mergedset_finalHF5['Mortality_Rounds_56'].sum()\n",
    "d2 = mergedset_finalHF5['w6anfinwgt0'].sum()\n",
    "\n",
    "num = a+b+c+d\n",
    "denom = a2+b2+c2+d2"
   ]
  },
  {
   "cell_type": "code",
   "execution_count": 100,
   "metadata": {},
   "outputs": [
    {
     "data": {
      "text/plain": [
       "0.01804238586367005"
      ]
     },
     "execution_count": 100,
     "metadata": {},
     "output_type": "execute_result"
    }
   ],
   "source": [
    "# Mortality Rate for Hip Fracture Patients Age 65-69 at intake\n",
    "num/denom"
   ]
  },
  {
   "cell_type": "code",
   "execution_count": 101,
   "metadata": {},
   "outputs": [
    {
     "name": "stderr",
     "output_type": "stream",
     "text": [
      "C:\\Users\\swayambunathajp\\AppData\\Local\\Continuum\\anaconda3\\lib\\site-packages\\ipykernel_launcher.py:10: SettingWithCopyWarning: \n",
      "A value is trying to be set on a copy of a slice from a DataFrame.\n",
      "Try using .loc[row_indexer,col_indexer] = value instead\n",
      "\n",
      "See the caveats in the documentation: http://pandas.pydata.org/pandas-docs/stable/indexing.html#indexing-view-versus-copy\n",
      "  # Remove the CWD from sys.path while we load stuff.\n",
      "C:\\Users\\swayambunathajp\\AppData\\Local\\Continuum\\anaconda3\\lib\\site-packages\\ipykernel_launcher.py:11: SettingWithCopyWarning: \n",
      "A value is trying to be set on a copy of a slice from a DataFrame.\n",
      "Try using .loc[row_indexer,col_indexer] = value instead\n",
      "\n",
      "See the caveats in the documentation: http://pandas.pydata.org/pandas-docs/stable/indexing.html#indexing-view-versus-copy\n",
      "  # This is added back by InteractiveShellApp.init_path()\n",
      "C:\\Users\\swayambunathajp\\AppData\\Local\\Continuum\\anaconda3\\lib\\site-packages\\ipykernel_launcher.py:20: SettingWithCopyWarning: \n",
      "A value is trying to be set on a copy of a slice from a DataFrame.\n",
      "Try using .loc[row_indexer,col_indexer] = value instead\n",
      "\n",
      "See the caveats in the documentation: http://pandas.pydata.org/pandas-docs/stable/indexing.html#indexing-view-versus-copy\n",
      "C:\\Users\\swayambunathajp\\AppData\\Local\\Continuum\\anaconda3\\lib\\site-packages\\ipykernel_launcher.py:21: SettingWithCopyWarning: \n",
      "A value is trying to be set on a copy of a slice from a DataFrame.\n",
      "Try using .loc[row_indexer,col_indexer] = value instead\n",
      "\n",
      "See the caveats in the documentation: http://pandas.pydata.org/pandas-docs/stable/indexing.html#indexing-view-versus-copy\n",
      "C:\\Users\\swayambunathajp\\AppData\\Local\\Continuum\\anaconda3\\lib\\site-packages\\ipykernel_launcher.py:29: SettingWithCopyWarning: \n",
      "A value is trying to be set on a copy of a slice from a DataFrame.\n",
      "Try using .loc[row_indexer,col_indexer] = value instead\n",
      "\n",
      "See the caveats in the documentation: http://pandas.pydata.org/pandas-docs/stable/indexing.html#indexing-view-versus-copy\n",
      "C:\\Users\\swayambunathajp\\AppData\\Local\\Continuum\\anaconda3\\lib\\site-packages\\ipykernel_launcher.py:30: SettingWithCopyWarning: \n",
      "A value is trying to be set on a copy of a slice from a DataFrame.\n",
      "Try using .loc[row_indexer,col_indexer] = value instead\n",
      "\n",
      "See the caveats in the documentation: http://pandas.pydata.org/pandas-docs/stable/indexing.html#indexing-view-versus-copy\n",
      "C:\\Users\\swayambunathajp\\AppData\\Local\\Continuum\\anaconda3\\lib\\site-packages\\ipykernel_launcher.py:39: SettingWithCopyWarning: \n",
      "A value is trying to be set on a copy of a slice from a DataFrame.\n",
      "Try using .loc[row_indexer,col_indexer] = value instead\n",
      "\n",
      "See the caveats in the documentation: http://pandas.pydata.org/pandas-docs/stable/indexing.html#indexing-view-versus-copy\n",
      "C:\\Users\\swayambunathajp\\AppData\\Local\\Continuum\\anaconda3\\lib\\site-packages\\ipykernel_launcher.py:40: SettingWithCopyWarning: \n",
      "A value is trying to be set on a copy of a slice from a DataFrame.\n",
      "Try using .loc[row_indexer,col_indexer] = value instead\n",
      "\n",
      "See the caveats in the documentation: http://pandas.pydata.org/pandas-docs/stable/indexing.html#indexing-view-versus-copy\n"
     ]
    }
   ],
   "source": [
    "# Isolating Subjects Who've Suffered Hip Fractures in Previous Year and Calculating Mortality Within First Year Post-Hip Fracture \n",
    "# for patients age 70-74 at intake \n",
    "\n",
    "mergedset_finalHF2 = mergedset_final[mergedset_final.hc2brokebon1 == '1 YES']\n",
    "\n",
    "# Isolating Hip Fracture Patients Age 65-69 at intake\n",
    "\n",
    "mergedset_finalHF2 = mergedset_final[mergedset_final.r1d2intvrage == '2 - 70-74']\n",
    "\n",
    "mergedset_finalHF2['LML3'] = np.where(mergedset_finalHF2['r3dlmlint']=='1 Last month of life interview', 1, 0)\n",
    "mergedset_finalHF2['Mortality_Rounds_23'] = mergedset_finalHF2['LML3']*mergedset_finalHF2['w3anfinwgt0']\n",
    "\n",
    "a = mergedset_finalHF2['Mortality_Rounds_23'].sum()\n",
    "a2 = mergedset_finalHF2['w3anfinwgt0'].sum()\n",
    "\n",
    "mergedset_finalHF3 = mergedset_final[mergedset_final.hc3brokebon1 == '1 YES']\n",
    "\n",
    "mergedset_finalHF3 = mergedset_final[mergedset_final.r1d2intvrage == '2 - 70-74']\n",
    "\n",
    "mergedset_finalHF3['LML4'] = np.where(mergedset_finalHF3['r4dlmlint']=='1 Last month of life interview', 1, 0)\n",
    "mergedset_finalHF3['Mortality_Rounds_34'] = mergedset_finalHF3['LML4']*mergedset_finalHF3['w4anfinwgt0']\n",
    "\n",
    "b = mergedset_finalHF3['Mortality_Rounds_34'].sum()\n",
    "b2 = mergedset_finalHF3['w4anfinwgt0'].sum()\n",
    "\n",
    "mergedset_finalHF4 = mergedset_final[mergedset_final.hc4brokebon1 == '1 YES']\n",
    "mergedset_finalHF4 = mergedset_final[mergedset_final.r1d2intvrage == '2 - 70-74']\n",
    "\n",
    "mergedset_finalHF4['LML5'] = np.where(mergedset_finalHF4['r5dlmlint']=='1 Last month of life interview', 1, 0)\n",
    "mergedset_finalHF4['Mortality_Rounds_45'] = mergedset_finalHF4['LML5']*mergedset_finalHF4['w5anfinwgt0']\n",
    "\n",
    "c = mergedset_finalHF4['Mortality_Rounds_45'].sum()\n",
    "c2 = mergedset_finalHF4['w5anfinwgt0'].sum()\n",
    "\n",
    "\n",
    "mergedset_finalHF5 = mergedset_final[mergedset_final.hc5brokebon1 == '1 YES']\n",
    "mergedset_finalHF5 = mergedset_final[mergedset_final.r1d2intvrage == '2 - 70-74']\n",
    "\n",
    "mergedset_finalHF5['LML6'] = np.where(mergedset_finalHF5['r6dlmlint']=='1 Last month of life interview', 1, 0)\n",
    "mergedset_finalHF5['Mortality_Rounds_56'] = mergedset_finalHF5['LML6']*mergedset_finalHF5['w6anfinwgt0']\n",
    "\n",
    "d = mergedset_finalHF5['Mortality_Rounds_56'].sum()\n",
    "d2 = mergedset_finalHF5['w6anfinwgt0'].sum()\n",
    "\n",
    "num = a+b+c+d\n",
    "denom = a2+b2+c2+d2"
   ]
  },
  {
   "cell_type": "code",
   "execution_count": 102,
   "metadata": {},
   "outputs": [
    {
     "data": {
      "text/plain": [
       "0.029441277453278375"
      ]
     },
     "execution_count": 102,
     "metadata": {},
     "output_type": "execute_result"
    }
   ],
   "source": [
    "# Mortality Rate for Hip Fracture Patients Age 70-74 at intake\n",
    "num/denom"
   ]
  },
  {
   "cell_type": "code",
   "execution_count": 103,
   "metadata": {},
   "outputs": [
    {
     "name": "stderr",
     "output_type": "stream",
     "text": [
      "C:\\Users\\swayambunathajp\\AppData\\Local\\Continuum\\anaconda3\\lib\\site-packages\\ipykernel_launcher.py:10: SettingWithCopyWarning: \n",
      "A value is trying to be set on a copy of a slice from a DataFrame.\n",
      "Try using .loc[row_indexer,col_indexer] = value instead\n",
      "\n",
      "See the caveats in the documentation: http://pandas.pydata.org/pandas-docs/stable/indexing.html#indexing-view-versus-copy\n",
      "  # Remove the CWD from sys.path while we load stuff.\n",
      "C:\\Users\\swayambunathajp\\AppData\\Local\\Continuum\\anaconda3\\lib\\site-packages\\ipykernel_launcher.py:11: SettingWithCopyWarning: \n",
      "A value is trying to be set on a copy of a slice from a DataFrame.\n",
      "Try using .loc[row_indexer,col_indexer] = value instead\n",
      "\n",
      "See the caveats in the documentation: http://pandas.pydata.org/pandas-docs/stable/indexing.html#indexing-view-versus-copy\n",
      "  # This is added back by InteractiveShellApp.init_path()\n",
      "C:\\Users\\swayambunathajp\\AppData\\Local\\Continuum\\anaconda3\\lib\\site-packages\\ipykernel_launcher.py:20: SettingWithCopyWarning: \n",
      "A value is trying to be set on a copy of a slice from a DataFrame.\n",
      "Try using .loc[row_indexer,col_indexer] = value instead\n",
      "\n",
      "See the caveats in the documentation: http://pandas.pydata.org/pandas-docs/stable/indexing.html#indexing-view-versus-copy\n",
      "C:\\Users\\swayambunathajp\\AppData\\Local\\Continuum\\anaconda3\\lib\\site-packages\\ipykernel_launcher.py:21: SettingWithCopyWarning: \n",
      "A value is trying to be set on a copy of a slice from a DataFrame.\n",
      "Try using .loc[row_indexer,col_indexer] = value instead\n",
      "\n",
      "See the caveats in the documentation: http://pandas.pydata.org/pandas-docs/stable/indexing.html#indexing-view-versus-copy\n",
      "C:\\Users\\swayambunathajp\\AppData\\Local\\Continuum\\anaconda3\\lib\\site-packages\\ipykernel_launcher.py:29: SettingWithCopyWarning: \n",
      "A value is trying to be set on a copy of a slice from a DataFrame.\n",
      "Try using .loc[row_indexer,col_indexer] = value instead\n",
      "\n",
      "See the caveats in the documentation: http://pandas.pydata.org/pandas-docs/stable/indexing.html#indexing-view-versus-copy\n",
      "C:\\Users\\swayambunathajp\\AppData\\Local\\Continuum\\anaconda3\\lib\\site-packages\\ipykernel_launcher.py:30: SettingWithCopyWarning: \n",
      "A value is trying to be set on a copy of a slice from a DataFrame.\n",
      "Try using .loc[row_indexer,col_indexer] = value instead\n",
      "\n",
      "See the caveats in the documentation: http://pandas.pydata.org/pandas-docs/stable/indexing.html#indexing-view-versus-copy\n",
      "C:\\Users\\swayambunathajp\\AppData\\Local\\Continuum\\anaconda3\\lib\\site-packages\\ipykernel_launcher.py:39: SettingWithCopyWarning: \n",
      "A value is trying to be set on a copy of a slice from a DataFrame.\n",
      "Try using .loc[row_indexer,col_indexer] = value instead\n",
      "\n",
      "See the caveats in the documentation: http://pandas.pydata.org/pandas-docs/stable/indexing.html#indexing-view-versus-copy\n",
      "C:\\Users\\swayambunathajp\\AppData\\Local\\Continuum\\anaconda3\\lib\\site-packages\\ipykernel_launcher.py:40: SettingWithCopyWarning: \n",
      "A value is trying to be set on a copy of a slice from a DataFrame.\n",
      "Try using .loc[row_indexer,col_indexer] = value instead\n",
      "\n",
      "See the caveats in the documentation: http://pandas.pydata.org/pandas-docs/stable/indexing.html#indexing-view-versus-copy\n"
     ]
    }
   ],
   "source": [
    "# Isolating Subjects Who've Suffered Hip Fractures in Previous Year and Calculating Mortality Within First Year Post-Hip Fracture \n",
    "# for patients age 75-79 at intake \n",
    "\n",
    "mergedset_finalHF2 = mergedset_final[mergedset_final.hc2brokebon1 == '1 YES']\n",
    "\n",
    "# Isolating Hip Fracture Patients Age 75-79 at intake\n",
    "\n",
    "mergedset_finalHF2 = mergedset_final[mergedset_final.r1d2intvrage == '3 - 75-79']\n",
    "\n",
    "mergedset_finalHF2['LML3'] = np.where(mergedset_finalHF2['r3dlmlint']=='1 Last month of life interview', 1, 0)\n",
    "mergedset_finalHF2['Mortality_Rounds_23'] = mergedset_finalHF2['LML3']*mergedset_finalHF2['w3anfinwgt0']\n",
    "\n",
    "a = mergedset_finalHF2['Mortality_Rounds_23'].sum()\n",
    "a2 = mergedset_finalHF2['w3anfinwgt0'].sum()\n",
    "\n",
    "mergedset_finalHF3 = mergedset_final[mergedset_final.hc3brokebon1 == '1 YES']\n",
    "\n",
    "mergedset_finalHF3 = mergedset_final[mergedset_final.r1d2intvrage == '3 - 75-79']\n",
    "\n",
    "mergedset_finalHF3['LML4'] = np.where(mergedset_finalHF3['r4dlmlint']=='1 Last month of life interview', 1, 0)\n",
    "mergedset_finalHF3['Mortality_Rounds_34'] = mergedset_finalHF3['LML4']*mergedset_finalHF3['w4anfinwgt0']\n",
    "\n",
    "b = mergedset_finalHF3['Mortality_Rounds_34'].sum()\n",
    "b2 = mergedset_finalHF3['w4anfinwgt0'].sum()\n",
    "\n",
    "mergedset_finalHF4 = mergedset_final[mergedset_final.hc4brokebon1 == '1 YES']\n",
    "mergedset_finalHF4 = mergedset_final[mergedset_final.r1d2intvrage == '3 - 75-79']\n",
    "\n",
    "mergedset_finalHF4['LML5'] = np.where(mergedset_finalHF4['r5dlmlint']=='1 Last month of life interview', 1, 0)\n",
    "mergedset_finalHF4['Mortality_Rounds_45'] = mergedset_finalHF4['LML5']*mergedset_finalHF4['w5anfinwgt0']\n",
    "\n",
    "c = mergedset_finalHF4['Mortality_Rounds_45'].sum()\n",
    "c2 = mergedset_finalHF4['w5anfinwgt0'].sum()\n",
    "\n",
    "\n",
    "mergedset_finalHF5 = mergedset_final[mergedset_final.hc5brokebon1 == '1 YES']\n",
    "mergedset_finalHF5 = mergedset_final[mergedset_final.r1d2intvrage == '3 - 75-79']\n",
    "\n",
    "mergedset_finalHF5['LML6'] = np.where(mergedset_finalHF5['r6dlmlint']=='1 Last month of life interview', 1, 0)\n",
    "mergedset_finalHF5['Mortality_Rounds_56'] = mergedset_finalHF5['LML6']*mergedset_finalHF5['w6anfinwgt0']\n",
    "\n",
    "d = mergedset_finalHF5['Mortality_Rounds_56'].sum()\n",
    "d2 = mergedset_finalHF5['w6anfinwgt0'].sum()\n",
    "\n",
    "num = a+b+c+d\n",
    "denom = a2+b2+c2+d2"
   ]
  },
  {
   "cell_type": "code",
   "execution_count": 104,
   "metadata": {},
   "outputs": [
    {
     "data": {
      "text/plain": [
       "0.04523321160098681"
      ]
     },
     "execution_count": 104,
     "metadata": {},
     "output_type": "execute_result"
    }
   ],
   "source": [
    "# Mortality Rate for Hip Fracture Patients Age 75-79 at intake\n",
    "num/denom"
   ]
  },
  {
   "cell_type": "code",
   "execution_count": 105,
   "metadata": {},
   "outputs": [
    {
     "name": "stderr",
     "output_type": "stream",
     "text": [
      "C:\\Users\\swayambunathajp\\AppData\\Local\\Continuum\\anaconda3\\lib\\site-packages\\ipykernel_launcher.py:10: SettingWithCopyWarning: \n",
      "A value is trying to be set on a copy of a slice from a DataFrame.\n",
      "Try using .loc[row_indexer,col_indexer] = value instead\n",
      "\n",
      "See the caveats in the documentation: http://pandas.pydata.org/pandas-docs/stable/indexing.html#indexing-view-versus-copy\n",
      "  # Remove the CWD from sys.path while we load stuff.\n",
      "C:\\Users\\swayambunathajp\\AppData\\Local\\Continuum\\anaconda3\\lib\\site-packages\\ipykernel_launcher.py:11: SettingWithCopyWarning: \n",
      "A value is trying to be set on a copy of a slice from a DataFrame.\n",
      "Try using .loc[row_indexer,col_indexer] = value instead\n",
      "\n",
      "See the caveats in the documentation: http://pandas.pydata.org/pandas-docs/stable/indexing.html#indexing-view-versus-copy\n",
      "  # This is added back by InteractiveShellApp.init_path()\n",
      "C:\\Users\\swayambunathajp\\AppData\\Local\\Continuum\\anaconda3\\lib\\site-packages\\ipykernel_launcher.py:20: SettingWithCopyWarning: \n",
      "A value is trying to be set on a copy of a slice from a DataFrame.\n",
      "Try using .loc[row_indexer,col_indexer] = value instead\n",
      "\n",
      "See the caveats in the documentation: http://pandas.pydata.org/pandas-docs/stable/indexing.html#indexing-view-versus-copy\n",
      "C:\\Users\\swayambunathajp\\AppData\\Local\\Continuum\\anaconda3\\lib\\site-packages\\ipykernel_launcher.py:21: SettingWithCopyWarning: \n",
      "A value is trying to be set on a copy of a slice from a DataFrame.\n",
      "Try using .loc[row_indexer,col_indexer] = value instead\n",
      "\n",
      "See the caveats in the documentation: http://pandas.pydata.org/pandas-docs/stable/indexing.html#indexing-view-versus-copy\n",
      "C:\\Users\\swayambunathajp\\AppData\\Local\\Continuum\\anaconda3\\lib\\site-packages\\ipykernel_launcher.py:29: SettingWithCopyWarning: \n",
      "A value is trying to be set on a copy of a slice from a DataFrame.\n",
      "Try using .loc[row_indexer,col_indexer] = value instead\n",
      "\n",
      "See the caveats in the documentation: http://pandas.pydata.org/pandas-docs/stable/indexing.html#indexing-view-versus-copy\n",
      "C:\\Users\\swayambunathajp\\AppData\\Local\\Continuum\\anaconda3\\lib\\site-packages\\ipykernel_launcher.py:30: SettingWithCopyWarning: \n",
      "A value is trying to be set on a copy of a slice from a DataFrame.\n",
      "Try using .loc[row_indexer,col_indexer] = value instead\n",
      "\n",
      "See the caveats in the documentation: http://pandas.pydata.org/pandas-docs/stable/indexing.html#indexing-view-versus-copy\n",
      "C:\\Users\\swayambunathajp\\AppData\\Local\\Continuum\\anaconda3\\lib\\site-packages\\ipykernel_launcher.py:39: SettingWithCopyWarning: \n",
      "A value is trying to be set on a copy of a slice from a DataFrame.\n",
      "Try using .loc[row_indexer,col_indexer] = value instead\n",
      "\n",
      "See the caveats in the documentation: http://pandas.pydata.org/pandas-docs/stable/indexing.html#indexing-view-versus-copy\n",
      "C:\\Users\\swayambunathajp\\AppData\\Local\\Continuum\\anaconda3\\lib\\site-packages\\ipykernel_launcher.py:40: SettingWithCopyWarning: \n",
      "A value is trying to be set on a copy of a slice from a DataFrame.\n",
      "Try using .loc[row_indexer,col_indexer] = value instead\n",
      "\n",
      "See the caveats in the documentation: http://pandas.pydata.org/pandas-docs/stable/indexing.html#indexing-view-versus-copy\n"
     ]
    }
   ],
   "source": [
    "# Isolating Subjects Who've Suffered Hip Fractures in Previous Year and Calculating Mortality Within First Year Post-Hip Fracture \n",
    "# for patients age 80-84 at intake \n",
    "\n",
    "mergedset_finalHF2 = mergedset_final[mergedset_final.hc2brokebon1 == '1 YES']\n",
    "\n",
    "# Isolating Hip Fracture Patients Age 80-84 at intake\n",
    "\n",
    "mergedset_finalHF2 = mergedset_final[mergedset_final.r1d2intvrage == '4 - 80-84']\n",
    "\n",
    "mergedset_finalHF2['LML3'] = np.where(mergedset_finalHF2['r3dlmlint']=='1 Last month of life interview', 1, 0)\n",
    "mergedset_finalHF2['Mortality_Rounds_23'] = mergedset_finalHF2['LML3']*mergedset_finalHF2['w3anfinwgt0']\n",
    "\n",
    "a = mergedset_finalHF2['Mortality_Rounds_23'].sum()\n",
    "a2 = mergedset_finalHF2['w3anfinwgt0'].sum()\n",
    "\n",
    "mergedset_finalHF3 = mergedset_final[mergedset_final.hc3brokebon1 == '1 YES']\n",
    "\n",
    "mergedset_finalHF3 = mergedset_final[mergedset_final.r1d2intvrage == '4 - 80-84']\n",
    "\n",
    "mergedset_finalHF3['LML4'] = np.where(mergedset_finalHF3['r4dlmlint']=='1 Last month of life interview', 1, 0)\n",
    "mergedset_finalHF3['Mortality_Rounds_34'] = mergedset_finalHF3['LML4']*mergedset_finalHF3['w4anfinwgt0']\n",
    "\n",
    "b = mergedset_finalHF3['Mortality_Rounds_34'].sum()\n",
    "b2 = mergedset_finalHF3['w4anfinwgt0'].sum()\n",
    "\n",
    "mergedset_finalHF4 = mergedset_final[mergedset_final.hc4brokebon1 == '1 YES']\n",
    "mergedset_finalHF4 = mergedset_final[mergedset_final.r1d2intvrage == '4 - 80-84']\n",
    "\n",
    "mergedset_finalHF4['LML5'] = np.where(mergedset_finalHF4['r5dlmlint']=='1 Last month of life interview', 1, 0)\n",
    "mergedset_finalHF4['Mortality_Rounds_45'] = mergedset_finalHF4['LML5']*mergedset_finalHF4['w5anfinwgt0']\n",
    "\n",
    "c = mergedset_finalHF4['Mortality_Rounds_45'].sum()\n",
    "c2 = mergedset_finalHF4['w5anfinwgt0'].sum()\n",
    "\n",
    "\n",
    "mergedset_finalHF5 = mergedset_final[mergedset_final.hc5brokebon1 == '1 YES']\n",
    "mergedset_finalHF5 = mergedset_final[mergedset_final.r1d2intvrage == '4 - 80-84']\n",
    "\n",
    "mergedset_finalHF5['LML6'] = np.where(mergedset_finalHF5['r6dlmlint']=='1 Last month of life interview', 1, 0)\n",
    "mergedset_finalHF5['Mortality_Rounds_56'] = mergedset_finalHF5['LML6']*mergedset_finalHF5['w6anfinwgt0']\n",
    "\n",
    "d = mergedset_finalHF5['Mortality_Rounds_56'].sum()\n",
    "d2 = mergedset_finalHF5['w6anfinwgt0'].sum()\n",
    "\n",
    "num = a+b+c+d\n",
    "denom = a2+b2+c2+d2"
   ]
  },
  {
   "cell_type": "code",
   "execution_count": 106,
   "metadata": {},
   "outputs": [
    {
     "data": {
      "text/plain": [
       "0.08318823934181958"
      ]
     },
     "execution_count": 106,
     "metadata": {},
     "output_type": "execute_result"
    }
   ],
   "source": [
    "# Mortality Rate for Hip Fracture Patients Age 80-84 at intake\n",
    "num/denom"
   ]
  },
  {
   "cell_type": "code",
   "execution_count": 107,
   "metadata": {},
   "outputs": [
    {
     "name": "stderr",
     "output_type": "stream",
     "text": [
      "C:\\Users\\swayambunathajp\\AppData\\Local\\Continuum\\anaconda3\\lib\\site-packages\\ipykernel_launcher.py:10: SettingWithCopyWarning: \n",
      "A value is trying to be set on a copy of a slice from a DataFrame.\n",
      "Try using .loc[row_indexer,col_indexer] = value instead\n",
      "\n",
      "See the caveats in the documentation: http://pandas.pydata.org/pandas-docs/stable/indexing.html#indexing-view-versus-copy\n",
      "  # Remove the CWD from sys.path while we load stuff.\n",
      "C:\\Users\\swayambunathajp\\AppData\\Local\\Continuum\\anaconda3\\lib\\site-packages\\ipykernel_launcher.py:11: SettingWithCopyWarning: \n",
      "A value is trying to be set on a copy of a slice from a DataFrame.\n",
      "Try using .loc[row_indexer,col_indexer] = value instead\n",
      "\n",
      "See the caveats in the documentation: http://pandas.pydata.org/pandas-docs/stable/indexing.html#indexing-view-versus-copy\n",
      "  # This is added back by InteractiveShellApp.init_path()\n",
      "C:\\Users\\swayambunathajp\\AppData\\Local\\Continuum\\anaconda3\\lib\\site-packages\\ipykernel_launcher.py:20: SettingWithCopyWarning: \n",
      "A value is trying to be set on a copy of a slice from a DataFrame.\n",
      "Try using .loc[row_indexer,col_indexer] = value instead\n",
      "\n",
      "See the caveats in the documentation: http://pandas.pydata.org/pandas-docs/stable/indexing.html#indexing-view-versus-copy\n",
      "C:\\Users\\swayambunathajp\\AppData\\Local\\Continuum\\anaconda3\\lib\\site-packages\\ipykernel_launcher.py:21: SettingWithCopyWarning: \n",
      "A value is trying to be set on a copy of a slice from a DataFrame.\n",
      "Try using .loc[row_indexer,col_indexer] = value instead\n",
      "\n",
      "See the caveats in the documentation: http://pandas.pydata.org/pandas-docs/stable/indexing.html#indexing-view-versus-copy\n",
      "C:\\Users\\swayambunathajp\\AppData\\Local\\Continuum\\anaconda3\\lib\\site-packages\\ipykernel_launcher.py:29: SettingWithCopyWarning: \n",
      "A value is trying to be set on a copy of a slice from a DataFrame.\n",
      "Try using .loc[row_indexer,col_indexer] = value instead\n",
      "\n",
      "See the caveats in the documentation: http://pandas.pydata.org/pandas-docs/stable/indexing.html#indexing-view-versus-copy\n",
      "C:\\Users\\swayambunathajp\\AppData\\Local\\Continuum\\anaconda3\\lib\\site-packages\\ipykernel_launcher.py:30: SettingWithCopyWarning: \n",
      "A value is trying to be set on a copy of a slice from a DataFrame.\n",
      "Try using .loc[row_indexer,col_indexer] = value instead\n",
      "\n",
      "See the caveats in the documentation: http://pandas.pydata.org/pandas-docs/stable/indexing.html#indexing-view-versus-copy\n",
      "C:\\Users\\swayambunathajp\\AppData\\Local\\Continuum\\anaconda3\\lib\\site-packages\\ipykernel_launcher.py:39: SettingWithCopyWarning: \n",
      "A value is trying to be set on a copy of a slice from a DataFrame.\n",
      "Try using .loc[row_indexer,col_indexer] = value instead\n",
      "\n",
      "See the caveats in the documentation: http://pandas.pydata.org/pandas-docs/stable/indexing.html#indexing-view-versus-copy\n",
      "C:\\Users\\swayambunathajp\\AppData\\Local\\Continuum\\anaconda3\\lib\\site-packages\\ipykernel_launcher.py:40: SettingWithCopyWarning: \n",
      "A value is trying to be set on a copy of a slice from a DataFrame.\n",
      "Try using .loc[row_indexer,col_indexer] = value instead\n",
      "\n",
      "See the caveats in the documentation: http://pandas.pydata.org/pandas-docs/stable/indexing.html#indexing-view-versus-copy\n"
     ]
    }
   ],
   "source": [
    "# Isolating Subjects Who've Suffered Hip Fractures in Previous Year and Calculating Mortality Within First Year Post-Hip Fracture \n",
    "# for patients age 85-89 at intake \n",
    "\n",
    "mergedset_finalHF2 = mergedset_final[mergedset_final.hc2brokebon1 == '1 YES']\n",
    "\n",
    "# Isolating Hip Fracture Patients Age 85-89 at intake\n",
    "\n",
    "mergedset_finalHF2 = mergedset_final[mergedset_final.r1d2intvrage == '5 - 85-89']\n",
    "\n",
    "mergedset_finalHF2['LML3'] = np.where(mergedset_finalHF2['r3dlmlint']=='1 Last month of life interview', 1, 0)\n",
    "mergedset_finalHF2['Mortality_Rounds_23'] = mergedset_finalHF2['LML3']*mergedset_finalHF2['w3anfinwgt0']\n",
    "\n",
    "a = mergedset_finalHF2['Mortality_Rounds_23'].sum()\n",
    "a2 = mergedset_finalHF2['w3anfinwgt0'].sum()\n",
    "\n",
    "mergedset_finalHF3 = mergedset_final[mergedset_final.hc3brokebon1 == '1 YES']\n",
    "\n",
    "mergedset_finalHF3 = mergedset_final[mergedset_final.r1d2intvrage == '5 - 85-89']\n",
    "\n",
    "mergedset_finalHF3['LML4'] = np.where(mergedset_finalHF3['r4dlmlint']=='1 Last month of life interview', 1, 0)\n",
    "mergedset_finalHF3['Mortality_Rounds_34'] = mergedset_finalHF3['LML4']*mergedset_finalHF3['w4anfinwgt0']\n",
    "\n",
    "b = mergedset_finalHF3['Mortality_Rounds_34'].sum()\n",
    "b2 = mergedset_finalHF3['w4anfinwgt0'].sum()\n",
    "\n",
    "mergedset_finalHF4 = mergedset_final[mergedset_final.hc4brokebon1 == '1 YES']\n",
    "mergedset_finalHF4 = mergedset_final[mergedset_final.r1d2intvrage == '5 - 85-89']\n",
    "\n",
    "mergedset_finalHF4['LML5'] = np.where(mergedset_finalHF4['r5dlmlint']=='1 Last month of life interview', 1, 0)\n",
    "mergedset_finalHF4['Mortality_Rounds_45'] = mergedset_finalHF4['LML5']*mergedset_finalHF4['w5anfinwgt0']\n",
    "\n",
    "c = mergedset_finalHF4['Mortality_Rounds_45'].sum()\n",
    "c2 = mergedset_finalHF4['w5anfinwgt0'].sum()\n",
    "\n",
    "\n",
    "mergedset_finalHF5 = mergedset_final[mergedset_final.hc5brokebon1 == '1 YES']\n",
    "mergedset_finalHF5 = mergedset_final[mergedset_final.r1d2intvrage == '5 - 85-89']\n",
    "\n",
    "mergedset_finalHF5['LML6'] = np.where(mergedset_finalHF5['r6dlmlint']=='1 Last month of life interview', 1, 0)\n",
    "mergedset_finalHF5['Mortality_Rounds_56'] = mergedset_finalHF5['LML6']*mergedset_finalHF5['w6anfinwgt0']\n",
    "\n",
    "d = mergedset_finalHF5['Mortality_Rounds_56'].sum()\n",
    "d2 = mergedset_finalHF5['w6anfinwgt0'].sum()\n",
    "\n",
    "num = a+b+c+d\n",
    "denom = a2+b2+c2+d2"
   ]
  },
  {
   "cell_type": "code",
   "execution_count": 108,
   "metadata": {},
   "outputs": [
    {
     "data": {
      "text/plain": [
       "0.1432433928253516"
      ]
     },
     "execution_count": 108,
     "metadata": {},
     "output_type": "execute_result"
    }
   ],
   "source": [
    "# Mortality Rate for Hip Fracture Patients Age 85-89 at intake\n",
    "num/denom"
   ]
  },
  {
   "cell_type": "code",
   "execution_count": 109,
   "metadata": {},
   "outputs": [
    {
     "name": "stderr",
     "output_type": "stream",
     "text": [
      "C:\\Users\\swayambunathajp\\AppData\\Local\\Continuum\\anaconda3\\lib\\site-packages\\ipykernel_launcher.py:10: SettingWithCopyWarning: \n",
      "A value is trying to be set on a copy of a slice from a DataFrame.\n",
      "Try using .loc[row_indexer,col_indexer] = value instead\n",
      "\n",
      "See the caveats in the documentation: http://pandas.pydata.org/pandas-docs/stable/indexing.html#indexing-view-versus-copy\n",
      "  # Remove the CWD from sys.path while we load stuff.\n",
      "C:\\Users\\swayambunathajp\\AppData\\Local\\Continuum\\anaconda3\\lib\\site-packages\\ipykernel_launcher.py:11: SettingWithCopyWarning: \n",
      "A value is trying to be set on a copy of a slice from a DataFrame.\n",
      "Try using .loc[row_indexer,col_indexer] = value instead\n",
      "\n",
      "See the caveats in the documentation: http://pandas.pydata.org/pandas-docs/stable/indexing.html#indexing-view-versus-copy\n",
      "  # This is added back by InteractiveShellApp.init_path()\n",
      "C:\\Users\\swayambunathajp\\AppData\\Local\\Continuum\\anaconda3\\lib\\site-packages\\ipykernel_launcher.py:20: SettingWithCopyWarning: \n",
      "A value is trying to be set on a copy of a slice from a DataFrame.\n",
      "Try using .loc[row_indexer,col_indexer] = value instead\n",
      "\n",
      "See the caveats in the documentation: http://pandas.pydata.org/pandas-docs/stable/indexing.html#indexing-view-versus-copy\n",
      "C:\\Users\\swayambunathajp\\AppData\\Local\\Continuum\\anaconda3\\lib\\site-packages\\ipykernel_launcher.py:21: SettingWithCopyWarning: \n",
      "A value is trying to be set on a copy of a slice from a DataFrame.\n",
      "Try using .loc[row_indexer,col_indexer] = value instead\n",
      "\n",
      "See the caveats in the documentation: http://pandas.pydata.org/pandas-docs/stable/indexing.html#indexing-view-versus-copy\n",
      "C:\\Users\\swayambunathajp\\AppData\\Local\\Continuum\\anaconda3\\lib\\site-packages\\ipykernel_launcher.py:29: SettingWithCopyWarning: \n",
      "A value is trying to be set on a copy of a slice from a DataFrame.\n",
      "Try using .loc[row_indexer,col_indexer] = value instead\n",
      "\n",
      "See the caveats in the documentation: http://pandas.pydata.org/pandas-docs/stable/indexing.html#indexing-view-versus-copy\n",
      "C:\\Users\\swayambunathajp\\AppData\\Local\\Continuum\\anaconda3\\lib\\site-packages\\ipykernel_launcher.py:30: SettingWithCopyWarning: \n",
      "A value is trying to be set on a copy of a slice from a DataFrame.\n",
      "Try using .loc[row_indexer,col_indexer] = value instead\n",
      "\n",
      "See the caveats in the documentation: http://pandas.pydata.org/pandas-docs/stable/indexing.html#indexing-view-versus-copy\n",
      "C:\\Users\\swayambunathajp\\AppData\\Local\\Continuum\\anaconda3\\lib\\site-packages\\ipykernel_launcher.py:39: SettingWithCopyWarning: \n",
      "A value is trying to be set on a copy of a slice from a DataFrame.\n",
      "Try using .loc[row_indexer,col_indexer] = value instead\n",
      "\n",
      "See the caveats in the documentation: http://pandas.pydata.org/pandas-docs/stable/indexing.html#indexing-view-versus-copy\n",
      "C:\\Users\\swayambunathajp\\AppData\\Local\\Continuum\\anaconda3\\lib\\site-packages\\ipykernel_launcher.py:40: SettingWithCopyWarning: \n",
      "A value is trying to be set on a copy of a slice from a DataFrame.\n",
      "Try using .loc[row_indexer,col_indexer] = value instead\n",
      "\n",
      "See the caveats in the documentation: http://pandas.pydata.org/pandas-docs/stable/indexing.html#indexing-view-versus-copy\n"
     ]
    }
   ],
   "source": [
    "# Isolating Subjects Who've Suffered Hip Fractures in Previous Year and Calculating Mortality Within First Year Post-Hip Fracture \n",
    "# for patients age 90+ at intake \n",
    "\n",
    "mergedset_finalHF2 = mergedset_final[mergedset_final.hc2brokebon1 == '1 YES']\n",
    "\n",
    "# Isolating Hip Fracture Patients Age 90+ at intake\n",
    "\n",
    "mergedset_finalHF2 = mergedset_final[mergedset_final.r1d2intvrage == '6 - 90 +']\n",
    "\n",
    "mergedset_finalHF2['LML3'] = np.where(mergedset_finalHF2['r3dlmlint']=='1 Last month of life interview', 1, 0)\n",
    "mergedset_finalHF2['Mortality_Rounds_23'] = mergedset_finalHF2['LML3']*mergedset_finalHF2['w3anfinwgt0']\n",
    "\n",
    "a = mergedset_finalHF2['Mortality_Rounds_23'].sum()\n",
    "a2 = mergedset_finalHF2['w3anfinwgt0'].sum()\n",
    "\n",
    "mergedset_finalHF3 = mergedset_final[mergedset_final.hc3brokebon1 == '1 YES']\n",
    "\n",
    "mergedset_finalHF3 = mergedset_final[mergedset_final.r1d2intvrage == '6 - 90 +']\n",
    "\n",
    "mergedset_finalHF3['LML4'] = np.where(mergedset_finalHF3['r4dlmlint']=='1 Last month of life interview', 1, 0)\n",
    "mergedset_finalHF3['Mortality_Rounds_34'] = mergedset_finalHF3['LML4']*mergedset_finalHF3['w4anfinwgt0']\n",
    "\n",
    "b = mergedset_finalHF3['Mortality_Rounds_34'].sum()\n",
    "b2 = mergedset_finalHF3['w4anfinwgt0'].sum()\n",
    "\n",
    "mergedset_finalHF4 = mergedset_final[mergedset_final.hc4brokebon1 == '1 YES']\n",
    "mergedset_finalHF4 = mergedset_final[mergedset_final.r1d2intvrage == '6 - 90 +']\n",
    "\n",
    "mergedset_finalHF4['LML5'] = np.where(mergedset_finalHF4['r5dlmlint']=='1 Last month of life interview', 1, 0)\n",
    "mergedset_finalHF4['Mortality_Rounds_45'] = mergedset_finalHF4['LML5']*mergedset_finalHF4['w5anfinwgt0']\n",
    "\n",
    "c = mergedset_finalHF4['Mortality_Rounds_45'].sum()\n",
    "c2 = mergedset_finalHF4['w5anfinwgt0'].sum()\n",
    "\n",
    "\n",
    "mergedset_finalHF5 = mergedset_final[mergedset_final.hc5brokebon1 == '1 YES']\n",
    "mergedset_finalHF5 = mergedset_final[mergedset_final.r1d2intvrage == '6 - 90 +']\n",
    "\n",
    "mergedset_finalHF5['LML6'] = np.where(mergedset_finalHF5['r6dlmlint']=='1 Last month of life interview', 1, 0)\n",
    "mergedset_finalHF5['Mortality_Rounds_56'] = mergedset_finalHF5['LML6']*mergedset_finalHF5['w6anfinwgt0']\n",
    "\n",
    "d = mergedset_finalHF5['Mortality_Rounds_56'].sum()\n",
    "d2 = mergedset_finalHF5['w6anfinwgt0'].sum()\n",
    "\n",
    "num = a+b+c+d\n",
    "denom = a2+b2+c2+d2"
   ]
  },
  {
   "cell_type": "code",
   "execution_count": 110,
   "metadata": {},
   "outputs": [
    {
     "data": {
      "text/plain": [
       "0.22684961710815765"
      ]
     },
     "execution_count": 110,
     "metadata": {},
     "output_type": "execute_result"
    }
   ],
   "source": [
    "# Mortality Rate for Hip Fracture Patients Age 90+ at intake\n",
    "num/denom"
   ]
  },
  {
   "cell_type": "code",
   "execution_count": null,
   "metadata": {},
   "outputs": [],
   "source": []
  },
  {
   "cell_type": "code",
   "execution_count": null,
   "metadata": {},
   "outputs": [],
   "source": []
  },
  {
   "cell_type": "code",
   "execution_count": null,
   "metadata": {},
   "outputs": [],
   "source": []
  },
  {
   "cell_type": "code",
   "execution_count": null,
   "metadata": {},
   "outputs": [],
   "source": []
  },
  {
   "cell_type": "code",
   "execution_count": null,
   "metadata": {},
   "outputs": [],
   "source": []
  },
  {
   "cell_type": "code",
   "execution_count": null,
   "metadata": {},
   "outputs": [],
   "source": []
  },
  {
   "cell_type": "code",
   "execution_count": 88,
   "metadata": {},
   "outputs": [],
   "source": [
    "# Calculating Hip Fracture Incidence Rate Estimate for Population "
   ]
  },
  {
   "cell_type": "code",
   "execution_count": 89,
   "metadata": {},
   "outputs": [],
   "source": [
    "# Creating Indicator Variable for Hip Fracture Incident in Previous Year\n",
    "mergedset_final['HF2'] = np.where(mergedset_final['hc2brokebon1']=='1 YES', 1, 0)\n",
    "mergedset_final['HF3'] = np.where(mergedset_final['hc3brokebon1']=='1 YES', 1, 0)\n",
    "mergedset_final['HF4'] = np.where(mergedset_final['hc4brokebon1']=='1 YES', 1, 0)\n",
    "mergedset_final['HF5'] = np.where(mergedset_final['hc5brokebon1']=='1 YES', 1, 0)\n",
    "mergedset_final['HF6'] = np.where(mergedset_final['hc6brokebon1']=='1 YES', 1, 0)"
   ]
  },
  {
   "cell_type": "code",
   "execution_count": 90,
   "metadata": {},
   "outputs": [],
   "source": [
    "# Applyinh Survey Weights to Indicator to get Estimate for General Population \n",
    "\n",
    "mergedset_final['HF_Rounds_12'] = mergedset_final['HF2']*mergedset_final['W2ANFINWGT0']\n",
    "mergedset_final['HF_Rounds_23'] = mergedset_final['HF3']*mergedset_final['w3anfinwgt0']\n",
    "mergedset_final['HF_Rounds_34'] = mergedset_final['HF4']*mergedset_final['w4anfinwgt0']\n",
    "mergedset_final['HF_Rounds_45'] = mergedset_final['HF5']*mergedset_final['w5anfinwgt0']\n",
    "mergedset_final['HF_Rounds_56'] = mergedset_final['HF6']*mergedset_final['w6anfinwgt0']\n",
    "\n",
    "b = mergedset_final['HF_Rounds_12'].sum()\n",
    "c = mergedset_final['HF_Rounds_23'].sum()\n",
    "d = mergedset_final['HF_Rounds_34'].sum()\n",
    "e = mergedset_final['HF_Rounds_45'].sum()\n",
    "f = mergedset_final['HF_Rounds_56'].sum()\n",
    "num = b+c+d+e+f"
   ]
  },
  {
   "cell_type": "code",
   "execution_count": 91,
   "metadata": {},
   "outputs": [],
   "source": [
    "# Computing Total Person-Years Again for Incidence Rate Denominator \n",
    "\n",
    "b2 = mergedset_final['W2ANFINWGT0'].sum()\n",
    "c2 = mergedset_final['w3anfinwgt0'].sum()\n",
    "d2 = mergedset_final['w4anfinwgt0'].sum()\n",
    "e2 = mergedset_final['w5anfinwgt0'].sum()\n",
    "f2 = mergedset_final['w6anfinwgt0'].sum()\n",
    "denom = b2+c2+d2+e2+f2"
   ]
  },
  {
   "cell_type": "code",
   "execution_count": 92,
   "metadata": {},
   "outputs": [
    {
     "data": {
      "text/plain": [
       "0.01223942473618432"
      ]
     },
     "execution_count": 92,
     "metadata": {},
     "output_type": "execute_result"
    }
   ],
   "source": [
    "# Hip Fracture Incidence Rate Estimate for General Population \n",
    "\n",
    "num/denom"
   ]
  },
  {
   "cell_type": "code",
   "execution_count": 93,
   "metadata": {},
   "outputs": [
    {
     "data": {
      "text/plain": [
       "0.005324154244733745"
      ]
     },
     "execution_count": 93,
     "metadata": {},
     "output_type": "execute_result"
    }
   ],
   "source": [
    "# Estimating Hip Fracture Incidence Rate for Individuals Age 65-69\n",
    "\n",
    "mergedset_final_6569 = mergedset_final[mergedset_final.r1d2intvrage == '1 - 65-69']\n",
    "\n",
    "# Calculating the Total Hip Fracture Incidence for Each Round and Computing the Sum Over all Rounds \n",
    "a = mergedset_final_6569['HF_Rounds_12'].sum()\n",
    "b = mergedset_final_6569['HF_Rounds_23'].sum()\n",
    "c = mergedset_final_6569['HF_Rounds_34'].sum()\n",
    "d = mergedset_final_6569['HF_Rounds_45'].sum()\n",
    "e = mergedset_final_6569['HF_Rounds_56'].sum()\n",
    "num = a+b+c+d+e\n",
    "\n",
    "# Computing the Total Number of \"Person-Years\" for Hip Fracture Rate Calculation \n",
    "\n",
    "a2 = mergedset_final_6569['w1anfinwgt0'].sum()\n",
    "b2 = mergedset_final_6569['W2ANFINWGT0'].sum()\n",
    "c2 = mergedset_final_6569['w3anfinwgt0'].sum()\n",
    "d2 = mergedset_final_6569['w4anfinwgt0'].sum()\n",
    "e2 = mergedset_final_6569['w5anfinwgt0'].sum()\n",
    "f2 = mergedset_final_6569['w6anfinwgt0'].sum()\n",
    "denom = a2+b2+c2+d2+e2+f2\n",
    "\n",
    "# Estimating Hip Fracture Rate in Population for Individuals Age 65-69\n",
    "num/denom"
   ]
  },
  {
   "cell_type": "code",
   "execution_count": 94,
   "metadata": {},
   "outputs": [
    {
     "data": {
      "text/plain": [
       "0.005285947439881673"
      ]
     },
     "execution_count": 94,
     "metadata": {},
     "output_type": "execute_result"
    }
   ],
   "source": [
    "# Estimating Hip Fracture Incidence Rate for Individuals Age 70-74\n",
    "\n",
    "mergedset_final_7074 = mergedset_final[mergedset_final.r1d2intvrage == '2 - 70-74']\n",
    "\n",
    "# Calculating the Total Hip Fracture Incidence for Each Round and Computing the Sum Over all Rounds \n",
    "a = mergedset_final_7074['HF_Rounds_12'].sum()\n",
    "b = mergedset_final_7074['HF_Rounds_23'].sum()\n",
    "c = mergedset_final_7074['HF_Rounds_34'].sum()\n",
    "d = mergedset_final_7074['HF_Rounds_45'].sum()\n",
    "e = mergedset_final_7074['HF_Rounds_56'].sum()\n",
    "num = a+b+c+d+e\n",
    "\n",
    "# Computing the Total Number of \"Person-Years\" for Hip Fracture Rate Calculation \n",
    "\n",
    "a2 = mergedset_final_7074['w1anfinwgt0'].sum()\n",
    "b2 = mergedset_final_7074['W2ANFINWGT0'].sum()\n",
    "c2 = mergedset_final_7074['w3anfinwgt0'].sum()\n",
    "d2 = mergedset_final_7074['w4anfinwgt0'].sum()\n",
    "e2 = mergedset_final_7074['w5anfinwgt0'].sum()\n",
    "f2 = mergedset_final_7074['w6anfinwgt0'].sum()\n",
    "denom = a2+b2+c2+d2+e2+f2\n",
    "\n",
    "# Estimating Hip Fracture Rate in Population for Individuals Age 70-74\n",
    "num/denom"
   ]
  },
  {
   "cell_type": "code",
   "execution_count": 95,
   "metadata": {},
   "outputs": [
    {
     "data": {
      "text/plain": [
       "0.011854929351154524"
      ]
     },
     "execution_count": 95,
     "metadata": {},
     "output_type": "execute_result"
    }
   ],
   "source": [
    "# Estimating Hip Fracture Incidence Rate for Individuals Age 75-79\n",
    "\n",
    "mergedset_final_7579 = mergedset_final[mergedset_final.r1d2intvrage == '3 - 75-79']\n",
    "\n",
    "# Calculating the Total Hip Fracture Incidence for Each Round and Computing the Sum Over all Rounds \n",
    "a = mergedset_final_7579['HF_Rounds_12'].sum()\n",
    "b = mergedset_final_7579['HF_Rounds_23'].sum()\n",
    "c = mergedset_final_7579['HF_Rounds_34'].sum()\n",
    "d = mergedset_final_7579['HF_Rounds_45'].sum()\n",
    "e = mergedset_final_7579['HF_Rounds_56'].sum()\n",
    "num = a+b+c+d+e\n",
    "\n",
    "# Computing the Total Number of \"Person-Years\" for Hip Fracture Rate Calculation \n",
    "\n",
    "a2 = mergedset_final_7579['w1anfinwgt0'].sum()\n",
    "b2 = mergedset_final_7579['W2ANFINWGT0'].sum()\n",
    "c2 = mergedset_final_7579['w3anfinwgt0'].sum()\n",
    "d2 = mergedset_final_7579['w4anfinwgt0'].sum()\n",
    "e2 = mergedset_final_7579['w5anfinwgt0'].sum()\n",
    "f2 = mergedset_final_7579['w6anfinwgt0'].sum()\n",
    "denom = a2+b2+c2+d2+e2+f2\n",
    "\n",
    "# Estimating Hip Fracture Rate in Population for Individuals Age 75-79\n",
    "num/denom"
   ]
  },
  {
   "cell_type": "code",
   "execution_count": 96,
   "metadata": {},
   "outputs": [
    {
     "data": {
      "text/plain": [
       "0.013572859889935358"
      ]
     },
     "execution_count": 96,
     "metadata": {},
     "output_type": "execute_result"
    }
   ],
   "source": [
    "# Estimating Hip Fracture Incidence Rate for Individuals Age 80-84\n",
    "\n",
    "mergedset_final_8084 = mergedset_final[mergedset_final.r1d2intvrage == '4 - 80-84']\n",
    "\n",
    "# Calculating the Total Hip Fracture Incidence for Each Round and Computing the Sum Over all Rounds \n",
    "a = mergedset_final_8084['HF_Rounds_12'].sum()\n",
    "b = mergedset_final_8084['HF_Rounds_23'].sum()\n",
    "c = mergedset_final_8084['HF_Rounds_34'].sum()\n",
    "d = mergedset_final_8084['HF_Rounds_45'].sum()\n",
    "e = mergedset_final_8084['HF_Rounds_56'].sum()\n",
    "num = a+b+c+d+e\n",
    "\n",
    "# Computing the Total Number of \"Person-Years\" for Hip Fracture Rate Calculation \n",
    "\n",
    "a2 = mergedset_final_8084['w1anfinwgt0'].sum()\n",
    "b2 = mergedset_final_8084['W2ANFINWGT0'].sum()\n",
    "c2 = mergedset_final_8084['w3anfinwgt0'].sum()\n",
    "d2 = mergedset_final_8084['w4anfinwgt0'].sum()\n",
    "e2 = mergedset_final_8084['w5anfinwgt0'].sum()\n",
    "f2 = mergedset_final_8084['w6anfinwgt0'].sum()\n",
    "denom = a2+b2+c2+d2+e2+f2\n",
    "\n",
    "# Estimating Hip Fracture Rate in Population for Individuals Age 80-84\n",
    "num/denom"
   ]
  },
  {
   "cell_type": "code",
   "execution_count": 97,
   "metadata": {},
   "outputs": [
    {
     "data": {
      "text/plain": [
       "0.019934691235930595"
      ]
     },
     "execution_count": 97,
     "metadata": {},
     "output_type": "execute_result"
    }
   ],
   "source": [
    "# Estimating Hip Fracture Incidence Rate for Individuals Age 85-89\n",
    "\n",
    "mergedset_final_8589 = mergedset_final[mergedset_final.r1d2intvrage == '5 - 85-89']\n",
    "\n",
    "# Calculating the Total Hip Fracture Incidence for Each Round and Computing the Sum Over all Rounds \n",
    "a = mergedset_final_8589['HF_Rounds_12'].sum()\n",
    "b = mergedset_final_8589['HF_Rounds_23'].sum()\n",
    "c = mergedset_final_8589['HF_Rounds_34'].sum()\n",
    "d = mergedset_final_8589['HF_Rounds_45'].sum()\n",
    "e = mergedset_final_8589['HF_Rounds_56'].sum()\n",
    "num = a+b+c+d+e\n",
    "\n",
    "# Computing the Total Number of \"Person-Years\" for Hip Fracture Rate Calculation \n",
    "\n",
    "a2 = mergedset_final_8589['w1anfinwgt0'].sum()\n",
    "b2 = mergedset_final_8589['W2ANFINWGT0'].sum()\n",
    "c2 = mergedset_final_8589['w3anfinwgt0'].sum()\n",
    "d2 = mergedset_final_8589['w4anfinwgt0'].sum()\n",
    "e2 = mergedset_final_8589['w5anfinwgt0'].sum()\n",
    "f2 = mergedset_final_8589['w6anfinwgt0'].sum()\n",
    "denom = a2+b2+c2+d2+e2+f2\n",
    "\n",
    "# Estimating Hip Fracture Rate in Population for Individuals Age 85-89\n",
    "num/denom"
   ]
  },
  {
   "cell_type": "code",
   "execution_count": 98,
   "metadata": {},
   "outputs": [
    {
     "data": {
      "text/plain": [
       "0.01625363598338263"
      ]
     },
     "execution_count": 98,
     "metadata": {},
     "output_type": "execute_result"
    }
   ],
   "source": [
    "# Estimating Hip Fracture Incidence Rate for Individuals Age 90+\n",
    "\n",
    "mergedset_final_90plus = mergedset_final[mergedset_final.r1d2intvrage == '6 - 90 +']\n",
    "\n",
    "# Calculating the Total Hip Fracture Incidence for Each Round and Computing the Sum Over all Rounds \n",
    "a = mergedset_final_90plus['HF_Rounds_12'].sum()\n",
    "b = mergedset_final_90plus['HF_Rounds_23'].sum()\n",
    "c = mergedset_final_90plus['HF_Rounds_34'].sum()\n",
    "d = mergedset_final_90plus['HF_Rounds_45'].sum()\n",
    "e = mergedset_final_90plus['HF_Rounds_56'].sum()\n",
    "num = a+b+c+d+e\n",
    "\n",
    "# Computing the Total Number of \"Person-Years\" for Hip Fracture Rate Calculation \n",
    "\n",
    "a2 = mergedset_final_90plus['w1anfinwgt0'].sum()\n",
    "b2 = mergedset_final_90plus['W2ANFINWGT0'].sum()\n",
    "c2 = mergedset_final_90plus['w3anfinwgt0'].sum()\n",
    "d2 = mergedset_final_90plus['w4anfinwgt0'].sum()\n",
    "e2 = mergedset_final_90plus['w5anfinwgt0'].sum()\n",
    "f2 = mergedset_final_90plus['w6anfinwgt0'].sum()\n",
    "denom = a2+b2+c2+d2+e2+f2\n",
    "\n",
    "# Estimating Hip Fracture Rate in Population for Individuals Age 90+\n",
    "num/denom"
   ]
  }
 ],
 "metadata": {
  "kernelspec": {
   "display_name": "Python 3",
   "language": "python",
   "name": "python3"
  },
  "language_info": {
   "codemirror_mode": {
    "name": "ipython",
    "version": 3
   },
   "file_extension": ".py",
   "mimetype": "text/x-python",
   "name": "python",
   "nbconvert_exporter": "python",
   "pygments_lexer": "ipython3",
   "version": "3.7.0"
  }
 },
 "nbformat": 4,
 "nbformat_minor": 2
}
