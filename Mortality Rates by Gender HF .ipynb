{
 "cells": [
  {
   "cell_type": "code",
   "execution_count": 1,
   "metadata": {},
   "outputs": [],
   "source": [
    "import pandas as pd \n",
    "import seaborn as sns \n",
    "import numpy as np\n",
    "import scipy as sp "
   ]
  },
  {
   "cell_type": "code",
   "execution_count": 2,
   "metadata": {},
   "outputs": [],
   "source": [
    "## Importing the Datasets\n",
    "\n",
    "df1 = pd.read_csv('Round1.csv')\n",
    "df2 = pd.read_csv('Round2.csv')\n",
    "df3 = pd.read_csv('Round3.csv')\n",
    "df4 = pd.read_csv('Round4.csv')\n",
    "df5 = pd.read_csv('Round5.csv')\n",
    "df6 = pd.read_csv('Round6.csv')"
   ]
  },
  {
   "cell_type": "code",
   "execution_count": 3,
   "metadata": {},
   "outputs": [],
   "source": [
    "# Merging the Datasets\n",
    "mergedset1 = pd.merge(df1, df2, on='spid',how='left')\n",
    "mergedset2 = pd.merge(mergedset1,df3,on='spid',how='left')\n",
    "mergedset3 = pd.merge(mergedset2,df4,on='spid',how='left')\n",
    "mergedset4 = pd.merge(mergedset3,df5,on='spid',how='left')\n",
    "mergedset_final = pd.merge(mergedset4,df6,on='spid',how='left')"
   ]
  },
  {
   "cell_type": "code",
   "execution_count": 4,
   "metadata": {},
   "outputs": [],
   "source": [
    "# Creating an Indicator Variable - LML - Indicates Whether Respondent Passed Away in Previous Year\n",
    "\n",
    "mergedset_final['LML2'] = np.where(mergedset_final['r2dlmlint']=='1 Last month of life interview', 1, 0)\n",
    "mergedset_final['LML3'] = np.where(mergedset_final['r3dlmlint']=='1 Last month of life interview', 1, 0)\n",
    "mergedset_final['LML4'] = np.where(mergedset_final['r4dlmlint']=='1 Last month of life interview', 1, 0)\n",
    "mergedset_final['LML5'] = np.where(mergedset_final['r5dlmlint']=='1 Last month of life interview', 1, 0)\n",
    "mergedset_final['LML6'] = np.where(mergedset_final['r6dlmlint']=='1 Last month of life interview', 1, 0)"
   ]
  },
  {
   "cell_type": "code",
   "execution_count": 5,
   "metadata": {},
   "outputs": [],
   "source": [
    "# Applying Survey Weights to Indicator Variable to Get Population Estimates for Mortality at Each Round \n",
    "\n",
    "mergedset_final['Mortality_Rounds_12'] = mergedset_final['LML2']*mergedset_final['W2ANFINWGT0']\n",
    "mergedset_final['Mortality_Rounds_23'] = mergedset_final['LML3']*mergedset_final['w3anfinwgt0']\n",
    "mergedset_final['Mortality_Rounds_34'] = mergedset_final['LML4']*mergedset_final['w4anfinwgt0']\n",
    "mergedset_final['Mortality_Rounds_45'] = mergedset_final['LML5']*mergedset_final['w5anfinwgt0']\n",
    "mergedset_final['Mortality_Rounds_56'] = mergedset_final['LML6']*mergedset_final['w6anfinwgt0']"
   ]
  },
  {
   "cell_type": "code",
   "execution_count": 6,
   "metadata": {},
   "outputs": [
    {
     "name": "stderr",
     "output_type": "stream",
     "text": [
      "C:\\Users\\swayambunathajp\\AppData\\Local\\Continuum\\anaconda3\\lib\\site-packages\\ipykernel_launcher.py:5: SettingWithCopyWarning: \n",
      "A value is trying to be set on a copy of a slice from a DataFrame.\n",
      "Try using .loc[row_indexer,col_indexer] = value instead\n",
      "\n",
      "See the caveats in the documentation: http://pandas.pydata.org/pandas-docs/stable/indexing.html#indexing-view-versus-copy\n",
      "  \"\"\"\n",
      "C:\\Users\\swayambunathajp\\AppData\\Local\\Continuum\\anaconda3\\lib\\site-packages\\ipykernel_launcher.py:6: SettingWithCopyWarning: \n",
      "A value is trying to be set on a copy of a slice from a DataFrame.\n",
      "Try using .loc[row_indexer,col_indexer] = value instead\n",
      "\n",
      "See the caveats in the documentation: http://pandas.pydata.org/pandas-docs/stable/indexing.html#indexing-view-versus-copy\n",
      "  \n",
      "C:\\Users\\swayambunathajp\\AppData\\Local\\Continuum\\anaconda3\\lib\\site-packages\\ipykernel_launcher.py:12: SettingWithCopyWarning: \n",
      "A value is trying to be set on a copy of a slice from a DataFrame.\n",
      "Try using .loc[row_indexer,col_indexer] = value instead\n",
      "\n",
      "See the caveats in the documentation: http://pandas.pydata.org/pandas-docs/stable/indexing.html#indexing-view-versus-copy\n",
      "  if sys.path[0] == '':\n",
      "C:\\Users\\swayambunathajp\\AppData\\Local\\Continuum\\anaconda3\\lib\\site-packages\\ipykernel_launcher.py:13: SettingWithCopyWarning: \n",
      "A value is trying to be set on a copy of a slice from a DataFrame.\n",
      "Try using .loc[row_indexer,col_indexer] = value instead\n",
      "\n",
      "See the caveats in the documentation: http://pandas.pydata.org/pandas-docs/stable/indexing.html#indexing-view-versus-copy\n",
      "  del sys.path[0]\n",
      "C:\\Users\\swayambunathajp\\AppData\\Local\\Continuum\\anaconda3\\lib\\site-packages\\ipykernel_launcher.py:19: SettingWithCopyWarning: \n",
      "A value is trying to be set on a copy of a slice from a DataFrame.\n",
      "Try using .loc[row_indexer,col_indexer] = value instead\n",
      "\n",
      "See the caveats in the documentation: http://pandas.pydata.org/pandas-docs/stable/indexing.html#indexing-view-versus-copy\n",
      "C:\\Users\\swayambunathajp\\AppData\\Local\\Continuum\\anaconda3\\lib\\site-packages\\ipykernel_launcher.py:20: SettingWithCopyWarning: \n",
      "A value is trying to be set on a copy of a slice from a DataFrame.\n",
      "Try using .loc[row_indexer,col_indexer] = value instead\n",
      "\n",
      "See the caveats in the documentation: http://pandas.pydata.org/pandas-docs/stable/indexing.html#indexing-view-versus-copy\n",
      "C:\\Users\\swayambunathajp\\AppData\\Local\\Continuum\\anaconda3\\lib\\site-packages\\ipykernel_launcher.py:27: SettingWithCopyWarning: \n",
      "A value is trying to be set on a copy of a slice from a DataFrame.\n",
      "Try using .loc[row_indexer,col_indexer] = value instead\n",
      "\n",
      "See the caveats in the documentation: http://pandas.pydata.org/pandas-docs/stable/indexing.html#indexing-view-versus-copy\n",
      "C:\\Users\\swayambunathajp\\AppData\\Local\\Continuum\\anaconda3\\lib\\site-packages\\ipykernel_launcher.py:28: SettingWithCopyWarning: \n",
      "A value is trying to be set on a copy of a slice from a DataFrame.\n",
      "Try using .loc[row_indexer,col_indexer] = value instead\n",
      "\n",
      "See the caveats in the documentation: http://pandas.pydata.org/pandas-docs/stable/indexing.html#indexing-view-versus-copy\n"
     ]
    }
   ],
   "source": [
    "# Isolating Subjects Who've Suffered Hip Fractures in Previous Year and Calculating Mortality Within First Year Post-Hip Fracture \n",
    "\n",
    "\n",
    "mergedset_finalHF2 = mergedset_final[mergedset_final.hc2brokebon1 == '1 YES']\n",
    "mergedset_finalHF2['LML3'] = np.where(mergedset_finalHF2['r3dlmlint']=='1 Last month of life interview', 1, 0)\n",
    "mergedset_finalHF2['Mortality_Rounds_23'] = mergedset_finalHF2['LML3']*mergedset_finalHF2['w3anfinwgt0']\n",
    "\n",
    "a = mergedset_finalHF2['Mortality_Rounds_23'].sum()\n",
    "a2 = mergedset_finalHF2['w3anfinwgt0'].sum()\n",
    "\n",
    "mergedset_finalHF3 = mergedset_final[mergedset_final.hc3brokebon1 == '1 YES']\n",
    "mergedset_finalHF3['LML4'] = np.where(mergedset_finalHF3['r4dlmlint']=='1 Last month of life interview', 1, 0)\n",
    "mergedset_finalHF3['Mortality_Rounds_34'] = mergedset_finalHF3['LML4']*mergedset_finalHF3['w4anfinwgt0']\n",
    "\n",
    "b = mergedset_finalHF3['Mortality_Rounds_34'].sum()\n",
    "b2 = mergedset_finalHF3['w4anfinwgt0'].sum()\n",
    "\n",
    "mergedset_finalHF4 = mergedset_final[mergedset_final.hc4brokebon1 == '1 YES']\n",
    "mergedset_finalHF4['LML5'] = np.where(mergedset_finalHF4['r5dlmlint']=='1 Last month of life interview', 1, 0)\n",
    "mergedset_finalHF4['Mortality_Rounds_45'] = mergedset_finalHF4['LML5']*mergedset_finalHF4['w5anfinwgt0']\n",
    "\n",
    "c = mergedset_finalHF4['Mortality_Rounds_45'].sum()\n",
    "c2 = mergedset_finalHF4['w5anfinwgt0'].sum()\n",
    "\n",
    "\n",
    "mergedset_finalHF5 = mergedset_final[mergedset_final.hc5brokebon1 == '1 YES']\n",
    "mergedset_finalHF5['LML6'] = np.where(mergedset_finalHF5['r6dlmlint']=='1 Last month of life interview', 1, 0)\n",
    "mergedset_finalHF5['Mortality_Rounds_56'] = mergedset_finalHF5['LML6']*mergedset_finalHF5['w6anfinwgt0']\n",
    "\n",
    "d = mergedset_finalHF5['Mortality_Rounds_56'].sum()\n",
    "d2 = mergedset_finalHF5['w6anfinwgt0'].sum()\n",
    "\n",
    "num = a+b+c+d\n",
    "denom = a2+b2+c2+d2"
   ]
  },
  {
   "cell_type": "code",
   "execution_count": 8,
   "metadata": {},
   "outputs": [
    {
     "data": {
      "text/plain": [
       "0.13067957429112625"
      ]
     },
     "execution_count": 8,
     "metadata": {},
     "output_type": "execute_result"
    }
   ],
   "source": [
    "num/denom"
   ]
  },
  {
   "cell_type": "code",
   "execution_count": 9,
   "metadata": {},
   "outputs": [
    {
     "data": {
      "text/plain": [
       "0.09961735398031103"
      ]
     },
     "execution_count": 9,
     "metadata": {},
     "output_type": "execute_result"
    }
   ],
   "source": [
    "# Isolating Subjects Who've Suffered Hip Fractures in Previous Year and Calculating Mortality Within First Year Post-Hip Fracture \n",
    "# for Males\n",
    "\n",
    "mergedset_finalHF2 = mergedset_final[mergedset_final.hc2brokebon1 == '1 YES']\n",
    "\n",
    "# Isolating Hip Fracture Males\n",
    "\n",
    "mergedset_finalHF2 = mergedset_finalHF2[mergedset_finalHF2.r1dgender == '1 MALE']\n",
    "\n",
    "mergedset_finalHF2['LML3'] = np.where(mergedset_finalHF2['r3dlmlint']=='1 Last month of life interview', 1, 0)\n",
    "mergedset_finalHF2['Mortality_Rounds_23'] = mergedset_finalHF2['LML3']*mergedset_finalHF2['w3anfinwgt0']\n",
    "\n",
    "a = mergedset_finalHF2['Mortality_Rounds_23'].sum()\n",
    "a2 = mergedset_finalHF2['w3anfinwgt0'].sum()\n",
    "\n",
    "mergedset_finalHF3 = mergedset_final[mergedset_final.hc3brokebon1 == '1 YES']\n",
    "\n",
    "mergedset_finalHF3 = mergedset_finalHF3[mergedset_finalHF3.r1dgender == '1 MALE']\n",
    "\n",
    "mergedset_finalHF3['LML4'] = np.where(mergedset_finalHF3['r4dlmlint']=='1 Last month of life interview', 1, 0)\n",
    "mergedset_finalHF3['Mortality_Rounds_34'] = mergedset_finalHF3['LML4']*mergedset_finalHF3['w4anfinwgt0']\n",
    "\n",
    "b = mergedset_finalHF3['Mortality_Rounds_34'].sum()\n",
    "b2 = mergedset_finalHF3['w4anfinwgt0'].sum()\n",
    "\n",
    "mergedset_finalHF4 = mergedset_final[mergedset_final.hc4brokebon1 == '1 YES']\n",
    "mergedset_finalHF4 = mergedset_finalHF4[mergedset_finalHF4.r1dgender == '1 MALE']\n",
    "\n",
    "mergedset_finalHF4['LML5'] = np.where(mergedset_finalHF4['r5dlmlint']=='1 Last month of life interview', 1, 0)\n",
    "mergedset_finalHF4['Mortality_Rounds_45'] = mergedset_finalHF4['LML5']*mergedset_finalHF4['w5anfinwgt0']\n",
    "\n",
    "c = mergedset_finalHF4['Mortality_Rounds_45'].sum()\n",
    "c2 = mergedset_finalHF4['w5anfinwgt0'].sum()\n",
    "\n",
    "\n",
    "mergedset_finalHF5 = mergedset_final[mergedset_final.hc5brokebon1 == '1 YES']\n",
    "mergedset_finalHF5 = mergedset_finalHF5[mergedset_finalHF5.r1dgender == '1 MALE']\n",
    "\n",
    "mergedset_finalHF5['LML6'] = np.where(mergedset_finalHF5['r6dlmlint']=='1 Last month of life interview', 1, 0)\n",
    "mergedset_finalHF5['Mortality_Rounds_56'] = mergedset_finalHF5['LML6']*mergedset_finalHF5['w6anfinwgt0']\n",
    "\n",
    "d = mergedset_finalHF5['Mortality_Rounds_56'].sum()\n",
    "d2 = mergedset_finalHF5['w6anfinwgt0'].sum()\n",
    "\n",
    "num = a+b+c+d\n",
    "denom = a2+b2+c2+d2\n",
    "num/denom"
   ]
  },
  {
   "cell_type": "code",
   "execution_count": 10,
   "metadata": {},
   "outputs": [
    {
     "data": {
      "text/plain": [
       "0.09953352458236607"
      ]
     },
     "execution_count": 10,
     "metadata": {},
     "output_type": "execute_result"
    }
   ],
   "source": [
    "# Isolating Subjects Who've Suffered Hip Fractures in Previous Year and Calculating Mortality Within First Year Post-Hip Fracture \n",
    "# for Females\n",
    "\n",
    "mergedset_finalHF2 = mergedset_final[mergedset_final.hc2brokebon1 == '1 YES']\n",
    "\n",
    "# Isolating Hip Fracture Males\n",
    "\n",
    "mergedset_finalHF2 = mergedset_finalHF2[mergedset_finalHF2.r1dgender == '2 FEMALE']\n",
    "\n",
    "mergedset_finalHF2['LML3'] = np.where(mergedset_finalHF2['r3dlmlint']=='1 Last month of life interview', 1, 0)\n",
    "mergedset_finalHF2['Mortality_Rounds_23'] = mergedset_finalHF2['LML3']*mergedset_finalHF2['w3anfinwgt0']\n",
    "\n",
    "a = mergedset_finalHF2['Mortality_Rounds_23'].sum()\n",
    "a2 = mergedset_finalHF2['w3anfinwgt0'].sum()\n",
    "\n",
    "mergedset_finalHF3 = mergedset_final[mergedset_final.hc3brokebon1 == '1 YES']\n",
    "\n",
    "mergedset_finalHF3 = mergedset_finalHF3[mergedset_finalHF3.r1dgender == '2 FEMALE']\n",
    "\n",
    "mergedset_finalHF3['LML4'] = np.where(mergedset_finalHF3['r4dlmlint']=='1 Last month of life interview', 1, 0)\n",
    "mergedset_finalHF3['Mortality_Rounds_34'] = mergedset_finalHF3['LML4']*mergedset_finalHF3['w4anfinwgt0']\n",
    "\n",
    "b = mergedset_finalHF3['Mortality_Rounds_34'].sum()\n",
    "b2 = mergedset_finalHF3['w4anfinwgt0'].sum()\n",
    "\n",
    "mergedset_finalHF4 = mergedset_final[mergedset_final.hc4brokebon1 == '1 YES']\n",
    "mergedset_finalHF4 = mergedset_finalHF4[mergedset_finalHF4.r1dgender == '2 FEMALE']\n",
    "\n",
    "mergedset_finalHF4['LML5'] = np.where(mergedset_finalHF4['r5dlmlint']=='1 Last month of life interview', 1, 0)\n",
    "mergedset_finalHF4['Mortality_Rounds_45'] = mergedset_finalHF4['LML5']*mergedset_finalHF4['w5anfinwgt0']\n",
    "\n",
    "c = mergedset_finalHF4['Mortality_Rounds_45'].sum()\n",
    "c2 = mergedset_finalHF4['w5anfinwgt0'].sum()\n",
    "\n",
    "\n",
    "mergedset_finalHF5 = mergedset_final[mergedset_final.hc5brokebon1 == '1 YES']\n",
    "mergedset_finalHF5 = mergedset_finalHF5[mergedset_finalHF5.r1dgender == '2 FEMALE']\n",
    "\n",
    "mergedset_finalHF5['LML6'] = np.where(mergedset_finalHF5['r6dlmlint']=='1 Last month of life interview', 1, 0)\n",
    "mergedset_finalHF5['Mortality_Rounds_56'] = mergedset_finalHF5['LML6']*mergedset_finalHF5['w6anfinwgt0']\n",
    "\n",
    "d = mergedset_finalHF5['Mortality_Rounds_56'].sum()\n",
    "d2 = mergedset_finalHF5['w6anfinwgt0'].sum()\n",
    "\n",
    "num = a+b+c+d\n",
    "denom = a2+b2+c2+d2\n",
    "num/denom"
   ]
  },
  {
   "cell_type": "code",
   "execution_count": null,
   "metadata": {},
   "outputs": [],
   "source": []
  }
 ],
 "metadata": {
  "kernelspec": {
   "display_name": "Python 3",
   "language": "python",
   "name": "python3"
  },
  "language_info": {
   "codemirror_mode": {
    "name": "ipython",
    "version": 3
   },
   "file_extension": ".py",
   "mimetype": "text/x-python",
   "name": "python",
   "nbconvert_exporter": "python",
   "pygments_lexer": "ipython3",
   "version": "3.7.0"
  }
 },
 "nbformat": 4,
 "nbformat_minor": 2
}
