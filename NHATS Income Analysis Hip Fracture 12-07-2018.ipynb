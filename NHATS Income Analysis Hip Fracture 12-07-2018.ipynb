{
 "cells": [
  {
   "cell_type": "code",
   "execution_count": 65,
   "metadata": {},
   "outputs": [],
   "source": [
    "import pandas as pd \n",
    "import seaborn as sns \n",
    "import numpy as np\n",
    "import scipy as sp"
   ]
  },
  {
   "cell_type": "code",
   "execution_count": 66,
   "metadata": {},
   "outputs": [],
   "source": [
    "# Importing the Datasets \n",
    "\n",
    "df1 = pd.read_csv('Round1.csv')\n",
    "df2 = pd.read_csv('Round2.csv')\n",
    "df3 = pd.read_csv('Round3.csv')\n",
    "df4 = pd.read_csv('Round4.csv')\n",
    "df5 = pd.read_csv('Round5.csv')\n",
    "df6 = pd.read_csv('Round6.csv')\n",
    "df7 = pd.read_csv('Round7.csv')"
   ]
  },
  {
   "cell_type": "code",
   "execution_count": 67,
   "metadata": {},
   "outputs": [],
   "source": [
    "# Merging the Datasets \n",
    "\n",
    "mergedset1 = pd.merge(df1, df2, on='spid',how='left')\n",
    "mergedset2 = pd.merge(mergedset1,df3,on='spid',how='left')\n",
    "mergedset3 = pd.merge(mergedset2,df4,on='spid',how='left')\n",
    "mergedset4 = pd.merge(mergedset3,df5,on='spid',how='left')\n",
    "mergedset5 = pd.merge(mergedset4,df6,on='spid',how='left')\n",
    "mergedset_final = pd.merge(mergedset5,df7,on='spid',how='left')"
   ]
  },
  {
   "cell_type": "code",
   "execution_count": 68,
   "metadata": {},
   "outputs": [],
   "source": [
    "total_patients_arthritis = mergedset_final"
   ]
  },
  {
   "cell_type": "code",
   "execution_count": 69,
   "metadata": {},
   "outputs": [],
   "source": [
    "# Converting the Age Variable from String to Int \n",
    "\n",
    "conditions = [(total_patients_arthritis['r1d2intvrage'] == '1 - 65-69') , (total_patients_arthritis['r1d2intvrage'] == '2 - 70-74'),\n",
    "    (total_patients_arthritis['r1d2intvrage'] == '3 - 75-79') , (total_patients_arthritis['r1d2intvrage'] == '4 - 80-84'),\n",
    "    (total_patients_arthritis['r1d2intvrage'] == '5 - 85-89'), (total_patients_arthritis['r1d2intvrage'] == '6 - 90 +')]\n",
    "choices = [1,2,3,4,5,6]\n",
    "total_patients_arthritis['Age'] = np.select(conditions, choices)"
   ]
  },
  {
   "cell_type": "code",
   "execution_count": 70,
   "metadata": {},
   "outputs": [],
   "source": [
    "# Assigning Numeric Value to Variable Gender\n",
    "\n",
    "total_patients_arthritis['Gender'] = np.where(total_patients_arthritis['r1dgender'] == '1 MALE', 1, 0)"
   ]
  },
  {
   "cell_type": "code",
   "execution_count": 71,
   "metadata": {},
   "outputs": [],
   "source": [
    "# Removing the Missing Imputed Income Values Round 1 and Round 3 from the Set\n",
    "\n",
    "total_patients_arthritis = total_patients_arthritis[total_patients_arthritis.ia1toincim1 != '-1 Inapplicable']\n",
    "total_patients_arthritis = total_patients_arthritis[total_patients_arthritis.ia1toincim1 != '-9 Missing']\n",
    "total_patients_arthritis = total_patients_arthritis[total_patients_arthritis.ia1toincim1 != '.']\n",
    "\n",
    "total_patients_arthritis['ia3toincim1'] = np.where(total_patients_arthritis['ia3toincim1'] == '-1 Inapplicable', total_patients_arthritis['ia3totinc'],total_patients_arthritis['ia3toincim1'])\n",
    "total_patients_arthritis['ia3toincim2'] = np.where(total_patients_arthritis['ia3toincim2'] == '-1 Inapplicable', total_patients_arthritis['ia3totinc'],total_patients_arthritis['ia3toincim2'])\n",
    "total_patients_arthritis['ia3toincim3'] = np.where(total_patients_arthritis['ia3toincim3'] == '-1 Inapplicable', total_patients_arthritis['ia3totinc'],total_patients_arthritis['ia3toincim3'])\n",
    "total_patients_arthritis['ia3toincim4'] = np.where(total_patients_arthritis['ia3toincim4'] == '-1 Inapplicable', total_patients_arthritis['ia3totinc'],total_patients_arthritis['ia3toincim4'])\n",
    "total_patients_arthritis['ia3toincim5'] = np.where(total_patients_arthritis['ia3toincim5'] == '-1 Inapplicable', total_patients_arthritis['ia3totinc'],total_patients_arthritis['ia3toincim5'])\n",
    "\n",
    "total_patients_arthritis = total_patients_arthritis[total_patients_arthritis.ia3toincim1 != '-9 Missing']\n",
    "total_patients_arthritis = total_patients_arthritis[total_patients_arthritis.ia3toincim1 != '-1 Inapplicable']\n",
    "\n",
    "total_patients_arthritis = total_patients_arthritis[total_patients_arthritis['ia3toincim1'].notnull()]\n",
    "total_patients_arthritis = total_patients_arthritis[total_patients_arthritis['ia3toincim2'].notnull()]\n",
    "total_patients_arthritis = total_patients_arthritis[total_patients_arthritis['ia3toincim3'].notnull()]\n",
    "total_patients_arthritis = total_patients_arthritis[total_patients_arthritis['ia3toincim4'].notnull()]\n",
    "total_patients_arthritis = total_patients_arthritis[total_patients_arthritis['ia3toincim5'].notnull()]"
   ]
  },
  {
   "cell_type": "code",
   "execution_count": 72,
   "metadata": {},
   "outputs": [],
   "source": [
    "# Converting the Imputed Income Values Round 1 - Round 3 from pd.Series to float\n",
    "\n",
    "total_patients_arthritis['ia1toincim1'] = total_patients_arthritis['ia1toincim1'].astype(float)\n",
    "total_patients_arthritis['ia1toincim2'] = total_patients_arthritis['ia1toincim2'].astype(float)\n",
    "total_patients_arthritis['ia1toincim3'] = total_patients_arthritis['ia1toincim3'].astype(float)\n",
    "total_patients_arthritis['ia1toincim4'] = total_patients_arthritis['ia1toincim4'].astype(float)\n",
    "total_patients_arthritis['ia1toincim5'] = total_patients_arthritis['ia1toincim5'].astype(float)\n",
    "\n",
    "total_patients_arthritis['ia3toincim1'] = total_patients_arthritis['ia3toincim1'].astype(float)\n",
    "total_patients_arthritis['ia3toincim2'] = total_patients_arthritis['ia3toincim2'].astype(float)\n",
    "total_patients_arthritis['ia3toincim3'] = total_patients_arthritis['ia3toincim3'].astype(float)\n",
    "total_patients_arthritis['ia3toincim4'] = total_patients_arthritis['ia3toincim4'].astype(float)\n",
    "total_patients_arthritis['ia3toincim5'] = total_patients_arthritis['ia3toincim5'].astype(float)"
   ]
  },
  {
   "cell_type": "code",
   "execution_count": 73,
   "metadata": {},
   "outputs": [],
   "source": [
    "# Computing the Average Imputed Income for Round 1\n",
    "\n",
    "total_patients_arthritis['R1avg_income1-5'] = (total_patients_arthritis['ia1toincim1']+total_patients_arthritis['ia1toincim2']+total_patients_arthritis['ia1toincim3']+total_patients_arthritis['ia1toincim4']+total_patients_arthritis['ia1toincim5'])/5\n",
    "\n",
    "total_patients_arthritis['R3avg_income1-5'] = (total_patients_arthritis['ia3toincim1']+total_patients_arthritis['ia3toincim2']+total_patients_arthritis['ia3toincim3']+total_patients_arthritis['ia3toincim4']+total_patients_arthritis['ia3toincim5'])/5\n",
    "\n",
    "total_patients_arthritis['changeR1R3'] = (total_patients_arthritis['R1avg_income1-5'] - total_patients_arthritis['R3avg_income1-5'])"
   ]
  },
  {
   "cell_type": "code",
   "execution_count": 74,
   "metadata": {},
   "outputs": [],
   "source": [
    "# Separating Individuals with TJR from those Without TJR\n",
    "\n",
    "total_patients_arthritis_HF = total_patients_arthritis[total_patients_arthritis.hc1brokebon1 == '1 YES']\n",
    "total_patients_arthritis_NoHF = total_patients_arthritis[total_patients_arthritis.hc1brokebon1 == '2 NO']"
   ]
  },
  {
   "cell_type": "code",
   "execution_count": 75,
   "metadata": {},
   "outputs": [],
   "source": [
    "total_patients_arthritis_HF_Age6569 = total_patients_arthritis_HF[total_patients_arthritis_HF.Age == 1]\n",
    "total_patients_arthritis_NoHF_Age6569 = total_patients_arthritis_NoHF[total_patients_arthritis_NoHF.Age == 1]\n",
    "\n",
    "total_patients_arthritis_HF_Age7074 = total_patients_arthritis_HF[total_patients_arthritis_HF.Age == 2]\n",
    "total_patients_arthritis_NoHF_Age7074 = total_patients_arthritis_NoHF[total_patients_arthritis_NoHF.Age == 2]\n",
    "\n",
    "total_patients_arthritis_HF_Age7579 = total_patients_arthritis_HF[total_patients_arthritis_HF.Age == 3]\n",
    "total_patients_arthritis_NoHF_Age7579 = total_patients_arthritis_NoHF[total_patients_arthritis_NoHF.Age == 3]\n",
    "\n",
    "total_patients_arthritis_HF_Age8084 = total_patients_arthritis_HF[total_patients_arthritis_HF.Age == 4]\n",
    "total_patients_arthritis_NoHF_Age8084 = total_patients_arthritis_NoHF[total_patients_arthritis_NoHF.Age == 4]\n",
    "\n",
    "total_patients_arthritis_HF_Age8589 = total_patients_arthritis_HF[total_patients_arthritis_HF.Age == 5]\n",
    "total_patients_arthritis_NoHF_Age8589 = total_patients_arthritis_NoHF[total_patients_arthritis_NoHF.Age == 5]\n",
    "\n",
    "total_patients_arthritis_HF_Age90 = total_patients_arthritis_HF[total_patients_arthritis_HF.Age == 6]\n",
    "total_patients_arthritis_NoHF_Age90 = total_patients_arthritis_NoHF[total_patients_arthritis_NoHF.Age ==6]"
   ]
  },
  {
   "cell_type": "code",
   "execution_count": 76,
   "metadata": {},
   "outputs": [
    {
     "data": {
      "text/plain": [
       "MannwhitneyuResult(statistic=427666.0, pvalue=0.001653064961661865)"
      ]
     },
     "execution_count": 76,
     "metadata": {},
     "output_type": "execute_result"
    }
   ],
   "source": [
    "sp.stats.mannwhitneyu(total_patients_arthritis_HF['R1avg_income1-5'], total_patients_arthritis_NoHF['R1avg_income1-5'],alternative='less')"
   ]
  },
  {
   "cell_type": "code",
   "execution_count": 77,
   "metadata": {},
   "outputs": [
    {
     "data": {
      "text/plain": [
       "MannwhitneyuResult(statistic=421438.0, pvalue=0.0005751042650992778)"
      ]
     },
     "execution_count": 77,
     "metadata": {},
     "output_type": "execute_result"
    }
   ],
   "source": [
    "sp.stats.mannwhitneyu(total_patients_arthritis_HF['R3avg_income1-5'], total_patients_arthritis_NoHF['R3avg_income1-5'],alternative='less')"
   ]
  },
  {
   "cell_type": "code",
   "execution_count": 78,
   "metadata": {},
   "outputs": [
    {
     "data": {
      "text/plain": [
       "MannwhitneyuResult(statistic=478600.5, pvalue=0.3531437688942878)"
      ]
     },
     "execution_count": 78,
     "metadata": {},
     "output_type": "execute_result"
    }
   ],
   "source": [
    "sp.stats.mannwhitneyu(total_patients_arthritis_HF['changeR1R3'], total_patients_arthritis_NoHF['changeR1R3'],alternative=None)"
   ]
  },
  {
   "cell_type": "code",
   "execution_count": 79,
   "metadata": {},
   "outputs": [
    {
     "data": {
      "text/plain": [
       "MannwhitneyuResult(statistic=7626.5, pvalue=0.3905031885935792)"
      ]
     },
     "execution_count": 79,
     "metadata": {},
     "output_type": "execute_result"
    }
   ],
   "source": [
    "sp.stats.mannwhitneyu(total_patients_arthritis_HF_Age6569['changeR1R3'], total_patients_arthritis_NoHF_Age6569['changeR1R3'],alternative=None)"
   ]
  },
  {
   "cell_type": "code",
   "execution_count": 80,
   "metadata": {},
   "outputs": [
    {
     "data": {
      "text/plain": [
       "MannwhitneyuResult(statistic=7578.0, pvalue=0.09006962651713835)"
      ]
     },
     "execution_count": 80,
     "metadata": {},
     "output_type": "execute_result"
    }
   ],
   "source": [
    "sp.stats.mannwhitneyu(total_patients_arthritis_HF_Age7074['changeR1R3'], total_patients_arthritis_NoHF_Age7074['changeR1R3'],alternative=None)"
   ]
  },
  {
   "cell_type": "code",
   "execution_count": 81,
   "metadata": {},
   "outputs": [
    {
     "data": {
      "text/plain": [
       "MannwhitneyuResult(statistic=16490.5, pvalue=0.09339063937042852)"
      ]
     },
     "execution_count": 81,
     "metadata": {},
     "output_type": "execute_result"
    }
   ],
   "source": [
    "sp.stats.mannwhitneyu(total_patients_arthritis_HF_Age7579['changeR1R3'], total_patients_arthritis_NoHF_Age7579['changeR1R3'],alternative=None)"
   ]
  },
  {
   "cell_type": "code",
   "execution_count": 82,
   "metadata": {},
   "outputs": [
    {
     "data": {
      "text/plain": [
       "MannwhitneyuResult(statistic=22233.5, pvalue=0.38758005674632423)"
      ]
     },
     "execution_count": 82,
     "metadata": {},
     "output_type": "execute_result"
    }
   ],
   "source": [
    "sp.stats.mannwhitneyu(total_patients_arthritis_HF_Age8084['changeR1R3'], total_patients_arthritis_NoHF_Age8084['changeR1R3'],alternative=None)"
   ]
  },
  {
   "cell_type": "code",
   "execution_count": 83,
   "metadata": {},
   "outputs": [
    {
     "data": {
      "text/plain": [
       "MannwhitneyuResult(statistic=11759.5, pvalue=0.1704449236603781)"
      ]
     },
     "execution_count": 83,
     "metadata": {},
     "output_type": "execute_result"
    }
   ],
   "source": [
    "sp.stats.mannwhitneyu(total_patients_arthritis_HF_Age8589['changeR1R3'], total_patients_arthritis_NoHF_Age8589['changeR1R3'],alternative=None)"
   ]
  },
  {
   "cell_type": "code",
   "execution_count": 84,
   "metadata": {},
   "outputs": [
    {
     "data": {
      "text/plain": [
       "MannwhitneyuResult(statistic=4461.0, pvalue=0.08182454527539096)"
      ]
     },
     "execution_count": 84,
     "metadata": {},
     "output_type": "execute_result"
    }
   ],
   "source": [
    "sp.stats.mannwhitneyu(total_patients_arthritis_HF_Age90['changeR1R3'], total_patients_arthritis_NoHF_Age90['changeR1R3'],alternative=None)"
   ]
  },
  {
   "cell_type": "code",
   "execution_count": 85,
   "metadata": {},
   "outputs": [],
   "source": [
    "total_patients_arthritis['ia5toincim1'] = np.where(total_patients_arthritis['ia5toincim1'] == '-1 Inapplicable', total_patients_arthritis['ia5totinc'],total_patients_arthritis['ia5toincim1'])\n",
    "total_patients_arthritis['ia5toincim2'] = np.where(total_patients_arthritis['ia5toincim2'] == '-1 Inapplicable', total_patients_arthritis['ia5totinc'],total_patients_arthritis['ia5toincim2'])\n",
    "total_patients_arthritis['ia5toincim3'] = np.where(total_patients_arthritis['ia5toincim3'] == '-1 Inapplicable', total_patients_arthritis['ia5totinc'],total_patients_arthritis['ia5toincim3'])\n",
    "total_patients_arthritis['ia5toincim4'] = np.where(total_patients_arthritis['ia5toincim4'] == '-1 Inapplicable', total_patients_arthritis['ia5totinc'],total_patients_arthritis['ia5toincim4'])\n",
    "total_patients_arthritis['ia5toincim5'] = np.where(total_patients_arthritis['ia5toincim5'] == '-1 Inapplicable', total_patients_arthritis['ia5totinc'],total_patients_arthritis['ia5toincim5'])\n",
    "\n",
    "total_patients_arthritis = total_patients_arthritis[total_patients_arthritis.ia5toincim1 != '-9 Missing']\n",
    "total_patients_arthritis = total_patients_arthritis[total_patients_arthritis.ia5toincim1 != '-1 Inapplicable']\n",
    "\n",
    "total_patients_arthritis = total_patients_arthritis[total_patients_arthritis['ia5toincim1'].notnull()]\n",
    "total_patients_arthritis = total_patients_arthritis[total_patients_arthritis['ia5toincim2'].notnull()]\n",
    "total_patients_arthritis = total_patients_arthritis[total_patients_arthritis['ia5toincim3'].notnull()]\n",
    "total_patients_arthritis = total_patients_arthritis[total_patients_arthritis['ia5toincim4'].notnull()]\n",
    "total_patients_arthritis = total_patients_arthritis[total_patients_arthritis['ia5toincim5'].notnull()]\n",
    "\n",
    "total_patients_arthritis['ia5toincim1'] = total_patients_arthritis['ia5toincim1'].astype(float)\n",
    "total_patients_arthritis['ia5toincim2'] = total_patients_arthritis['ia5toincim2'].astype(float)\n",
    "total_patients_arthritis['ia5toincim3'] = total_patients_arthritis['ia5toincim3'].astype(float)\n",
    "total_patients_arthritis['ia5toincim4'] = total_patients_arthritis['ia5toincim4'].astype(float)\n",
    "total_patients_arthritis['ia5toincim5'] = total_patients_arthritis['ia5toincim5'].astype(float)"
   ]
  },
  {
   "cell_type": "code",
   "execution_count": 86,
   "metadata": {},
   "outputs": [],
   "source": [
    "\n",
    "total_patients_arthritis['R5avg_income1-5'] = (total_patients_arthritis['ia5toincim1']+total_patients_arthritis['ia5toincim2']+total_patients_arthritis['ia5toincim3']+total_patients_arthritis['ia5toincim4']+total_patients_arthritis['ia5toincim5'])/5\n",
    "\n",
    "total_patients_arthritis['changeR1R5'] = (total_patients_arthritis['R1avg_income1-5'] - total_patients_arthritis['R5avg_income1-5']) "
   ]
  },
  {
   "cell_type": "code",
   "execution_count": 87,
   "metadata": {},
   "outputs": [],
   "source": [
    "# Separating Individuals with TJR from those Without TJR\n",
    "\n",
    "total_patients_arthritis_HF = total_patients_arthritis[total_patients_arthritis.hc1brokebon1 == '1 YES']\n",
    "total_patients_arthritis_NoHF = total_patients_arthritis[total_patients_arthritis.hc1brokebon1 == '2 NO']"
   ]
  },
  {
   "cell_type": "code",
   "execution_count": 88,
   "metadata": {},
   "outputs": [],
   "source": [
    "total_patients_arthritis_HF_Age6569 = total_patients_arthritis_HF[total_patients_arthritis_HF.Age == 1]\n",
    "total_patients_arthritis_NoHF_Age6569 = total_patients_arthritis_NoHF[total_patients_arthritis_NoHF.Age == 1]\n",
    "\n",
    "total_patients_arthritis_HF_Age7074 = total_patients_arthritis_HF[total_patients_arthritis_HF.Age == 2]\n",
    "total_patients_arthritis_NoHF_Age7074 = total_patients_arthritis_NoHF[total_patients_arthritis_NoHF.Age == 2]\n",
    "\n",
    "total_patients_arthritis_HF_Age7579 = total_patients_arthritis_HF[total_patients_arthritis_HF.Age == 3]\n",
    "total_patients_arthritis_NoHF_Age7579 = total_patients_arthritis_NoHF[total_patients_arthritis_NoHF.Age == 3]\n",
    "\n",
    "total_patients_arthritis_HF_Age8084 = total_patients_arthritis_HF[total_patients_arthritis_HF.Age == 4]\n",
    "total_patients_arthritis_NoHF_Age8084 = total_patients_arthritis_NoHF[total_patients_arthritis_NoHF.Age == 4]\n",
    "\n",
    "total_patients_arthritis_HF_Age8589 = total_patients_arthritis_HF[total_patients_arthritis_HF.Age == 5]\n",
    "total_patients_arthritis_NoHF_Age8589 = total_patients_arthritis_NoHF[total_patients_arthritis_NoHF.Age == 5]\n",
    "\n",
    "total_patients_arthritis_HF_Age90 = total_patients_arthritis_HF[total_patients_arthritis_HF.Age == 6]\n",
    "total_patients_arthritis_NoHF_Age90 = total_patients_arthritis_NoHF[total_patients_arthritis_NoHF.Age ==6]"
   ]
  },
  {
   "cell_type": "code",
   "execution_count": 89,
   "metadata": {},
   "outputs": [
    {
     "data": {
      "text/plain": [
       "MannwhitneyuResult(statistic=211942.0, pvalue=0.007216010446076106)"
      ]
     },
     "execution_count": 89,
     "metadata": {},
     "output_type": "execute_result"
    }
   ],
   "source": [
    "sp.stats.mannwhitneyu(total_patients_arthritis_HF['R5avg_income1-5'], total_patients_arthritis_NoHF['R5avg_income1-5'],alternative='less')"
   ]
  },
  {
   "cell_type": "code",
   "execution_count": 90,
   "metadata": {},
   "outputs": [
    {
     "data": {
      "text/plain": [
       "MannwhitneyuResult(statistic=240731.0, pvalue=0.47647571108245873)"
      ]
     },
     "execution_count": 90,
     "metadata": {},
     "output_type": "execute_result"
    }
   ],
   "source": [
    "sp.stats.mannwhitneyu(total_patients_arthritis_HF['changeR1R5'], total_patients_arthritis_NoHF['changeR1R5'],alternative=None)"
   ]
  },
  {
   "cell_type": "code",
   "execution_count": 91,
   "metadata": {},
   "outputs": [
    {
     "data": {
      "text/plain": [
       "MannwhitneyuResult(statistic=5289.0, pvalue=0.4426980485461527)"
      ]
     },
     "execution_count": 91,
     "metadata": {},
     "output_type": "execute_result"
    }
   ],
   "source": [
    "sp.stats.mannwhitneyu(total_patients_arthritis_HF_Age6569['changeR1R5'], total_patients_arthritis_NoHF_Age6569['changeR1R5'],alternative=None)"
   ]
  },
  {
   "cell_type": "code",
   "execution_count": 92,
   "metadata": {},
   "outputs": [
    {
     "data": {
      "text/plain": [
       "MannwhitneyuResult(statistic=6465.0, pvalue=0.4938791193203743)"
      ]
     },
     "execution_count": 92,
     "metadata": {},
     "output_type": "execute_result"
    }
   ],
   "source": [
    "sp.stats.mannwhitneyu(total_patients_arthritis_HF_Age7074['changeR1R5'], total_patients_arthritis_NoHF_Age7074['changeR1R5'],alternative=None)"
   ]
  },
  {
   "cell_type": "code",
   "execution_count": 93,
   "metadata": {},
   "outputs": [
    {
     "data": {
      "text/plain": [
       "MannwhitneyuResult(statistic=8480.5, pvalue=0.03773684957763164)"
      ]
     },
     "execution_count": 93,
     "metadata": {},
     "output_type": "execute_result"
    }
   ],
   "source": [
    "sp.stats.mannwhitneyu(total_patients_arthritis_HF_Age7579['changeR1R5'], total_patients_arthritis_NoHF_Age7579['changeR1R5'],alternative=None)"
   ]
  },
  {
   "cell_type": "code",
   "execution_count": 94,
   "metadata": {},
   "outputs": [
    {
     "data": {
      "text/plain": [
       "MannwhitneyuResult(statistic=11065.5, pvalue=0.47568886379442926)"
      ]
     },
     "execution_count": 94,
     "metadata": {},
     "output_type": "execute_result"
    }
   ],
   "source": [
    "sp.stats.mannwhitneyu(total_patients_arthritis_HF_Age8084['changeR1R5'], total_patients_arthritis_NoHF_Age8084['changeR1R5'],alternative=None)"
   ]
  },
  {
   "cell_type": "code",
   "execution_count": 95,
   "metadata": {},
   "outputs": [
    {
     "data": {
      "text/plain": [
       "MannwhitneyuResult(statistic=4439.5, pvalue=0.2517462636693345)"
      ]
     },
     "execution_count": 95,
     "metadata": {},
     "output_type": "execute_result"
    }
   ],
   "source": [
    "sp.stats.mannwhitneyu(total_patients_arthritis_HF_Age8589['changeR1R5'], total_patients_arthritis_NoHF_Age8589['changeR1R5'],alternative=None)"
   ]
  },
  {
   "cell_type": "code",
   "execution_count": 96,
   "metadata": {},
   "outputs": [
    {
     "data": {
      "text/plain": [
       "MannwhitneyuResult(statistic=1139.0, pvalue=0.14018180329768387)"
      ]
     },
     "execution_count": 96,
     "metadata": {},
     "output_type": "execute_result"
    }
   ],
   "source": [
    "sp.stats.mannwhitneyu(total_patients_arthritis_HF_Age90['changeR1R5'], total_patients_arthritis_NoHF_Age90['changeR1R5'],alternative=None)"
   ]
  },
  {
   "cell_type": "code",
   "execution_count": 97,
   "metadata": {},
   "outputs": [
    {
     "ename": "NameError",
     "evalue": "name 'tips' is not defined",
     "output_type": "error",
     "traceback": [
      "\u001b[1;31m---------------------------------------------------------------------------\u001b[0m",
      "\u001b[1;31mNameError\u001b[0m                                 Traceback (most recent call last)",
      "\u001b[1;32m<ipython-input-97-304f2859b425>\u001b[0m in \u001b[0;36m<module>\u001b[1;34m()\u001b[0m\n\u001b[1;32m----> 1\u001b[1;33m \u001b[0mtotal_patients_arthritis\u001b[0m \u001b[1;33m=\u001b[0m \u001b[0msns\u001b[0m\u001b[1;33m.\u001b[0m\u001b[0mboxplot\u001b[0m\u001b[1;33m(\u001b[0m\u001b[0mx\u001b[0m\u001b[1;33m=\u001b[0m\u001b[1;34m\"time\"\u001b[0m\u001b[1;33m,\u001b[0m \u001b[0my\u001b[0m\u001b[1;33m=\u001b[0m\u001b[1;34m\"tip\"\u001b[0m\u001b[1;33m,\u001b[0m \u001b[0mdata\u001b[0m\u001b[1;33m=\u001b[0m\u001b[0mtips\u001b[0m\u001b[1;33m,\u001b[0m \u001b[0morder\u001b[0m\u001b[1;33m=\u001b[0m\u001b[1;33m[\u001b[0m\u001b[1;34m\"Dinner\"\u001b[0m\u001b[1;33m,\u001b[0m \u001b[1;34m\"Lunch\"\u001b[0m\u001b[1;33m]\u001b[0m\u001b[1;33m)\u001b[0m\u001b[1;33m\u001b[0m\u001b[0m\n\u001b[0m",
      "\u001b[1;31mNameError\u001b[0m: name 'tips' is not defined"
     ]
    }
   ],
   "source": [
    "total_patients_arthritis = sns.boxplot(x=\"time\", y=\"tip\", data=tips, order=[\"Dinner\", \"Lunch\"])"
   ]
  }
 ],
 "metadata": {
  "kernelspec": {
   "display_name": "Python 3",
   "language": "python",
   "name": "python3"
  },
  "language_info": {
   "codemirror_mode": {
    "name": "ipython",
    "version": 3
   },
   "file_extension": ".py",
   "mimetype": "text/x-python",
   "name": "python",
   "nbconvert_exporter": "python",
   "pygments_lexer": "ipython3",
   "version": "3.7.0"
  }
 },
 "nbformat": 4,
 "nbformat_minor": 2
}
